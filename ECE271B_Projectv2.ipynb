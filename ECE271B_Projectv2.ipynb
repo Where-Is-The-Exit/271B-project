{
  "nbformat": 4,
  "nbformat_minor": 0,
  "metadata": {
    "kernelspec": {
      "display_name": "Python 3",
      "language": "python",
      "name": "python3"
    },
    "language_info": {
      "codemirror_mode": {
        "name": "ipython",
        "version": 3
      },
      "file_extension": ".py",
      "mimetype": "text/x-python",
      "name": "python",
      "nbconvert_exporter": "python",
      "pygments_lexer": "ipython3",
      "version": "3.8.5"
    },
    "colab": {
      "name": "ECE271B Projectv2.ipynb",
      "provenance": [],
      "collapsed_sections": [
        "2IuzealHngUj"
      ],
      "include_colab_link": true
    }
  },
  "cells": [
    {
      "cell_type": "markdown",
      "metadata": {
        "id": "view-in-github",
        "colab_type": "text"
      },
      "source": [
        "<a href=\"https://colab.research.google.com/github/Where-Is-The-Exit/271B-project/blob/main/ECE271B_Projectv2.ipynb\" target=\"_parent\"><img src=\"https://colab.research.google.com/assets/colab-badge.svg\" alt=\"Open In Colab\"/></a>"
      ]
    },
    {
      "cell_type": "code",
      "metadata": {
        "id": "o24viqGxngTk"
      },
      "source": [
        "import pandas as pd \n",
        "import numpy as np\n",
        "import matplotlib.pyplot as plt\n",
        "from sklearn.linear_model import LogisticRegression as LR\n",
        "from sklearn.model_selection import train_test_split as tts\n",
        "import scipy"
      ],
      "execution_count": 1,
      "outputs": []
    },
    {
      "cell_type": "code",
      "metadata": {
        "colab": {
          "base_uri": "https://localhost:8080/"
        },
        "id": "H-0zX4o9ngUb",
        "outputId": "021b48de-66a6-417b-f705-3c6113e12516"
      },
      "source": [
        "!git clone https://github.com/RicardoRamirez2020/GCN_Cancer"
      ],
      "execution_count": 2,
      "outputs": [
        {
          "output_type": "stream",
          "text": [
            "fatal: destination path 'GCN_Cancer' already exists and is not an empty directory.\n"
          ],
          "name": "stdout"
        }
      ]
    },
    {
      "cell_type": "code",
      "metadata": {
        "colab": {
          "base_uri": "https://localhost:8080/"
        },
        "id": "ZFpc6Wd2n0_X",
        "outputId": "2e619d60-9217-4f09-81dc-9048c3f3eedd"
      },
      "source": [
        "cd GCN_Cancer"
      ],
      "execution_count": 3,
      "outputs": [
        {
          "output_type": "stream",
          "text": [
            "/content/GCN_Cancer\n"
          ],
          "name": "stdout"
        }
      ]
    },
    {
      "cell_type": "code",
      "metadata": {
        "colab": {
          "base_uri": "https://localhost:8080/"
        },
        "id": "ttOGeOGnn2rt",
        "outputId": "f643e57f-b27c-414c-8890-4b9484c8032f"
      },
      "source": [
        "cd GCN_Cancer"
      ],
      "execution_count": 4,
      "outputs": [
        {
          "output_type": "stream",
          "text": [
            "/content/GCN_Cancer/GCN_Cancer\n"
          ],
          "name": "stdout"
        }
      ]
    },
    {
      "cell_type": "code",
      "metadata": {
        "colab": {
          "base_uri": "https://localhost:8080/"
        },
        "id": "BHs29Qd5ngUd",
        "outputId": "c97409c6-43cb-460b-c630-7ef99984650a"
      },
      "source": [
        "%tensorflow_version 1.x\n",
        "import tensorflow as tf\n",
        "#import tensorflow.compat.v1 as tf\n",
        "#tensorflow-gpu==1.15.0\n",
        "from keras.optimizers import SGD\n",
        "from keras.datasets import cifar10\n",
        "from keras.models import Sequential\n",
        "from keras.utils import np_utils\n",
        "from keras.layers import Dropout, Dense, Flatten\n",
        "from keras.layers.convolutional import Conv1D, MaxPooling1D\n",
        "import sys\n",
        "#sys.path.append(\"C:\\Users\\David\\Downloads\\lib\\graph\") \n",
        "from lib import graph\n",
        "#sys.path.append(\"/Users/david/Downloads/lib/coarsening\") \n",
        "from lib import coarsening\n",
        "#sys.path.append(\"/Users/david/Downloads/lib/models\") \n",
        "from lib import models\n",
        "from lib import utils"
      ],
      "execution_count": 5,
      "outputs": [
        {
          "output_type": "stream",
          "text": [
            "TensorFlow 1.x selected.\n"
          ],
          "name": "stdout"
        },
        {
          "output_type": "stream",
          "text": [
            "Using TensorFlow backend.\n"
          ],
          "name": "stderr"
        }
      ]
    },
    {
      "cell_type": "code",
      "metadata": {
        "id": "4Hs_Nfe5ngUe"
      },
      "source": [
        "#Start writing co_1_7 = pd.ExcelFile('/work/beng212_1_7.xlsx')\n",
        "_1_7 = pd.ExcelFile('beng212_1_7 (1).xlsx')\n",
        "#population_dist = pd.read_excel(_1_7,sheet_name = 'population_dist',header = 0)\n",
        "#metagenome_dem = pd.read_excel(_1_7,sheet_name = 'metagenome_demographics',header = 0)\n",
        "#metabolome_dem = pd.read_excel(_1_7,sheet_name = 'metabolome_demographics',header = 0)\n",
        "#metagenome_clinical = pd.read_excel(_1_7,sheet_name = 'metagenome_clinical',header = 0)\n",
        "metabolome_clinical = pd.read_excel(_1_7,sheet_name = 'metabolome_clinical',header = 0)\n",
        "#charged_metabolites = pd.read_excel(_1_7,sheet_name = 'charged_metabolites_list',header = 0)\n",
        "#kegg_codes = pd.read_excel(_1_7,sheet_name = 'kegg_codes',header = 0)\n",
        "#kegg_orth_ids = pd.read_excel(_1_7,sheet_name = 'kegg_orth_IDs',header = 0)\n",
        "#metabolite_profiles = pd.read_excel(\"paper_data.xlsx\", sheet_name = 'Table_S13', header = 0, skiprows = lambda x: x in [0,1,2])\n",
        "metabolite_profiles = pd.read_csv(\"metabolite_profiles.csv\")\n",
        "metabolite_profiles=metabolite_profiles.rename(columns={'Unnamed: 0':'Metabolites'})\n",
        "\n",
        "#metagenomic_data = pd.read_excel(_1_7,sheet_name = 'patient_metagenomic_data',header = 0)de here...\n",
        "#metabolome_dem"
      ],
      "execution_count": 6,
      "outputs": []
    },
    {
      "cell_type": "code",
      "metadata": {
        "id": "JLdaR3M3ngUg"
      },
      "source": [
        "#metabolite_profiles.to_csv(\"metabolite_profiles.csv\")"
      ],
      "execution_count": 7,
      "outputs": []
    },
    {
      "cell_type": "code",
      "metadata": {
        "id": "44cIbL_kngUg"
      },
      "source": [
        "X = metabolite_profiles.transpose()\n",
        "X = X.rename(columns=X.iloc[0])\n",
        "X = X.loc[~(X==0).all(axis=1)]\n",
        "X = X.drop(X.index[0])\n",
        "X = X.sort_index(axis = 0)\n",
        "#Pval = calculate_pvalues(X.transpose())\n",
        "#Pval[Pval<=.0001]=1\n",
        "#Pval[(Pval>.0001) & (Pval<1)] = 0\n",
        "#Pval\n",
        "y = metabolome_clinical.sort_index()['Group']\n",
        "y = y.replace('Stage_III_IV','Cancer')\n",
        "y = y.replace('Stage_I_II','Cancer')\n",
        "y = y.replace('Stage_0','Cancer')\n",
        "y = y.replace('MP','Healthy')\n",
        "y = y.replace('HS','Healthy')\n",
        "y = y.replace('Healthy', 1)\n",
        "y = y.replace('Cancer', 2)"
      ],
      "execution_count": 8,
      "outputs": []
    },
    {
      "cell_type": "code",
      "metadata": {
        "id": "tMrSaDfIkERI"
      },
      "source": [
        "X = X.astype(\"float32\")\r\n",
        "Cor = X.corr(method='spearman')\r\n",
        "Cor[abs(Cor)>.5]=1\r\n",
        "Cor[abs(Cor)<.5]=0\r\n",
        "#drop_indices = C[(C == 0).sum(axis=1)>=(len(C.columns)-1)].index\r\n",
        "#C = C.drop(drop_indices)\r\n",
        "#C\r\n",
        "Cor = Cor[~((Cor == 0).sum(axis=1)>=(len(Cor.columns)-1))].transpose()\r\n",
        "Cor = Cor[~((Cor == 0).sum(axis=1)>=(len(Cor.columns)-1))].transpose()\r\n",
        "Cor.index\r\n",
        "X = X[Cor.index]"
      ],
      "execution_count": 9,
      "outputs": []
    },
    {
      "cell_type": "markdown",
      "metadata": {
        "id": "zCs6oUk-ngUi"
      },
      "source": [
        "### Logistic Regression"
      ]
    },
    {
      "cell_type": "code",
      "metadata": {
        "colab": {
          "base_uri": "https://localhost:8080/"
        },
        "id": "yfJJtYqongUi",
        "outputId": "3182b670-da30-401e-fc02-84761bffaae8"
      },
      "source": [
        "X_train, X_test, y_train, y_test = tts(X,y, test_size=0.3, random_state=0)\n",
        "lr= LR(max_iter = 1000000000)\n",
        "lr.fit(X_train, y_train)\n",
        "y_pred = lr.predict(X_test)\n",
        "print('Accuracy of logistic regression classifier on test set: {:.2f}'.format(lr.score(X_test, y_test)))"
      ],
      "execution_count": 10,
      "outputs": [
        {
          "output_type": "stream",
          "text": [
            "Accuracy of logistic regression classifier on test set: 0.70\n"
          ],
          "name": "stdout"
        }
      ]
    },
    {
      "cell_type": "markdown",
      "metadata": {
        "id": "2IuzealHngUj"
      },
      "source": [
        "### CNN"
      ]
    },
    {
      "cell_type": "code",
      "metadata": {
        "id": "Ity1dAflngUk"
      },
      "source": [
        "def evaluate_model(trainX, trainy, testX, testy):\n",
        "    verbose, epochs, batch_size = 0, 10, 1\n",
        "    n_timesteps, n_features, n_outputs = trainX.shape[1], trainX.shape[2], trainy.shape[1]; print('step2:', n_timesteps, n_features,n_outputs)\n",
        "    model = Sequential(); print('setup model')\n",
        "    model.add(Conv1D(filters=64, kernel_size=10, activation='relu',input_shape = (n_timesteps, n_features)));print('L1')\n",
        "    model.add(Conv1D(filters=64, kernel_size=10, activation='relu')); print('L2')\n",
        "    model.add(Dropout(0.5)); print('L3')\n",
        "    model.add(MaxPooling1D(pool_size=1)); print('L4')   \n",
        "    model.add(Flatten()); print('flatten')\n",
        "    model.add(Dense(100, activation='relu')); print('dense layer')\n",
        "    model.add(Dense(n_outputs, activation='softmax')); print('final layer')\n",
        "    model.compile(loss='categorical_crossentropy', optimizer='adam', metrics=['binary_accuracy']); print('compile')\n",
        "    #train_data = tf.data.Dataset.from_tensor_slices((trainX, trainy)); print('train_data')\n",
        "    #valid_data = tf.data.Dataset.from_tensor_slices((testX, testy));print('tesr_data')\n",
        "    #train_data = np.asarray(train_data).astype('float32')\n",
        "    #valid_data = np.asarray(test_data).astype('float32')\n",
        "    print('tryna fit')\n",
        "    model.fit(trainX,trainy, epochs=epochs, batch_size=batch_size, verbose=verbose);  print('fit');\n",
        "    a, accuracy = model.evaluate(testX, testy, batch_size=batch_size, verbose=0);\n",
        "    #return accuracy\n",
        "    return a,accuracy"
      ],
      "execution_count": 11,
      "outputs": []
    },
    {
      "cell_type": "code",
      "metadata": {
        "colab": {
          "base_uri": "https://localhost:8080/"
        },
        "id": "-UBRA2x-ngUl",
        "outputId": "6c06b4d9-91b4-4003-db0d-7f3eee1e6298"
      },
      "source": [
        "X_train, X_test, y_train, y_test = tts(X,y, test_size=0.5)\n",
        "X_test = np.expand_dims(X_test,axis = 0)\n",
        "y_test = np.expand_dims(y_test, axis = 0)\n",
        "X_train = np.expand_dims(X_train,axis = 0)\n",
        "y_train = np.expand_dims(y_train, axis = 0)\n",
        "X_train = np.asarray(X_train ).astype('float32')\n",
        "y_train = np.asarray(y_train).astype('float32')\n",
        "X_test = np.asarray(X_test ).astype('float32')\n",
        "y_test = np.asarray(y_test).astype('float32')\n",
        "evaluate_model(X_train, y_train, X_test, y_test)"
      ],
      "execution_count": 12,
      "outputs": [
        {
          "output_type": "stream",
          "text": [
            "step2: 203 194 203\n",
            "setup model\n",
            "WARNING:tensorflow:From /tensorflow-1.15.2/python3.7/tensorflow_core/python/ops/resource_variable_ops.py:1630: calling BaseResourceVariable.__init__ (from tensorflow.python.ops.resource_variable_ops) with constraint is deprecated and will be removed in a future version.\n",
            "Instructions for updating:\n",
            "If using Keras pass *_constraint arguments to layers.\n",
            "L1\n",
            "L2\n",
            "L3\n",
            "WARNING:tensorflow:From /tensorflow-1.15.2/python3.7/keras/backend/tensorflow_backend.py:4070: The name tf.nn.max_pool is deprecated. Please use tf.nn.max_pool2d instead.\n",
            "\n",
            "L4\n",
            "flatten\n",
            "dense layer\n",
            "final layer\n",
            "compile\n",
            "tryna fit\n",
            "WARNING:tensorflow:From /tensorflow-1.15.2/python3.7/keras/backend/tensorflow_backend.py:422: The name tf.global_variables is deprecated. Please use tf.compat.v1.global_variables instead.\n",
            "\n",
            "fit\n"
          ],
          "name": "stdout"
        },
        {
          "output_type": "execute_result",
          "data": {
            "text/plain": [
              "(1449073664.0, 0.0)"
            ]
          },
          "metadata": {
            "tags": []
          },
          "execution_count": 12
        }
      ]
    },
    {
      "cell_type": "markdown",
      "metadata": {
        "id": "CNK9v2fxngUm"
      },
      "source": [
        "This pord"
      ]
    },
    {
      "cell_type": "markdown",
      "metadata": {
        "id": "pf28jiywngUn"
      },
      "source": [
        "### GCN"
      ]
    },
    {
      "cell_type": "code",
      "metadata": {
        "id": "pcU4TGxrngUo"
      },
      "source": [
        "#C = 2\n",
        "#params = dict()\n",
        "#params['dir_name']       = 'demo'\n",
        "#params['num_epochs']     = 1000\n",
        "#params['batch_size']     = 250\n",
        "#params['eval_frequency'] = 100\n",
        "#\n",
        "## Building blocks.\n",
        "#params['filter']         = 'chebyshev5'\n",
        "#params['brelu']          = 'b1relu'\n",
        "#params['pool']           = 'apool1'\n",
        "#\n",
        "## Number of classes.\n",
        "#C = 2\n",
        "## Architecture.\n",
        "#params['F']              = [2, 4]  # Number of graph convolutional filters.\n",
        "#params['K']              = [2, 2]  # Polynomial orders.\n",
        "#params['p']              = [8, 4]    # Pooling sizes.\n",
        "#params['M']              = [2, C]  # Output dimensionality of fully connected layers.\n",
        "#\n",
        "## Optimization.\n",
        "#params['regularization'] = 5e-3\n",
        "#params['dropout']        = 1\n",
        "#params['learning_rate']  = .005\n",
        "#params['decay_rate']     = 0.9\n",
        "#params['momentum']       = 0\n",
        "#params['decay_steps']    = len(X_train) / params['batch_size']\n",
        "\n"
      ],
      "execution_count": 13,
      "outputs": []
    },
    {
      "cell_type": "code",
      "metadata": {
        "id": "WhMWJIiG1wQe"
      },
      "source": [
        "#from scipy.stats import pearsonr\r\n",
        "##from https://stackoverflow.com/questions/25571882/pandas-columns-correlation-with-statistical-significance\r\n",
        "#def calculate_pvalues(df):\r\n",
        "#    df = df.dropna()._get_numeric_data()\r\n",
        "#    dfcols = pd.DataFrame(columns=df.columns)\r\n",
        "#    pvalues = dfcols.transpose().join(dfcols, how='outer')\r\n",
        "#    for r in df.columns:\r\n",
        "#        for c in df.columns:\r\n",
        "#            pvalues[r][c] = round(pearsonr(df[r], df[c])[1], 4)\r\n",
        "#    return pvalues"
      ],
      "execution_count": 14,
      "outputs": []
    },
    {
      "cell_type": "code",
      "metadata": {
        "id": "ZMcs6wmZRhR0"
      },
      "source": [
        "#PVALUES = calculate_pvalues(O)"
      ],
      "execution_count": 15,
      "outputs": []
    },
    {
      "cell_type": "code",
      "metadata": {
        "id": "cS-idIwE_ASu"
      },
      "source": [
        "#X = X.astype(float)\r\n",
        "#C = X.corr(method='spearman')\r\n",
        "#Pval = calculate_pvalues(C)\r\n",
        "#Pval[Pval<=.00001]=1\r\n",
        "#Pval[(Pval>.00001) & (Pval<1)] = 0\r\n",
        "#Pval"
      ],
      "execution_count": 16,
      "outputs": []
    },
    {
      "cell_type": "code",
      "metadata": {
        "id": "V8cgi5T-J8ce"
      },
      "source": [
        "F = scipy.sparse.csr_matrix(Cor)\r\n",
        "F.setdiag(0)"
      ],
      "execution_count": 17,
      "outputs": []
    },
    {
      "cell_type": "code",
      "metadata": {
        "colab": {
          "base_uri": "https://localhost:8080/",
          "height": 337
        },
        "id": "WRcBJzb6ngUp",
        "outputId": "28035a32-dd3c-400a-9130-b675c9dffc60"
      },
      "source": [
        "X_train, X_test, y_train, y_test = tts(X,y, test_size=0.3)\n",
        "X_train = np.asarray(X_train ).astype('float32')\n",
        "y_train = np.asarray(y_train).astype('float32')-1\n",
        "X_test = np.asarray(X_test ).astype('float32')\n",
        "y_test = np.asarray(y_test).astype('float32')-1\n",
        "dist, idx = graph.distance_scipy_spatial(X_train.T, k=10, metric='euclidean')\n",
        "A = graph.adjacency(dist, idx).astype(np.float64)\n",
        "\n",
        "\n",
        "assert A.shape == (194, 194)\n",
        "print('d = |V| = {}, k|V| < |E| = {}'.format(450, A.nnz))\n",
        "#print(plt.spy(A, markersize=2, color='black'))\n",
        "plt.spy(F, markersize=2, color = 'black')\n"
      ],
      "execution_count": 18,
      "outputs": [
        {
          "output_type": "stream",
          "text": [
            "194\n",
            "[  0   0   0 ... 193 193 193]\n",
            "d = |V| = 450, k|V| < |E| = 3636\n"
          ],
          "name": "stdout"
        },
        {
          "output_type": "execute_result",
          "data": {
            "text/plain": [
              "<matplotlib.lines.Line2D at 0x7f054e3517d0>"
            ]
          },
          "metadata": {
            "tags": []
          },
          "execution_count": 18
        },
        {
          "output_type": "display_data",
          "data": {
            "image/png": "[encoded data removed]",
            "text/plain": [
              "<Figure size 432x288 with 1 Axes>"
            ]
          },
          "metadata": {
            "tags": [],
            "needs_background": "light"
          }
        }
      ]
    },
    {
      "cell_type": "code",
      "metadata": {
        "colab": {
          "base_uri": "https://localhost:8080/"
        },
        "id": "_PPJHEZRngU3",
        "outputId": "d1fd5b5f-abe5-4acc-edba-3b58a0a8de2a"
      },
      "source": [
        "graphs, perm = coarsening.coarsen(F, levels=5, self_connections=False)\n",
        "#Any reason for coarsening into 3 levels? What's significance of levels?\n",
        "X_train = coarsening.perm_data(X_train, perm)\n",
        "X_test = coarsening.perm_data(X_test, perm)\n",
        "L = [graph.laplacian(F, normalized=True) for F in graphs]\n",
        "\n",
        "#graph.plot_spectrum(L)"
      ],
      "execution_count": 19,
      "outputs": [
        {
          "output_type": "stream",
          "text": [
            "Layer 0: M_0 = |V| = 832 nodes (638 added),|E| = 744 edges\n",
            "Layer 1: M_1 = |V| = 416 nodes (311 added),|E| = 405 edges\n",
            "Layer 2: M_2 = |V| = 208 nodes (145 added),|E| = 194 edges\n",
            "Layer 3: M_3 = |V| = 104 nodes (61 added),|E| = 85 edges\n",
            "Layer 4: M_4 = |V| = 52 nodes (20 added),|E| = 26 edges\n",
            "Layer 5: M_5 = |V| = 26 nodes (0 added),|E| = 8 edges\n"
          ],
          "name": "stdout"
        }
      ]
    },
    {
      "cell_type": "code",
      "metadata": {
        "id": "VE5TYStjxbno"
      },
      "source": [
        "C = 2\r\n",
        "common = {}\r\n",
        "common['dir_name']       = 'PPI/'\r\n",
        "common['num_epochs']     = 1000\r\n",
        "common['batch_size']     = 100\r\n",
        "common['decay_steps']    = 17.7 # * common['num_epochs'] since not used use as in momentum \r\n",
        "common['eval_frequency'] = 100 #* common['num_epochs']\r\n",
        "common['brelu']          = 'b1relu'\r\n",
        "common['pool']           = 'apool1'\r\n",
        "\r\n",
        "model_perf = utils.model_perf()\r\n",
        "\r\n",
        "common['regularization'] = 0\r\n",
        "common['dropout']        = 1\r\n",
        "common['learning_rate']  = .005\r\n",
        "common['decay_rate']     = 0.95\r\n",
        "common['momentum']       = 0\r\n",
        "\r\n",
        "common['F']              = [1]\r\n",
        "common['K']              = [1]\r\n",
        "common['p']              = [2]\r\n",
        "common['M']              = [8,C]"
      ],
      "execution_count": 20,
      "outputs": []
    },
    {
      "cell_type": "code",
      "metadata": {
        "colab": {
          "base_uri": "https://localhost:8080/"
        },
        "id": "sWwm2YoLngU4",
        "outputId": "57010e2a-adaf-4936-b244-01883dd8c114"
      },
      "source": [
        "#import tensorflow.compat.v1 as tf1\n",
        "#tf1.disable_v2_behavior()\n",
        "name = 'Run1'\n",
        "params = common.copy()\n",
        "params['dir_name'] += name\n",
        "#    params['filter'] = 'chebyshev5'\n",
        "params['filter'] = 'chebyshev2'\n",
        "params['brelu'] = 'b1relu'\n",
        "model = models.cgcnn(L,**params)#params['F'],params['K'],params['p'],params['M'])\n",
        "model.fit(X_train, y_train, X_test, y_test)"
      ],
      "execution_count": 21,
      "outputs": [
        {
          "output_type": "stream",
          "text": [
            "NN architecture\n",
            "  input: M_0 = 832\n",
            "  layer 1: cgconv1\n",
            "    representation: M_0 * F_1 / p_1 = 832 * 1 / 2 = 416\n",
            "    weights: F_0 * F_1 * K_1 = 1 * 1 * 1 = 1\n",
            "    biases: F_1 = 1\n",
            "  layer 2: fc1\n",
            "    representation: M_2 = 8\n",
            "    weights: M_1 * M_2 = 416 * 8 = 3328\n",
            "    biases: M_2 = 8\n",
            "  layer 3: logits (softmax)\n",
            "    representation: M_3 = 2\n",
            "    weights: M_2 * M_3 = 8 * 2 = 16\n",
            "    biases: M_3 = 2\n",
            "WARNING:tensorflow:From /content/GCN_Cancer/GCN_Cancer/lib/models.py:175: The name tf.placeholder is deprecated. Please use tf.compat.v1.placeholder instead.\n",
            "\n",
            "WARNING:tensorflow:From /content/GCN_Cancer/GCN_Cancer/lib/models.py:977: The name tf.variable_scope is deprecated. Please use tf.compat.v1.variable_scope instead.\n",
            "\n",
            "L type = float32\n",
            "x type = <dtype: 'float32'>\n",
            "WARNING:tensorflow:From /content/GCN_Cancer/GCN_Cancer/lib/models.py:891: py_func (from tensorflow.python.ops.script_ops) is deprecated and will be removed in a future version.\n",
            "Instructions for updating:\n",
            "tf.py_func is deprecated in TF V2. Instead, there are two\n",
            "    options available in V2.\n",
            "    - tf.py_function takes a python function which manipulates tf eager\n",
            "    tensors instead of numpy arrays. It's easy to convert a tf eager tensor to\n",
            "    an ndarray (just call tensor.numpy()) but having access to eager tensors\n",
            "    means `tf.py_function`s can use accelerators such as GPUs as well as\n",
            "    being differentiable using a gradient tape.\n",
            "    - tf.numpy_function maintains the semantics of the deprecated tf.py_func\n",
            "    (it is not differentiable, and manipulates numpy arrays). It drops the\n",
            "    stateful argument making all functions stateful.\n",
            "    \n",
            "WARNING:tensorflow:From /content/GCN_Cancer/GCN_Cancer/lib/models.py:293: The name tf.get_variable is deprecated. Please use tf.compat.v1.get_variable instead.\n",
            "\n",
            "WARNING:tensorflow:From /content/GCN_Cancer/GCN_Cancer/lib/models.py:296: The name tf.summary.histogram is deprecated. Please use tf.compat.v1.summary.histogram instead.\n",
            "\n",
            "WARNING:tensorflow:From /content/GCN_Cancer/GCN_Cancer/lib/models.py:960: The name tf.nn.avg_pool is deprecated. Please use tf.nn.avg_pool2d instead.\n",
            "\n",
            "WARNING:tensorflow:From /content/GCN_Cancer/GCN_Cancer/lib/models.py:991: calling dropout (from tensorflow.python.ops.nn_ops) with keep_prob is deprecated and will be removed in a future version.\n",
            "Instructions for updating:\n",
            "Please use `rate` instead of `keep_prob`. Rate should be set to `rate = 1 - keep_prob`.\n",
            "WARNING:tensorflow:From /content/GCN_Cancer/GCN_Cancer/lib/models.py:228: to_int64 (from tensorflow.python.ops.math_ops) is deprecated and will be removed in a future version.\n",
            "Instructions for updating:\n",
            "Use `tf.cast` instead.\n",
            "WARNING:tensorflow:From /content/GCN_Cancer/GCN_Cancer/lib/models.py:236: The name tf.summary.scalar is deprecated. Please use tf.compat.v1.summary.scalar instead.\n",
            "\n",
            "WARNING:tensorflow:From /content/GCN_Cancer/GCN_Cancer/lib/models.py:255: The name tf.train.exponential_decay is deprecated. Please use tf.compat.v1.train.exponential_decay instead.\n",
            "\n",
            "WARNING:tensorflow:From /content/GCN_Cancer/GCN_Cancer/lib/models.py:261: The name tf.train.AdamOptimizer is deprecated. Please use tf.compat.v1.train.AdamOptimizer instead.\n",
            "\n",
            "WARNING:tensorflow:From /content/GCN_Cancer/GCN_Cancer/lib/models.py:187: The name tf.global_variables_initializer is deprecated. Please use tf.compat.v1.global_variables_initializer instead.\n",
            "\n",
            "WARNING:tensorflow:From /content/GCN_Cancer/GCN_Cancer/lib/models.py:190: The name tf.summary.merge_all is deprecated. Please use tf.compat.v1.summary.merge_all instead.\n",
            "\n",
            "WARNING:tensorflow:From /content/GCN_Cancer/GCN_Cancer/lib/models.py:191: The name tf.train.Saver is deprecated. Please use tf.compat.v1.train.Saver instead.\n",
            "\n",
            "WARNING:tensorflow:From /content/GCN_Cancer/GCN_Cancer/lib/models.py:97: The name tf.Session is deprecated. Please use tf.compat.v1.Session instead.\n",
            "\n",
            "WARNING:tensorflow:From /content/GCN_Cancer/GCN_Cancer/lib/models.py:99: The name tf.summary.FileWriter is deprecated. Please use tf.compat.v1.summary.FileWriter instead.\n",
            "\n",
            "step 100 / 2840 (epoch 35.21 / 1000):\n",
            "  learning_rate = 3.87e-03, loss_average = 5.50e-01\n",
            "  validation accuracy: 80.33 (98 / 122), f1 (weighted): 80.41, loss: 5.75e-01\n",
            "  time: 1s (wall 1s)\n",
            "WARNING:tensorflow:From /content/GCN_Cancer/GCN_Cancer/lib/models.py:141: The name tf.Summary is deprecated. Please use tf.compat.v1.Summary instead.\n",
            "\n",
            "step 200 / 2840 (epoch 70.42 / 1000):\n",
            "  learning_rate = 2.84e-03, loss_average = 4.18e-01\n",
            "  validation accuracy: 82.79 (101 / 122), f1 (weighted): 82.86, loss: 4.06e-01\n",
            "  time: 3s (wall 2s)\n",
            "step 300 / 2840 (epoch 105.63 / 1000):\n",
            "  learning_rate = 2.20e-03, loss_average = 3.70e-01\n",
            "  validation accuracy: 84.43 (103 / 122), f1 (weighted): 84.49, loss: 3.54e-01\n",
            "  time: 4s (wall 3s)\n",
            "step 400 / 2840 (epoch 140.85 / 1000):\n",
            "  learning_rate = 1.62e-03, loss_average = 3.47e-01\n",
            "  validation accuracy: 83.61 (102 / 122), f1 (weighted): 83.68, loss: 3.32e-01\n",
            "  time: 5s (wall 3s)\n",
            "step 500 / 2840 (epoch 176.06 / 1000):\n",
            "  learning_rate = 1.19e-03, loss_average = 3.25e-01\n",
            "  validation accuracy: 85.25 (104 / 122), f1 (weighted): 85.29, loss: 3.21e-01\n",
            "  time: 6s (wall 4s)\n",
            "step 600 / 2840 (epoch 211.27 / 1000):\n",
            "  learning_rate = 9.20e-04, loss_average = 3.14e-01\n",
            "  validation accuracy: 84.43 (103 / 122), f1 (weighted): 84.49, loss: 3.11e-01\n",
            "  time: 7s (wall 5s)\n",
            "WARNING:tensorflow:From /tensorflow-1.15.2/python3.7/tensorflow_core/python/training/saver.py:963: remove_checkpoint (from tensorflow.python.training.checkpoint_management) is deprecated and will be removed in a future version.\n",
            "Instructions for updating:\n",
            "Use standard file APIs to delete files with this prefix.\n",
            "step 700 / 2840 (epoch 246.48 / 1000):\n",
            "  learning_rate = 6.76e-04, loss_average = 3.06e-01\n",
            "  validation accuracy: 86.07 (105 / 122), f1 (weighted): 86.10, loss: 3.07e-01\n",
            "  time: 8s (wall 5s)\n",
            "step 800 / 2840 (epoch 281.69 / 1000):\n",
            "  learning_rate = 4.97e-04, loss_average = 2.96e-01\n",
            "  validation accuracy: 86.07 (105 / 122), f1 (weighted): 86.10, loss: 3.01e-01\n",
            "  time: 9s (wall 6s)\n",
            "step 900 / 2840 (epoch 316.90 / 1000):\n",
            "  learning_rate = 3.85e-04, loss_average = 2.93e-01\n",
            "  validation accuracy: 86.07 (105 / 122), f1 (weighted): 86.10, loss: 2.99e-01\n",
            "  time: 10s (wall 7s)\n",
            "step 1000 / 2840 (epoch 352.11 / 1000):\n",
            "  learning_rate = 2.83e-04, loss_average = 2.87e-01\n",
            "  validation accuracy: 86.89 (106 / 122), f1 (weighted): 86.93, loss: 2.96e-01\n",
            "  time: 11s (wall 8s)\n",
            "step 1100 / 2840 (epoch 387.32 / 1000):\n",
            "  learning_rate = 2.08e-04, loss_average = 2.88e-01\n",
            "  validation accuracy: 86.07 (105 / 122), f1 (weighted): 86.10, loss: 2.95e-01\n",
            "  time: 12s (wall 8s)\n",
            "step 1200 / 2840 (epoch 422.54 / 1000):\n",
            "  learning_rate = 1.61e-04, loss_average = 2.88e-01\n",
            "  validation accuracy: 86.89 (106 / 122), f1 (weighted): 86.93, loss: 2.93e-01\n",
            "  time: 13s (wall 9s)\n",
            "step 1300 / 2840 (epoch 457.75 / 1000):\n",
            "  learning_rate = 1.18e-04, loss_average = 2.84e-01\n",
            "  validation accuracy: 86.89 (106 / 122), f1 (weighted): 86.93, loss: 2.93e-01\n",
            "  time: 15s (wall 10s)\n",
            "step 1400 / 2840 (epoch 492.96 / 1000):\n",
            "  learning_rate = 8.69e-05, loss_average = 2.81e-01\n",
            "  validation accuracy: 86.89 (106 / 122), f1 (weighted): 86.93, loss: 2.92e-01\n",
            "  time: 16s (wall 11s)\n",
            "step 1500 / 2840 (epoch 528.17 / 1000):\n",
            "  learning_rate = 6.73e-05, loss_average = 2.79e-01\n",
            "  validation accuracy: 86.89 (106 / 122), f1 (weighted): 86.93, loss: 2.91e-01\n",
            "  time: 17s (wall 11s)\n",
            "step 1600 / 2840 (epoch 563.38 / 1000):\n",
            "  learning_rate = 4.94e-05, loss_average = 2.80e-01\n",
            "  validation accuracy: 86.89 (106 / 122), f1 (weighted): 86.93, loss: 2.91e-01\n",
            "  time: 18s (wall 12s)\n",
            "step 1700 / 2840 (epoch 598.59 / 1000):\n",
            "  learning_rate = 3.83e-05, loss_average = 2.80e-01\n",
            "  validation accuracy: 86.89 (106 / 122), f1 (weighted): 86.93, loss: 2.91e-01\n",
            "  time: 19s (wall 13s)\n",
            "step 1800 / 2840 (epoch 633.80 / 1000):\n",
            "  learning_rate = 2.81e-05, loss_average = 2.79e-01\n",
            "  validation accuracy: 86.89 (106 / 122), f1 (weighted): 86.93, loss: 2.91e-01\n",
            "  time: 20s (wall 14s)\n",
            "step 1900 / 2840 (epoch 669.01 / 1000):\n",
            "  learning_rate = 2.07e-05, loss_average = 2.78e-01\n",
            "  validation accuracy: 86.89 (106 / 122), f1 (weighted): 86.93, loss: 2.91e-01\n",
            "  time: 21s (wall 15s)\n",
            "step 2000 / 2840 (epoch 704.23 / 1000):\n",
            "  learning_rate = 1.60e-05, loss_average = 2.77e-01\n",
            "  validation accuracy: 86.89 (106 / 122), f1 (weighted): 86.93, loss: 2.90e-01\n",
            "  time: 22s (wall 15s)\n",
            "step 2100 / 2840 (epoch 739.44 / 1000):\n",
            "  learning_rate = 1.18e-05, loss_average = 2.72e-01\n",
            "  validation accuracy: 86.89 (106 / 122), f1 (weighted): 86.93, loss: 2.90e-01\n",
            "  time: 24s (wall 16s)\n",
            "step 2200 / 2840 (epoch 774.65 / 1000):\n",
            "  learning_rate = 8.64e-06, loss_average = 2.78e-01\n",
            "  validation accuracy: 86.89 (106 / 122), f1 (weighted): 86.93, loss: 2.90e-01\n",
            "  time: 25s (wall 17s)\n",
            "step 2300 / 2840 (epoch 809.86 / 1000):\n",
            "  learning_rate = 6.69e-06, loss_average = 2.75e-01\n",
            "  validation accuracy: 86.89 (106 / 122), f1 (weighted): 86.93, loss: 2.90e-01\n",
            "  time: 26s (wall 17s)\n",
            "step 2400 / 2840 (epoch 845.07 / 1000):\n",
            "  learning_rate = 4.92e-06, loss_average = 2.78e-01\n",
            "  validation accuracy: 86.89 (106 / 122), f1 (weighted): 86.93, loss: 2.90e-01\n",
            "  time: 27s (wall 18s)\n",
            "step 2500 / 2840 (epoch 880.28 / 1000):\n",
            "  learning_rate = 3.61e-06, loss_average = 2.70e-01\n",
            "  validation accuracy: 86.89 (106 / 122), f1 (weighted): 86.93, loss: 2.90e-01\n",
            "  time: 28s (wall 19s)\n",
            "step 2600 / 2840 (epoch 915.49 / 1000):\n",
            "  learning_rate = 2.80e-06, loss_average = 2.75e-01\n",
            "  validation accuracy: 86.89 (106 / 122), f1 (weighted): 86.93, loss: 2.90e-01\n",
            "  time: 29s (wall 20s)\n",
            "step 2700 / 2840 (epoch 950.70 / 1000):\n",
            "  learning_rate = 2.06e-06, loss_average = 2.78e-01\n",
            "  validation accuracy: 86.89 (106 / 122), f1 (weighted): 86.93, loss: 2.90e-01\n",
            "  time: 30s (wall 21s)\n",
            "step 2800 / 2840 (epoch 985.92 / 1000):\n",
            "  learning_rate = 1.51e-06, loss_average = 2.80e-01\n",
            "  validation accuracy: 86.89 (106 / 122), f1 (weighted): 86.93, loss: 2.90e-01\n",
            "  time: 31s (wall 21s)\n",
            "step 2840 / 2840 (epoch 1000.00 / 1000):\n",
            "  learning_rate = 1.36e-06, loss_average = 2.75e-01\n",
            "  validation accuracy: 86.89 (106 / 122), f1 (weighted): 86.93, loss: 2.90e-01\n",
            "  time: 32s (wall 22s)\n",
            "validation accuracy: peak = 86.89, mean = 86.89\n"
          ],
          "name": "stdout"
        },
        {
          "output_type": "execute_result",
          "data": {
            "text/plain": [
              "([80.32786885245902,\n",
              "  82.78688524590164,\n",
              "  84.42622950819673,\n",
              "  83.60655737704919,\n",
              "  85.24590163934425,\n",
              "  84.42622950819673,\n",
              "  86.0655737704918,\n",
              "  86.0655737704918,\n",
              "  86.0655737704918,\n",
              "  86.88524590163934,\n",
              "  86.0655737704918,\n",
              "  86.88524590163934,\n",
              "  86.88524590163934,\n",
              "  86.88524590163934,\n",
              "  86.88524590163934,\n",
              "  86.88524590163934,\n",
              "  86.88524590163934,\n",
              "  86.88524590163934,\n",
              "  86.88524590163934,\n",
              "  86.88524590163934,\n",
              "  86.88524590163934,\n",
              "  86.88524590163934,\n",
              "  86.88524590163934,\n",
              "  86.88524590163934,\n",
              "  86.88524590163934,\n",
              "  86.88524590163934,\n",
              "  86.88524590163934,\n",
              "  86.88524590163934,\n",
              "  86.88524590163934],\n",
              " [0.5752742779059489,\n",
              "  0.4056761621451769,\n",
              "  0.3537908379660278,\n",
              "  0.33227885905347887,\n",
              "  0.3206330244658423,\n",
              "  0.3111089381282447,\n",
              "  0.3068073973303936,\n",
              "  0.30093623905396855,\n",
              "  0.2986544559969277,\n",
              "  0.29591621800524287,\n",
              "  0.2948121274592447,\n",
              "  0.2934130733130408,\n",
              "  0.2925802541316533,\n",
              "  0.2920520720911808,\n",
              "  0.2914831133895233,\n",
              "  0.2911267954795087,\n",
              "  0.2908829080521083,\n",
              "  0.29066983976813615,\n",
              "  0.2905907506336931,\n",
              "  0.29047468341276295,\n",
              "  0.29039695614674055,\n",
              "  0.2903488052428746,\n",
              "  0.2903011367946375,\n",
              "  0.29027798808500416,\n",
              "  0.2902466132015478,\n",
              "  0.29022333013718243,\n",
              "  0.2902174795993039,\n",
              "  0.290207885450027,\n",
              "  0.2902024379763447],\n",
              " 0.007639751551856457,\n",
              " [77.46478873239437,\n",
              "  80.63380281690141,\n",
              "  84.85915492957746,\n",
              "  85.91549295774648,\n",
              "  86.26760563380282,\n",
              "  86.97183098591549,\n",
              "  87.32394366197182,\n",
              "  87.32394366197182,\n",
              "  87.32394366197182,\n",
              "  87.67605633802818,\n",
              "  87.67605633802818,\n",
              "  87.67605633802818,\n",
              "  88.02816901408451,\n",
              "  87.67605633802818,\n",
              "  87.67605633802818,\n",
              "  87.67605633802818,\n",
              "  87.67605633802818,\n",
              "  88.02816901408451,\n",
              "  88.38028169014085,\n",
              "  88.38028169014085,\n",
              "  88.38028169014085,\n",
              "  88.38028169014085,\n",
              "  88.38028169014085,\n",
              "  88.38028169014085,\n",
              "  88.38028169014085,\n",
              "  88.38028169014085,\n",
              "  88.38028169014085,\n",
              "  88.38028169014085,\n",
              "  88.38028169014085],\n",
              " [0.5279179505059417,\n",
              "  0.41378159338319803,\n",
              "  0.36567724506619953,\n",
              "  0.34061827709977055,\n",
              "  0.32678207671138604,\n",
              "  0.31204331718700035,\n",
              "  0.3032504987548774,\n",
              "  0.2957005106227499,\n",
              "  0.2906946124325336,\n",
              "  0.28708760797137944,\n",
              "  0.2845483346724174,\n",
              "  0.28251853417342815,\n",
              "  0.28097106957099804,\n",
              "  0.27981468699347806,\n",
              "  0.27899279350965794,\n",
              "  0.27837743851500496,\n",
              "  0.27788167058582036,\n",
              "  0.27752413716114743,\n",
              "  0.27725516070782297,\n",
              "  0.27705621971210964,\n",
              "  0.27690159393028474,\n",
              "  0.27678772597245765,\n",
              "  0.27670498255272985,\n",
              "  0.276637979796235,\n",
              "  0.2765896034912324,\n",
              "  0.2765536832977349,\n",
              "  0.27652650441921933,\n",
              "  0.2765060835321185,\n",
              "  0.27649956689754],\n",
              " [35.2112676056338,\n",
              "  70.4225352112676,\n",
              "  105.63380281690141,\n",
              "  140.8450704225352,\n",
              "  176.05633802816902,\n",
              "  211.26760563380282,\n",
              "  246.4788732394366,\n",
              "  281.6901408450704,\n",
              "  316.90140845070425,\n",
              "  352.11267605633805,\n",
              "  387.32394366197184,\n",
              "  422.53521126760563,\n",
              "  457.7464788732394,\n",
              "  492.9577464788732,\n",
              "  528.169014084507,\n",
              "  563.3802816901408,\n",
              "  598.5915492957746,\n",
              "  633.8028169014085,\n",
              "  669.0140845070423,\n",
              "  704.2253521126761,\n",
              "  739.4366197183099,\n",
              "  774.6478873239437,\n",
              "  809.8591549295775,\n",
              "  845.0704225352113,\n",
              "  880.2816901408451,\n",
              "  915.4929577464789,\n",
              "  950.7042253521126,\n",
              "  985.9154929577464,\n",
              "  1000.0])"
            ]
          },
          "metadata": {
            "tags": []
          },
          "execution_count": 21
        }
      ]
    },
    {
      "cell_type": "code",
      "metadata": {
        "id": "sDMbik7MngU6"
      },
      "source": [
        "# install tensorflow==1.15"
      ],
      "execution_count": 22,
      "outputs": []
    },
    {
      "cell_type": "code",
      "metadata": {
        "colab": {
          "base_uri": "https://localhost:8080/",
          "height": 35
        },
        "id": "1AFDDolfngU7",
        "outputId": "a153ab87-a934-48c2-a734-2900642670d8"
      },
      "source": [
        "tf.version.VERSION"
      ],
      "execution_count": 23,
      "outputs": [
        {
          "output_type": "execute_result",
          "data": {
            "application/vnd.google.colaboratory.intrinsic+json": {
              "type": "string"
            },
            "text/plain": [
              "'1.15.2'"
            ]
          },
          "metadata": {
            "tags": []
          },
          "execution_count": 23
        }
      ]
    },
    {
      "cell_type": "code",
      "metadata": {
        "colab": {
          "base_uri": "https://localhost:8080/"
        },
        "id": "-4kEjMoRsESU",
        "outputId": "61ccbb2f-2ecd-4776-e321-aacd5f526e99"
      },
      "source": [
        "!pwd"
      ],
      "execution_count": 24,
      "outputs": [
        {
          "output_type": "stream",
          "text": [
            "/content/GCN_Cancer/GCN_Cancer\n"
          ],
          "name": "stdout"
        }
      ]
    },
    {
      "cell_type": "code",
      "metadata": {
        "id": "YC2Q6ATCngU8"
      },
      "source": [
        "import sklearn.metrics\n",
        "import sklearn.neighbors\n",
        "import matplotlib.pyplot as plt\n",
        "import scipy.sparse\n",
        "import scipy.sparse.linalg\n",
        "import scipy.spatial.distance\n",
        "import tensorflow as tf\n",
        "import numpy as np\n",
        "import time\n",
        "import h5py\n",
        "import scipy.io as sio\n",
        "import os\n",
        "from keras.optimizers import SGD\n",
        "from keras.datasets import cifar10\n",
        "from keras.models import Sequential\n",
        "from keras.utils import np_utils\n",
        "from keras.layers import Dropout, Dense, Flatten\n",
        "from keras.layers.convolutional import Conv1D, MaxPooling1D\n",
        "import sys\n",
        "#sys.path.append(\"C:\\Users\\David\\Downloads\\lib\\graph\") \n",
        "from lib import graph\n",
        "#sys.path.append(\"/Users/david/Downloads/lib/coarsening\") \n",
        "from lib import coarsening\n",
        "#sys.path.append(\"/Users/david/Downloads/lib/models\") \n",
        "from lib import models\n",
        "from lib import utils"
      ],
      "execution_count": 25,
      "outputs": []
    },
    {
      "cell_type": "code",
      "metadata": {
        "colab": {
          "base_uri": "https://localhost:8080/"
        },
        "id": "LC7_Djo7ngU9",
        "outputId": "2e423fa6-9765-43a6-c5c3-5264dd68b7f7"
      },
      "source": [
        "flags = tf.compat.v1.app.flags\n",
        "FLAGS = flags.FLAGS\n",
        "\n",
        "# Graphs.\n",
        "flags.DEFINE_integer('number_edges', 1, 'Graph: minimum number of edges per vertex.')\n",
        "flags.DEFINE_string('metric', 'euclidean', 'Graph: similarity measure (between features).')\n",
        "# TODO: change cgcnn for combinatorial Laplacians.\n",
        "flags.DEFINE_bool('normalized_laplacian', True, 'Graph Laplacian: normalized.')\n",
        "flags.DEFINE_integer('coarsening_levels', 1, 'Number of coarsened graphs.')\n"
      ],
      "execution_count": 26,
      "outputs": [
        {
          "output_type": "execute_result",
          "data": {
            "text/plain": [
              "<absl.flags._flagvalues.FlagHolder at 0x7f054e351d50>"
            ]
          },
          "metadata": {
            "tags": []
          },
          "execution_count": 26
        }
      ]
    },
    {
      "cell_type": "code",
      "metadata": {
        "colab": {
          "base_uri": "https://localhost:8080/"
        },
        "id": "dpsEVTi_ngVD",
        "outputId": "38516ff4-d428-4976-9679-18f54cbdf79c"
      },
      "source": [
        "import sys\n",
        "sys.argv = sys.argv[:1]\n",
        "t_start = time.process_time()\n",
        "flags.DEFINE_string('dir_data', os.path.join('..', 'data', 'mnist'), 'Directory to store data.')\n",
        "# Directories."
      ],
      "execution_count": 27,
      "outputs": [
        {
          "output_type": "execute_result",
          "data": {
            "text/plain": [
              "<absl.flags._flagvalues.FlagHolder at 0x7f054e3b7750>"
            ]
          },
          "metadata": {
            "tags": []
          },
          "execution_count": 27
        }
      ]
    },
    {
      "cell_type": "code",
      "metadata": {
        "colab": {
          "base_uri": "https://localhost:8080/"
        },
        "id": "yd6fY1jnsP0i",
        "outputId": "f34fbebd-3fea-4032-ce98-22c69bbd18aa"
      },
      "source": [
        "from google.colab import drive\n",
        "drive.mount('/content/drive')"
      ],
      "execution_count": 28,
      "outputs": [
        {
          "output_type": "stream",
          "text": [
            "Drive already mounted at /content/drive; to attempt to forcibly remount, call drive.mount(\"/content/drive\", force_remount=True).\n"
          ],
          "name": "stdout"
        }
      ]
    },
    {
      "cell_type": "code",
      "metadata": {
        "colab": {
          "base_uri": "https://localhost:8080/",
          "height": 425
        },
        "id": "APzpf289ngVF",
        "outputId": "4210c062-fd8f-431a-b1f2-c3ee3440304c"
      },
      "source": [
        "\n",
        "#For PPI and PPI-singleton model change file location\n",
        "#test = sio.loadmat('/content/drive/MyDrive/Colab Notebooks/Adj_Filtered_List_0Con.mat')\n",
        "# for Correlaton model change file location\n",
        "test = sio.loadmat('Adj_Spearman_6P.mat')\n",
        "row = test['row'].astype(np.float32)\n",
        "col = test['col'].astype(np.float32)\n",
        "value = test['value'].astype(np.float32)\n",
        "M, k = row.shape\n",
        "row = np.array(row)\n",
        "row = row.reshape(k)\n",
        "row = row.ravel()\n",
        "col = np.array(col)\n",
        "col = col.reshape(k)\n",
        "col = col.ravel()\n",
        "value = np.array(value)\n",
        "value = value.reshape(k)\n",
        "value = value.ravel()\n",
        "A = scipy.sparse.coo_matrix((value, (row, col)),shape = (3866,3866)) # change size for model being used 4444 for both PPI and 3866 for\n",
        "graphs, perm = coarsening.coarsen(A, levels=FLAGS.coarsening_levels, self_connections=True)\n",
        "L = [graph.laplacian(A, normalized=True,renormalized=True) for A in graphs]\n",
        "del test\n",
        "del A\n",
        "del row\n",
        "del col\n",
        "del value"
      ],
      "execution_count": 29,
      "outputs": [
        {
          "output_type": "error",
          "ename": "FileNotFoundError",
          "evalue": "ignored",
          "traceback": [
            "\u001b[0;31m---------------------------------------------------------------------------\u001b[0m",
            "\u001b[0;31mFileNotFoundError\u001b[0m                         Traceback (most recent call last)",
            "\u001b[0;32m/usr/local/lib/python3.7/dist-packages/scipy/io/matlab/mio.py\u001b[0m in \u001b[0;36m_open_file\u001b[0;34m(file_like, appendmat, mode)\u001b[0m\n\u001b[1;32m     38\u001b[0m     \u001b[0;32mtry\u001b[0m\u001b[0;34m:\u001b[0m\u001b[0;34m\u001b[0m\u001b[0;34m\u001b[0m\u001b[0m\n\u001b[0;32m---> 39\u001b[0;31m         \u001b[0;32mreturn\u001b[0m \u001b[0mopen\u001b[0m\u001b[0;34m(\u001b[0m\u001b[0mfile_like\u001b[0m\u001b[0;34m,\u001b[0m \u001b[0mmode\u001b[0m\u001b[0;34m)\u001b[0m\u001b[0;34m,\u001b[0m \u001b[0;32mTrue\u001b[0m\u001b[0;34m\u001b[0m\u001b[0;34m\u001b[0m\u001b[0m\n\u001b[0m\u001b[1;32m     40\u001b[0m     \u001b[0;32mexcept\u001b[0m \u001b[0mIOError\u001b[0m\u001b[0;34m:\u001b[0m\u001b[0;34m\u001b[0m\u001b[0;34m\u001b[0m\u001b[0m\n",
            "\u001b[0;31mFileNotFoundError\u001b[0m: [Errno 2] No such file or directory: 'Adj_Spearman_6P.mat'",
            "\nDuring handling of the above exception, another exception occurred:\n",
            "\u001b[0;31mFileNotFoundError\u001b[0m                         Traceback (most recent call last)",
            "\u001b[0;32m<ipython-input-29-d3c578ebfa0d>\u001b[0m in \u001b[0;36m<module>\u001b[0;34m()\u001b[0m\n\u001b[1;32m      3\u001b[0m \u001b[0;31m#test = sio.loadmat('/content/drive/MyDrive/Colab Notebooks/Adj_Filtered_List_0Con.mat')\u001b[0m\u001b[0;34m\u001b[0m\u001b[0;34m\u001b[0m\u001b[0;34m\u001b[0m\u001b[0m\n\u001b[1;32m      4\u001b[0m \u001b[0;31m# for Correlaton model change file location\u001b[0m\u001b[0;34m\u001b[0m\u001b[0;34m\u001b[0m\u001b[0;34m\u001b[0m\u001b[0m\n\u001b[0;32m----> 5\u001b[0;31m \u001b[0mtest\u001b[0m \u001b[0;34m=\u001b[0m \u001b[0msio\u001b[0m\u001b[0;34m.\u001b[0m\u001b[0mloadmat\u001b[0m\u001b[0;34m(\u001b[0m\u001b[0;34m'Adj_Spearman_6P.mat'\u001b[0m\u001b[0;34m)\u001b[0m\u001b[0;34m\u001b[0m\u001b[0;34m\u001b[0m\u001b[0m\n\u001b[0m\u001b[1;32m      6\u001b[0m \u001b[0mrow\u001b[0m \u001b[0;34m=\u001b[0m \u001b[0mtest\u001b[0m\u001b[0;34m[\u001b[0m\u001b[0;34m'row'\u001b[0m\u001b[0;34m]\u001b[0m\u001b[0;34m.\u001b[0m\u001b[0mastype\u001b[0m\u001b[0;34m(\u001b[0m\u001b[0mnp\u001b[0m\u001b[0;34m.\u001b[0m\u001b[0mfloat32\u001b[0m\u001b[0;34m)\u001b[0m\u001b[0;34m\u001b[0m\u001b[0;34m\u001b[0m\u001b[0m\n\u001b[1;32m      7\u001b[0m \u001b[0mcol\u001b[0m \u001b[0;34m=\u001b[0m \u001b[0mtest\u001b[0m\u001b[0;34m[\u001b[0m\u001b[0;34m'col'\u001b[0m\u001b[0;34m]\u001b[0m\u001b[0;34m.\u001b[0m\u001b[0mastype\u001b[0m\u001b[0;34m(\u001b[0m\u001b[0mnp\u001b[0m\u001b[0;34m.\u001b[0m\u001b[0mfloat32\u001b[0m\u001b[0;34m)\u001b[0m\u001b[0;34m\u001b[0m\u001b[0;34m\u001b[0m\u001b[0m\n",
            "\u001b[0;32m/usr/local/lib/python3.7/dist-packages/scipy/io/matlab/mio.py\u001b[0m in \u001b[0;36mloadmat\u001b[0;34m(file_name, mdict, appendmat, **kwargs)\u001b[0m\n\u001b[1;32m    214\u001b[0m     \"\"\"\n\u001b[1;32m    215\u001b[0m     \u001b[0mvariable_names\u001b[0m \u001b[0;34m=\u001b[0m \u001b[0mkwargs\u001b[0m\u001b[0;34m.\u001b[0m\u001b[0mpop\u001b[0m\u001b[0;34m(\u001b[0m\u001b[0;34m'variable_names'\u001b[0m\u001b[0;34m,\u001b[0m \u001b[0;32mNone\u001b[0m\u001b[0;34m)\u001b[0m\u001b[0;34m\u001b[0m\u001b[0;34m\u001b[0m\u001b[0m\n\u001b[0;32m--> 216\u001b[0;31m     \u001b[0;32mwith\u001b[0m \u001b[0m_open_file_context\u001b[0m\u001b[0;34m(\u001b[0m\u001b[0mfile_name\u001b[0m\u001b[0;34m,\u001b[0m \u001b[0mappendmat\u001b[0m\u001b[0;34m)\u001b[0m \u001b[0;32mas\u001b[0m \u001b[0mf\u001b[0m\u001b[0;34m:\u001b[0m\u001b[0;34m\u001b[0m\u001b[0;34m\u001b[0m\u001b[0m\n\u001b[0m\u001b[1;32m    217\u001b[0m         \u001b[0mMR\u001b[0m\u001b[0;34m,\u001b[0m \u001b[0m_\u001b[0m \u001b[0;34m=\u001b[0m \u001b[0mmat_reader_factory\u001b[0m\u001b[0;34m(\u001b[0m\u001b[0mf\u001b[0m\u001b[0;34m,\u001b[0m \u001b[0;34m**\u001b[0m\u001b[0mkwargs\u001b[0m\u001b[0;34m)\u001b[0m\u001b[0;34m\u001b[0m\u001b[0;34m\u001b[0m\u001b[0m\n\u001b[1;32m    218\u001b[0m         \u001b[0mmatfile_dict\u001b[0m \u001b[0;34m=\u001b[0m \u001b[0mMR\u001b[0m\u001b[0;34m.\u001b[0m\u001b[0mget_variables\u001b[0m\u001b[0;34m(\u001b[0m\u001b[0mvariable_names\u001b[0m\u001b[0;34m)\u001b[0m\u001b[0;34m\u001b[0m\u001b[0;34m\u001b[0m\u001b[0m\n",
            "\u001b[0;32m/usr/lib/python3.7/contextlib.py\u001b[0m in \u001b[0;36m__enter__\u001b[0;34m(self)\u001b[0m\n\u001b[1;32m    110\u001b[0m         \u001b[0;32mdel\u001b[0m \u001b[0mself\u001b[0m\u001b[0;34m.\u001b[0m\u001b[0margs\u001b[0m\u001b[0;34m,\u001b[0m \u001b[0mself\u001b[0m\u001b[0;34m.\u001b[0m\u001b[0mkwds\u001b[0m\u001b[0;34m,\u001b[0m \u001b[0mself\u001b[0m\u001b[0;34m.\u001b[0m\u001b[0mfunc\u001b[0m\u001b[0;34m\u001b[0m\u001b[0;34m\u001b[0m\u001b[0m\n\u001b[1;32m    111\u001b[0m         \u001b[0;32mtry\u001b[0m\u001b[0;34m:\u001b[0m\u001b[0;34m\u001b[0m\u001b[0;34m\u001b[0m\u001b[0m\n\u001b[0;32m--> 112\u001b[0;31m             \u001b[0;32mreturn\u001b[0m \u001b[0mnext\u001b[0m\u001b[0;34m(\u001b[0m\u001b[0mself\u001b[0m\u001b[0;34m.\u001b[0m\u001b[0mgen\u001b[0m\u001b[0;34m)\u001b[0m\u001b[0;34m\u001b[0m\u001b[0;34m\u001b[0m\u001b[0m\n\u001b[0m\u001b[1;32m    113\u001b[0m         \u001b[0;32mexcept\u001b[0m \u001b[0mStopIteration\u001b[0m\u001b[0;34m:\u001b[0m\u001b[0;34m\u001b[0m\u001b[0;34m\u001b[0m\u001b[0m\n\u001b[1;32m    114\u001b[0m             \u001b[0;32mraise\u001b[0m \u001b[0mRuntimeError\u001b[0m\u001b[0;34m(\u001b[0m\u001b[0;34m\"generator didn't yield\"\u001b[0m\u001b[0;34m)\u001b[0m \u001b[0;32mfrom\u001b[0m \u001b[0;32mNone\u001b[0m\u001b[0;34m\u001b[0m\u001b[0;34m\u001b[0m\u001b[0m\n",
            "\u001b[0;32m/usr/local/lib/python3.7/dist-packages/scipy/io/matlab/mio.py\u001b[0m in \u001b[0;36m_open_file_context\u001b[0;34m(file_like, appendmat, mode)\u001b[0m\n\u001b[1;32m     17\u001b[0m \u001b[0;34m@\u001b[0m\u001b[0mcontextmanager\u001b[0m\u001b[0;34m\u001b[0m\u001b[0;34m\u001b[0m\u001b[0m\n\u001b[1;32m     18\u001b[0m \u001b[0;32mdef\u001b[0m \u001b[0m_open_file_context\u001b[0m\u001b[0;34m(\u001b[0m\u001b[0mfile_like\u001b[0m\u001b[0;34m,\u001b[0m \u001b[0mappendmat\u001b[0m\u001b[0;34m,\u001b[0m \u001b[0mmode\u001b[0m\u001b[0;34m=\u001b[0m\u001b[0;34m'rb'\u001b[0m\u001b[0;34m)\u001b[0m\u001b[0;34m:\u001b[0m\u001b[0;34m\u001b[0m\u001b[0;34m\u001b[0m\u001b[0m\n\u001b[0;32m---> 19\u001b[0;31m     \u001b[0mf\u001b[0m\u001b[0;34m,\u001b[0m \u001b[0mopened\u001b[0m \u001b[0;34m=\u001b[0m \u001b[0m_open_file\u001b[0m\u001b[0;34m(\u001b[0m\u001b[0mfile_like\u001b[0m\u001b[0;34m,\u001b[0m \u001b[0mappendmat\u001b[0m\u001b[0;34m,\u001b[0m \u001b[0mmode\u001b[0m\u001b[0;34m)\u001b[0m\u001b[0;34m\u001b[0m\u001b[0;34m\u001b[0m\u001b[0m\n\u001b[0m\u001b[1;32m     20\u001b[0m     \u001b[0;32myield\u001b[0m \u001b[0mf\u001b[0m\u001b[0;34m\u001b[0m\u001b[0;34m\u001b[0m\u001b[0m\n\u001b[1;32m     21\u001b[0m     \u001b[0;32mif\u001b[0m \u001b[0mopened\u001b[0m\u001b[0;34m:\u001b[0m\u001b[0;34m\u001b[0m\u001b[0;34m\u001b[0m\u001b[0m\n",
            "\u001b[0;32m/usr/local/lib/python3.7/dist-packages/scipy/io/matlab/mio.py\u001b[0m in \u001b[0;36m_open_file\u001b[0;34m(file_like, appendmat, mode)\u001b[0m\n\u001b[1;32m     43\u001b[0m             \u001b[0;32mif\u001b[0m \u001b[0mappendmat\u001b[0m \u001b[0;32mand\u001b[0m \u001b[0;32mnot\u001b[0m \u001b[0mfile_like\u001b[0m\u001b[0;34m.\u001b[0m\u001b[0mendswith\u001b[0m\u001b[0;34m(\u001b[0m\u001b[0;34m'.mat'\u001b[0m\u001b[0;34m)\u001b[0m\u001b[0;34m:\u001b[0m\u001b[0;34m\u001b[0m\u001b[0;34m\u001b[0m\u001b[0m\n\u001b[1;32m     44\u001b[0m                 \u001b[0mfile_like\u001b[0m \u001b[0;34m+=\u001b[0m \u001b[0;34m'.mat'\u001b[0m\u001b[0;34m\u001b[0m\u001b[0;34m\u001b[0m\u001b[0m\n\u001b[0;32m---> 45\u001b[0;31m             \u001b[0;32mreturn\u001b[0m \u001b[0mopen\u001b[0m\u001b[0;34m(\u001b[0m\u001b[0mfile_like\u001b[0m\u001b[0;34m,\u001b[0m \u001b[0mmode\u001b[0m\u001b[0;34m)\u001b[0m\u001b[0;34m,\u001b[0m \u001b[0;32mTrue\u001b[0m\u001b[0;34m\u001b[0m\u001b[0;34m\u001b[0m\u001b[0m\n\u001b[0m\u001b[1;32m     46\u001b[0m         \u001b[0;32melse\u001b[0m\u001b[0;34m:\u001b[0m\u001b[0;34m\u001b[0m\u001b[0;34m\u001b[0m\u001b[0m\n\u001b[1;32m     47\u001b[0m             \u001b[0;32mraise\u001b[0m \u001b[0mIOError\u001b[0m\u001b[0;34m(\u001b[0m\u001b[0;34m'Reader needs file name or open file-like object'\u001b[0m\u001b[0;34m)\u001b[0m\u001b[0;34m\u001b[0m\u001b[0;34m\u001b[0m\u001b[0m\n",
            "\u001b[0;31mFileNotFoundError\u001b[0m: [Errno 2] No such file or directory: 'Adj_Spearman_6P.mat'"
          ]
        }
      ]
    },
    {
      "cell_type": "code",
      "metadata": {
        "id": "aoBTyMYXykjz"
      },
      "source": [
        "test = sio.loadmat('/content/drive/MyDrive/Colab Notebooks/Adj_Filtered_List_0Con.mat')\r\n",
        "# for Correlaton model change file location\r\n",
        "#test = sio.loadmat('Adj_Spearman_6P.mat')\r\n",
        "row = test['row'].astype(np.float32)\r\n",
        "col = test['col'].astype(np.float32)\r\n",
        "value = test['value'].astype(np.float32)\r\n",
        "M, k = row.shape\r\n",
        "row = np.array(row)\r\n",
        "row = row.reshape(k)\r\n",
        "row = row.ravel()\r\n",
        "col = np.array(col)\r\n",
        "col = col.reshape(k)\r\n",
        "col = col.ravel()\r\n",
        "value = np.array(value)\r\n",
        "value = value.reshape(k)\r\n",
        "value = value.ravel()\r\n",
        "print(value.shape)\r\n",
        "A = scipy.sparse.coo_matrix((value, (row, col)),shape = (4444,4444))\r\n",
        "\r\n",
        "print(A)"
      ],
      "execution_count": null,
      "outputs": []
    },
    {
      "cell_type": "code",
      "metadata": {
        "id": "DHe8dLg3ngVH"
      },
      "source": [
        "#test = sio.loadmat('/content/drive/MyDrive/Colab Notebooks/Adj_Filtered_List_0Con.mat')\n",
        "## for Correlaton model change file location\n",
        "##test = sio.loadmat('Adj_Spearman_6P.mat')\n",
        "#row = test['row'].astype(np.float32)\n",
        "#col = test['col'].astype(np.float32)\n",
        "#value = test['value'].astype(np.float32)\n",
        "#print(value)\n",
        "#M, k = row.shape\n",
        "#row = np.array(row)\n",
        "#row = row.reshape(k)\n",
        "#row = row.ravel()\n",
        "#col = np.array(col)\n",
        "#col = col.reshape(k)\n",
        "#col = col.ravel()\n",
        "#value = np.array(value)\n",
        "#value = value.reshape(k)\n",
        "#value = value.ravel()\n",
        "#A = scipy.sparse.coo_matrix((value, (row, col)),shape = (4444,4444)) "
      ],
      "execution_count": null,
      "outputs": []
    },
    {
      "cell_type": "code",
      "metadata": {
        "id": "_teH7rD_ngVK"
      },
      "source": [
        "FLAGS.coarsening_levels"
      ],
      "execution_count": null,
      "outputs": []
    },
    {
      "cell_type": "code",
      "metadata": {
        "id": "2CyVj57wngVL"
      },
      "source": [
        "Data = sio.loadmat('/content/drive/MyDrive/Colab Notebooks/Block_PPIA.mat')\n",
        "Data1 = Data['Block'][0,0]\n",
        "Data2 = Data['Block'][0,1]\n",
        "Data3 = Data['Block'][0,2]\n",
        "Data4 = Data['Block'][0,3]\n",
        "Data5 = Data['Block'][0,4]\n",
        "D1= Data1['D'].astype(np.float32)\n",
        "D2= Data2['D'].astype(np.float32)\n",
        "D3= Data3['D'].astype(np.float32)\n",
        "D4= Data4['D'].astype(np.float32)\n",
        "D5= Data5['D'].astype(np.float32)\n",
        "L1= Data1['L'].astype(np.float32)\n",
        "L2= Data2['L'].astype(np.float32)\n",
        "L3= Data3['L'].astype(np.float32)\n",
        "L4= Data4['L'].astype(np.float32)\n",
        "L5= Data5['L'].astype(np.float32)\n",
        "# adjust for K-Fold cross validation\n",
        "Train_Data = np.transpose(np.hstack((D1,D2,D3,D4)))\n",
        "Val_Data = np.transpose(D5)\n",
        "Test_Data = np.transpose(D5)\n",
        "Train_Label = (np.vstack((L1,L2,L3,L4)))\n",
        "Val_Label = (L5)\n",
        "Test_Label = (L5)\n",
        "Test_Label = Test_Label.ravel()\n",
        "Train_Label = Train_Label.ravel()\n",
        "Val_Label = Val_Label.ravel()"
      ],
      "execution_count": null,
      "outputs": []
    },
    {
      "cell_type": "code",
      "metadata": {
        "id": "EJCN0HrztvZB"
      },
      "source": [
        "len(perm)"
      ],
      "execution_count": null,
      "outputs": []
    },
    {
      "cell_type": "code",
      "metadata": {
        "id": "sWgfN9QyngVM"
      },
      "source": [
        "Train_Data = coarsening.perm_data(Train_Data, perm)\n",
        "Val_Data = coarsening.perm_data(Val_Data, perm)\n",
        "Test_Data = coarsening.perm_data(Test_Data, perm)"
      ],
      "execution_count": null,
      "outputs": []
    },
    {
      "cell_type": "code",
      "metadata": {
        "id": "p4-sbtuxngVN"
      },
      "source": [
        "C = 34  # number of classes\n",
        "\n",
        "common = {}\n",
        "common['dir_name']       = 'PPI/'\n",
        "common['num_epochs']     = 2000\n",
        "common['batch_size']     = 200\n",
        "common['decay_steps']    = 17.7 # * common['num_epochs'] since not used use as in momentum \n",
        "common['eval_frequency'] = 1 * common['num_epochs']\n",
        "common['brelu']          = 'b1relu'\n",
        "common['pool']           = 'apool1'\n",
        "\n",
        "model_perf = utils.model_perf()\n",
        "\n",
        "common['regularization'] = 0\n",
        "common['dropout']        = 1\n",
        "common['learning_rate']  = .005\n",
        "common['decay_rate']     = 0.95\n",
        "common['momentum']       = 0\n",
        "\n",
        "common['F']              = [1]\n",
        "common['K']              = [1]\n",
        "common['p']              = [2]\n",
        "common['M']              = [128,C]\n"
      ],
      "execution_count": null,
      "outputs": []
    },
    {
      "cell_type": "code",
      "metadata": {
        "id": "Em__OC0mngVO"
      },
      "source": [
        "import tensorflow.compat.v1 as tf1"
      ],
      "execution_count": null,
      "outputs": []
    },
    {
      "cell_type": "code",
      "metadata": {
        "id": "Q1sxb_r-ngVP"
      },
      "source": [
        "L"
      ],
      "execution_count": null,
      "outputs": []
    },
    {
      "cell_type": "code",
      "metadata": {
        "id": "2o_JQuVNngVR"
      },
      "source": [
        "if True:\n",
        "    name = 'Run1'\n",
        "    params = common.copy()\n",
        "    params['dir_name'] += name\n",
        "#    params['filter'] = 'chebyshev5'\n",
        "    params['filter'] = 'chebyshev2'\n",
        "    params['brelu'] = 'b1relu'\n",
        "    #tf1.disable_v2_behavior()\n",
        "    model_perf.test(models.cgcnn(L, **params), name, params, Train_Data, Train_Label, Val_Data, Val_Label, Test_Data, Test_Label)\n",
        "\n",
        "model_perf.show()\n",
        "\n",
        "if False:\n",
        "    grid_params = {}\n",
        "    data = (train_data, train_labels, val_data, val_labels, test_data, test_labels)\n",
        "    utils.grid_search(params, grid_params, *data, model=lambda x: models.cgcnn(L,**x))"
      ],
      "execution_count": null,
      "outputs": []
    },
    {
      "cell_type": "code",
      "metadata": {
        "id": "VToZ78TangVT"
      },
      "source": [
        ""
      ],
      "execution_count": null,
      "outputs": []
    },
    {
      "cell_type": "code",
      "metadata": {
        "id": "ycmvqkXongVU"
      },
      "source": [
        ""
      ],
      "execution_count": null,
      "outputs": []
    },
    {
      "cell_type": "code",
      "metadata": {
        "id": "lHiM6-E2ngVU"
      },
      "source": [
        ""
      ],
      "execution_count": null,
      "outputs": []
    }
  ]
}