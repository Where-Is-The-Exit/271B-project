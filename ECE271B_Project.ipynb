{
  "nbformat": 4,
  "nbformat_minor": 0,
  "metadata": {
    "kernelspec": {
      "display_name": "Python 3",
      "language": "python",
      "name": "python3"
    },
    "language_info": {
      "codemirror_mode": {
        "name": "ipython",
        "version": 3
      },
      "file_extension": ".py",
      "mimetype": "text/x-python",
      "name": "python",
      "nbconvert_exporter": "python",
      "pygments_lexer": "ipython3",
      "version": "3.8.5"
    },
    "colab": {
      "name": "Copy of Copy of ECE271B Projectv2.ipynb",
      "provenance": [],
      "collapsed_sections": [
        "2IuzealHngUj"
      ]
    }
  },
  "cells": [
    {
      "cell_type": "code",
      "metadata": {
        "id": "o24viqGxngTk"
      },
      "source": [
        "import pandas as pd \n",
        "import numpy as np\n",
        "import matplotlib.pyplot as plt\n",
        "from sklearn.linear_model import LogisticRegression as LR\n",
        "from sklearn.model_selection import train_test_split as tts\n",
        "import scipy"
      ],
      "execution_count": null,
      "outputs": []
    },
    {
      "cell_type": "code",
      "metadata": {
        "colab": {
          "base_uri": "https://localhost:8080/"
        },
        "id": "H-0zX4o9ngUb",
        "outputId": "37205150-e182-45a3-eef1-32a6db6c7799"
      },
      "source": [
        "!git clone https://github.com/Where-Is-The-Exit/271B-project"
      ],
      "execution_count": null,
      "outputs": [
        {
          "output_type": "stream",
          "text": [
            "Cloning into 'metabolite-GCNN'...\n",
            "remote: Enumerating objects: 34, done.\u001b[K\n",
            "remote: Counting objects:   2% (1/34)\u001b[K\rremote: Counting objects:   5% (2/34)\u001b[K\rremote: Counting objects:   8% (3/34)\u001b[K\rremote: Counting objects:  11% (4/34)\u001b[K\rremote: Counting objects:  14% (5/34)\u001b[K\rremote: Counting objects:  17% (6/34)\u001b[K\rremote: Counting objects:  20% (7/34)\u001b[K\rremote: Counting objects:  23% (8/34)\u001b[K\rremote: Counting objects:  26% (9/34)\u001b[K\rremote: Counting objects:  29% (10/34)\u001b[K\rremote: Counting objects:  32% (11/34)\u001b[K\rremote: Counting objects:  35% (12/34)\u001b[K\rremote: Counting objects:  38% (13/34)\u001b[K\rremote: Counting objects:  41% (14/34)\u001b[K\rremote: Counting objects:  44% (15/34)\u001b[K\rremote: Counting objects:  47% (16/34)\u001b[K\rremote: Counting objects:  50% (17/34)\u001b[K\rremote: Counting objects:  52% (18/34)\u001b[K\rremote: Counting objects:  55% (19/34)\u001b[K\rremote: Counting objects:  58% (20/34)\u001b[K\rremote: Counting objects:  61% (21/34)\u001b[K\rremote: Counting objects:  64% (22/34)\u001b[K\rremote: Counting objects:  67% (23/34)\u001b[K\rremote: Counting objects:  70% (24/34)\u001b[K\rremote: Counting objects:  73% (25/34)\u001b[K\rremote: Counting objects:  76% (26/34)\u001b[K\rremote: Counting objects:  79% (27/34)\u001b[K\rremote: Counting objects:  82% (28/34)\u001b[K\rremote: Counting objects:  85% (29/34)\u001b[K\rremote: Counting objects:  88% (30/34)\u001b[K\rremote: Counting objects:  91% (31/34)\u001b[K\rremote: Counting objects:  94% (32/34)\u001b[K\rremote: Counting objects:  97% (33/34)\u001b[K\rremote: Counting objects: 100% (34/34)\u001b[K\rremote: Counting objects: 100% (34/34), done.\u001b[K\n",
            "remote: Compressing objects: 100% (34/34), done.\u001b[K\n",
            "remote: Total 34 (delta 13), reused 0 (delta 0), pack-reused 0\u001b[K\n",
            "Unpacking objects: 100% (34/34), done.\n"
          ],
          "name": "stdout"
        }
      ]
    },
    {
      "cell_type": "code",
      "metadata": {
        "colab": {
          "base_uri": "https://localhost:8080/"
        },
        "id": "ZFpc6Wd2n0_X",
        "outputId": "3c8e8a04-3a5c-40d4-e18a-51a1facd8152"
      },
      "source": [
        "cd metabolite-GCNN"
      ],
      "execution_count": null,
      "outputs": [
        {
          "output_type": "stream",
          "text": [
            "[Errno 2] No such file or directory: 'metabolite-GCNN'\n",
            "/content/metabolite-GCNN\n"
          ],
          "name": "stdout"
        }
      ]
    },
    {
      "cell_type": "code",
      "metadata": {
        "id": "BHs29Qd5ngUd"
      },
      "source": [
        "%tensorflow_version 1.x\n",
        "import tensorflow as tf\n",
        "#import tensorflow.compat.v1 as tf\n",
        "#tensorflow-gpu==1.15.0\n",
        "from keras.optimizers import SGD\n",
        "from keras.models import Sequential\n",
        "from keras.utils import np_utils\n",
        "from keras.layers import Dropout, Dense, Flatten\n",
        "from keras.layers.convolutional import Conv1D, MaxPooling1D\n",
        "import sys\n",
        "import graph\n",
        "import coarsening \n",
        "import models\n",
        "import utils"
      ],
      "execution_count": null,
      "outputs": []
    },
    {
      "cell_type": "code",
      "metadata": {
        "id": "WbC3XgvkGo-l"
      },
      "source": [
        "import sklearn.covariance"
      ],
      "execution_count": null,
      "outputs": []
    },
    {
      "cell_type": "code",
      "metadata": {
        "id": "JSybTMYQGUfU"
      },
      "source": [
        "#MTBLS90_data = pd.read_excel('MTBLS90.xlsx')\n",
        "#MTBLS90_data = MTBLS90_data.dropna(axis=1)\n",
        "#height,width = MTBLS90_data.shape\n",
        "#X = MTBLS90_data.iloc[:,1:width].transpose()\n",
        "#MTBLS90_Labels = pd.read_excel('MTBLS90_Labels.xlsx')\n",
        "#y = MTBLS90_Labels.replace(\"Female Gender\",0)\n",
        "#y = y.replace(\"Male Gender\",1)\n",
        "#y = y.iloc[:,1]"
      ],
      "execution_count": null,
      "outputs": []
    },
    {
      "cell_type": "code",
      "metadata": {
        "id": "4Hs_Nfe5ngUe"
      },
      "source": [
        "_1_7 = pd.ExcelFile('beng212_1_7 (1) (1).xlsx')\n",
        "#population_dist = pd.read_excel(_1_7,sheet_name = 'population_dist',header = 0)\n",
        "metabolome_clinical = pd.read_excel(_1_7,sheet_name = 'metabolome_clinical',header = 0)\n",
        "metabolite_profiles = pd.read_csv(\"metabolite_profiles.csv\")\n",
        "metabolite_profiles=metabolite_profiles.rename(columns={'Unnamed: 0':'Metabolites'})\n"
      ],
      "execution_count": null,
      "outputs": []
    },
    {
      "cell_type": "code",
      "metadata": {
        "id": "44cIbL_kngUg"
      },
      "source": [
        "X = metabolite_profiles.transpose()\n",
        "X = X.rename(columns=X.iloc[0])\n",
        "X = X.loc[~(X==0).all(axis=1)]\n",
        "X = X.drop(X.index[0])\n",
        "X = X.sort_index(axis = 0)\n",
        "X = X.drop(X.index[-1])\n",
        "\n",
        "y = metabolome_clinical.sort_index()['Group']\n",
        "y = y.replace('Stage_III_IV','Cancer')\n",
        "y = y.replace('Stage_I_II','Cancer')\n",
        "y = y.replace('Stage_0','Cancer')\n",
        "y = y.replace('MP','Healthy')\n",
        "y = y.replace('HS','Healthy')\n",
        "y = y.replace('Healthy', 0)\n",
        "y = y.replace('Cancer', 1)"
      ],
      "execution_count": null,
      "outputs": []
    },
    {
      "cell_type": "code",
      "metadata": {
        "id": "ynOvTF7KOGGU"
      },
      "source": [
        "#print((X - X.mean())/X.std())\n",
        "X = (X - X.mean())/X.std()\n"
      ],
      "execution_count": null,
      "outputs": []
    },
    {
      "cell_type": "code",
      "metadata": {
        "id": "A9rafbR9IFw6"
      },
      "source": [
        "#y = metabolome_clinical.sort_index()['Group']\n",
        "#y = y.replace('Stage_III_IV',4)\n",
        "#y = y.replace('Stage_I_II',3)\n",
        "#y = y.replace('Stage_0',2)\n",
        "#y = y.replace('MP',1)\n",
        "#y = y.replace('HS','Healthy')\n",
        "#y = y.replace('Healthy',0)\n"
      ],
      "execution_count": null,
      "outputs": []
    },
    {
      "cell_type": "code",
      "metadata": {
        "id": "tMrSaDfIkERI"
      },
      "source": [
        "X = X.astype(\"float64\")\n",
        "Cor = X.corr(method='spearman')\n",
        "Cor[abs(Cor)>.6]=1\n",
        "Cor[abs(Cor)<.6]=0\n",
        "#drop_indices = C[(C == 0).sum(axis=1)>=(len(C.columns)-1)].index\n",
        "#Cor = Cor[~((Cor == 0).sum(axis=1)>=(len(Cor.columns)-1))].transpose()\n",
        "#Cor = Cor[~((Cor == 0).sum(axis=1)>=(len(Cor.columns)-1))].transpose()\n",
        "#Cor.index\n",
        "#X = X[Cor.index]"
      ],
      "execution_count": null,
      "outputs": []
    },
    {
      "cell_type": "code",
      "metadata": {
        "colab": {
          "base_uri": "https://localhost:8080/"
        },
        "id": "RxsI_b98-7VT",
        "outputId": "6621e19b-c430-4a0f-e529-6e66c2300fd1"
      },
      "source": [
        "#drop_indices = C[(C == 0).sum(axis=1)>=(len(C.columns)-1)].index\n",
        "Cor = Cor[~((Cor == 0).sum(axis=1)>=(len(Cor.columns)-1))].transpose()\n",
        "Cor = Cor[~((Cor == 0).sum(axis=1)>=(len(Cor.columns)-1))].transpose()\n",
        "Cor.shape"
      ],
      "execution_count": null,
      "outputs": [
        {
          "output_type": "execute_result",
          "data": {
            "text/plain": [
              "(131, 131)"
            ]
          },
          "metadata": {
            "tags": []
          },
          "execution_count": 13
        }
      ]
    },
    {
      "cell_type": "code",
      "metadata": {
        "colab": {
          "base_uri": "https://localhost:8080/",
          "height": 286
        },
        "id": "mvf_l3Riaf1G",
        "outputId": "a6aa56a7-a24e-4f2a-b2df-37b26faa2503"
      },
      "source": [
        "plt.spy(Cor, markersize=1, color = 'black')"
      ],
      "execution_count": null,
      "outputs": [
        {
          "output_type": "execute_result",
          "data": {
            "text/plain": [
              "<matplotlib.lines.Line2D at 0x7f62b3414a10>"
            ]
          },
          "metadata": {
            "tags": []
          },
          "execution_count": 14
        },
        {
          "output_type": "display_data",
          "data": {
            "image/png": "[encoded data removed]",
            "text/plain": [
              "<Figure size 432x288 with 1 Axes>"
            ]
          },
          "metadata": {
            "tags": [],
            "needs_background": "light"
          }
        }
      ]
    },
    {
      "cell_type": "code",
      "metadata": {
        "colab": {
          "base_uri": "https://localhost:8080/"
        },
        "id": "6mCU1ZNsamU4",
        "outputId": "7e4bbdeb-5f3c-47f1-db67-51b96990343b"
      },
      "source": [
        "from sklearn.covariance import graphical_lasso\n",
        "corr = X.corr(method='spearman')\n",
        "corr = corr.to_numpy()\n",
        "test_graph = graphical_lasso(corr,alpha=.6, verbose=True)\n",
        "#Graph.fit(X_norm)"
      ],
      "execution_count": null,
      "outputs": [
        {
          "output_type": "stream",
          "text": [
            "[graphical_lasso] Iteration   0, cost  2.10e+03, dual gap 7.898e+00\n",
            "[graphical_lasso] Iteration   1, cost  2.10e+03, dual gap -4.619e-03\n",
            "[graphical_lasso] Iteration   2, cost  2.10e+03, dual gap -1.167e-04\n",
            "[graphical_lasso] Iteration   3, cost  2.10e+03, dual gap 8.425e-06\n"
          ],
          "name": "stdout"
        }
      ]
    },
    {
      "cell_type": "code",
      "metadata": {
        "colab": {
          "base_uri": "https://localhost:8080/",
          "height": 286
        },
        "id": "7Azn-5rxgbiN",
        "outputId": "3109b8f9-ed28-41ff-9835-e809bc9d85de"
      },
      "source": [
        "gm = pd.DataFrame(test_graph[1])\n",
        "gm[gm!=0]=1\n",
        "#gm[abs(gm)<.6]=0\n",
        "plt.spy(gm, markersize=1, color = 'black')"
      ],
      "execution_count": null,
      "outputs": [
        {
          "output_type": "execute_result",
          "data": {
            "text/plain": [
              "<matplotlib.lines.Line2D at 0x7f62b1c4b750>"
            ]
          },
          "metadata": {
            "tags": []
          },
          "execution_count": 16
        },
        {
          "output_type": "display_data",
          "data": {
            "image/png": "[encoded data removed]",
            "text/plain": [
              "<Figure size 432x288 with 1 Axes>"
            ]
          },
          "metadata": {
            "tags": [],
            "needs_background": "light"
          }
        }
      ]
    },
    {
      "cell_type": "code",
      "metadata": {
        "id": "YNeLGmJsgVup",
        "colab": {
          "base_uri": "https://localhost:8080/"
        },
        "outputId": "7bfdfbbb-2609-46a5-810f-188f089bdfdf"
      },
      "source": [
        "dif = gm-Cor\n",
        "dif = dif.to_numpy()\n",
        "np.linalg.norm(Cor,'fro')"
      ],
      "execution_count": null,
      "outputs": [
        {
          "output_type": "execute_result",
          "data": {
            "text/plain": [
              "26.019223662515376"
            ]
          },
          "metadata": {
            "tags": []
          },
          "execution_count": 17
        }
      ]
    },
    {
      "cell_type": "code",
      "metadata": {
        "id": "WPnFwtgcfqvX",
        "colab": {
          "base_uri": "https://localhost:8080/"
        },
        "outputId": "72b946fc-c6fd-4f0e-e8fe-2d414eca1cea"
      },
      "source": [
        "test_graph[1]"
      ],
      "execution_count": null,
      "outputs": [
        {
          "output_type": "execute_result",
          "data": {
            "text/plain": [
              "array([[ 1., -0., -0., ..., -0.,  0., -0.],\n",
              "       [-0.,  1.,  0., ..., -0.,  0., -0.],\n",
              "       [-0.,  0.,  1., ...,  0., -0., -0.],\n",
              "       ...,\n",
              "       [-0., -0.,  0., ...,  1., -0., -0.],\n",
              "       [ 0.,  0., -0., ..., -0.,  1., -0.],\n",
              "       [-0., -0., -0., ..., -0., -0.,  1.]])"
            ]
          },
          "metadata": {
            "tags": []
          },
          "execution_count": 18
        }
      ]
    },
    {
      "cell_type": "code",
      "metadata": {
        "id": "ROAI3QX3elam",
        "colab": {
          "base_uri": "https://localhost:8080/",
          "height": 286
        },
        "outputId": "380ea55b-f7e1-4701-b7ff-ab0b48d0fa1d"
      },
      "source": [
        "plt.spy(test_graph[1], markersize=1, color = 'black')"
      ],
      "execution_count": null,
      "outputs": [
        {
          "output_type": "execute_result",
          "data": {
            "text/plain": [
              "<matplotlib.lines.Line2D at 0x7f62b1aebb90>"
            ]
          },
          "metadata": {
            "tags": []
          },
          "execution_count": 19
        },
        {
          "output_type": "display_data",
          "data": {
            "image/png": "[encoded data removed]",
            "text/plain": [
              "<Figure size 432x288 with 1 Axes>"
            ]
          },
          "metadata": {
            "tags": [],
            "needs_background": "light"
          }
        }
      ]
    },
    {
      "cell_type": "code",
      "metadata": {
        "id": "_oR3GTWlbtHk"
      },
      "source": [
        "from sklearn.preprocessing import StandardScaler\n",
        "scaler = StandardScaler()\n",
        "scaler.fit(X)\n",
        "X_norm = scaler.fit_transform(X)"
      ],
      "execution_count": null,
      "outputs": []
    },
    {
      "cell_type": "code",
      "metadata": {
        "id": "F463my9mZI8R",
        "colab": {
          "base_uri": "https://localhost:8080/"
        },
        "outputId": "5cfe4447-bffd-46cf-e261-9c780d888f82"
      },
      "source": [
        "Cor.shape"
      ],
      "execution_count": null,
      "outputs": [
        {
          "output_type": "execute_result",
          "data": {
            "text/plain": [
              "(131, 131)"
            ]
          },
          "metadata": {
            "tags": []
          },
          "execution_count": 21
        }
      ]
    },
    {
      "cell_type": "markdown",
      "metadata": {
        "id": "zCs6oUk-ngUi"
      },
      "source": [
        "### Logistic Regression"
      ]
    },
    {
      "cell_type": "code",
      "metadata": {
        "id": "yfJJtYqongUi",
        "colab": {
          "base_uri": "https://localhost:8080/"
        },
        "outputId": "ce2a02d9-0d32-4eac-d564-605b5e090e10"
      },
      "source": [
        "X_train, X_test, y_train, y_test = tts(X,y, test_size=0.3, random_state=0)\n",
        "lr= LR(max_iter = 1000000000)\n",
        "lr.fit(X_train, y_train)\n",
        "y_pred = lr.predict(X_test)\n",
        "print('Accuracy of logistic regression classifier on test set: {:.2f}'.format(lr.score(X_test, y_test)))"
      ],
      "execution_count": null,
      "outputs": [
        {
          "output_type": "stream",
          "text": [
            "Accuracy of logistic regression classifier on test set: 0.89\n"
          ],
          "name": "stdout"
        }
      ]
    },
    {
      "cell_type": "markdown",
      "metadata": {
        "id": "2IuzealHngUj"
      },
      "source": [
        "### CNN"
      ]
    },
    {
      "cell_type": "code",
      "metadata": {
        "id": "Ity1dAflngUk"
      },
      "source": [
        "def evaluate_model(trainX, trainy, testX, testy):\n",
        "    verbose, epochs, batch_size = 0, 10, 1\n",
        "    n_timesteps, n_features, n_outputs = trainX.shape[1], trainX.shape[2], trainy.shape[1]; print('step2:', n_timesteps, n_features,n_outputs)\n",
        "    model = Sequential(); print('setup model')\n",
        "    model.add(Conv1D(filters=64, kernel_size=10, activation='relu',input_shape = (n_timesteps, n_features)));print('L1')\n",
        "    model.add(Conv1D(filters=64, kernel_size=10, activation='relu')); print('L2')\n",
        "    model.add(Dropout(0.5)); print('L3')\n",
        "    model.add(MaxPooling1D(pool_size=1)); print('L4')   \n",
        "    model.add(Flatten()); print('flatten')\n",
        "    model.add(Dense(100, activation='relu')); print('dense layer')\n",
        "    model.add(Dense(n_outputs, activation='softmax')); print('final layer')\n",
        "    model.compile(loss='categorical_crossentropy', optimizer='adam', metrics=['binary_accuracy']); print('compile')\n",
        "    #train_data = tf.data.Dataset.from_tensor_slices((trainX, trainy)); print('train_data')\n",
        "    #valid_data = tf.data.Dataset.from_tensor_slices((testX, testy));print('tesr_data')\n",
        "    #train_data = np.asarray(train_data).astype('float32')\n",
        "    #valid_data = np.asarray(test_data).astype('float32')\n",
        "    print('tryna fit')\n",
        "    model.fit(trainX,trainy, epochs=epochs, batch_size=batch_size, verbose=verbose);  print('fit');\n",
        "    a, accuracy = model.evaluate(testX, testy, batch_size=batch_size, verbose=0);\n",
        "    #return accuracy\n",
        "    return a,accuracy"
      ],
      "execution_count": null,
      "outputs": []
    },
    {
      "cell_type": "code",
      "metadata": {
        "id": "-UBRA2x-ngUl",
        "colab": {
          "base_uri": "https://localhost:8080/"
        },
        "outputId": "1340622f-6998-40fa-8717-ae6a14580737"
      },
      "source": [
        "X_train, X_test, y_train, y_test = tts(X,y, test_size=0.5)\n",
        "X_test = np.expand_dims(X_test,axis = 0)\n",
        "y_test = np.expand_dims(y_test, axis = 0)\n",
        "X_train = np.expand_dims(X_train,axis = 0)\n",
        "y_train = np.expand_dims(y_train, axis = 0)\n",
        "X_train = np.asarray(X_train ).astype('float32')\n",
        "y_train = np.asarray(y_train).astype('float32')\n",
        "X_test = np.asarray(X_test ).astype('float32')\n",
        "y_test = np.asarray(y_test).astype('float32')\n",
        "evaluate_model(X_train, y_train, X_test, y_test)"
      ],
      "execution_count": null,
      "outputs": [
        {
          "output_type": "stream",
          "text": [
            "step2: 203 450 203\n",
            "setup model\n",
            "WARNING:tensorflow:From /tensorflow-1.15.2/python3.7/tensorflow_core/python/ops/resource_variable_ops.py:1630: calling BaseResourceVariable.__init__ (from tensorflow.python.ops.resource_variable_ops) with constraint is deprecated and will be removed in a future version.\n",
            "Instructions for updating:\n",
            "If using Keras pass *_constraint arguments to layers.\n",
            "L1\n",
            "L2\n",
            "L3\n",
            "WARNING:tensorflow:From /tensorflow-1.15.2/python3.7/keras/backend/tensorflow_backend.py:4070: The name tf.nn.max_pool is deprecated. Please use tf.nn.max_pool2d instead.\n",
            "\n",
            "L4\n",
            "flatten\n",
            "dense layer\n",
            "final layer\n",
            "compile\n",
            "tryna fit\n",
            "WARNING:tensorflow:From /tensorflow-1.15.2/python3.7/keras/backend/tensorflow_backend.py:422: The name tf.global_variables is deprecated. Please use tf.compat.v1.global_variables instead.\n",
            "\n",
            "fit\n"
          ],
          "name": "stdout"
        },
        {
          "output_type": "execute_result",
          "data": {
            "text/plain": [
              "(10393.1279296875, 0.5566502213478088)"
            ]
          },
          "metadata": {
            "tags": []
          },
          "execution_count": 23
        }
      ]
    },
    {
      "cell_type": "markdown",
      "metadata": {
        "id": "CNK9v2fxngUm"
      },
      "source": [
        "This pord"
      ]
    },
    {
      "cell_type": "markdown",
      "metadata": {
        "id": "pf28jiywngUn"
      },
      "source": [
        "### GCN"
      ]
    },
    {
      "cell_type": "code",
      "metadata": {
        "id": "WhMWJIiG1wQe"
      },
      "source": [
        "#from scipy.stats import pearsonr\n",
        "##from https://stackoverflow.com/questions/25571882/pandas-columns-correlation-with-statistical-significance\n",
        "#def calculate_pvalues(df):\n",
        "#    df = df.dropna()._get_numeric_data()\n",
        "#    dfcols = pd.DataFrame(columns=df.columns)\n",
        "#    pvalues = dfcols.transpose().join(dfcols, how='outer')\n",
        "#    for r in df.columns:\n",
        "#        for c in df.columns:\n",
        "#            pvalues[r][c] = round(pearsonr(df[r], df[c])[1], 4)\n",
        "#    return pvalues"
      ],
      "execution_count": null,
      "outputs": []
    },
    {
      "cell_type": "code",
      "metadata": {
        "id": "ZMcs6wmZRhR0"
      },
      "source": [
        "#PVALUES = calculate_pvalues(O)"
      ],
      "execution_count": null,
      "outputs": []
    },
    {
      "cell_type": "code",
      "metadata": {
        "id": "cS-idIwE_ASu"
      },
      "source": [
        "#X = X.astype(float)\n",
        "#C = X.corr(method='spearman')\n",
        "#Pval = calculate_pvalues(C)\n",
        "#Pval[Pval<=.00001]=1\n",
        "#Pval[(Pval>.00001) & (Pval<1)] = 0\n",
        "#Pval"
      ],
      "execution_count": null,
      "outputs": []
    },
    {
      "cell_type": "code",
      "metadata": {
        "colab": {
          "base_uri": "https://localhost:8080/",
          "height": 1000
        },
        "id": "_PPJHEZRngU3",
        "outputId": "20fc5368-60cb-4dd3-b1ea-b3f45495eba6"
      },
      "source": [
        "X_train, X_test, y_train, y_test = tts(X,y, test_size=0.3)\n",
        "#print(X_train.shape)\n",
        "X_train = np.asarray(X_train ).astype('float32')\n",
        "y_train = np.asarray(y_train).astype('float32')\n",
        "X_test = np.asarray(X_test).astype('float32')\n",
        "y_test = np.asarray(y_test).astype('float32')\n",
        "\n",
        "F = scipy.sparse.csr_matrix(Cor)\n",
        "plt.spy(F, markersize=1, color = 'black')\n",
        "\n",
        "graphs, perm = coarsening.coarsen(F, levels=1, self_connections=True) #haven't experimented with levels as much, but 1-2 both yield pretty good results\n",
        "X_train_c = coarsening.perm_data(X_train, perm)\n",
        "X_test_c = coarsening.perm_data(X_test, perm)\n",
        "L = [graph.laplacian(F, normalized=True, renormalized=True) for F in graphs]\n",
        "graph.plot_spectrum(L)"
      ],
      "execution_count": null,
      "outputs": [
        {
          "output_type": "stream",
          "text": [
            "Layer 0: M_0 = |V| = 786 nodes (336 added),|E| = 498 edges\n",
            "Layer 1: M_1 = |V| = 393 nodes (0 added),|E| = 326 edges\n",
            "284 450\n",
            "786\n",
            "[[0. 0. 0. ... 0. 0. 0.]\n",
            " [0. 0. 0. ... 0. 0. 0.]\n",
            " [0. 0. 0. ... 0. 0. 0.]\n",
            " ...\n",
            " [0. 0. 0. ... 0. 0. 0.]\n",
            " [0. 0. 0. ... 0. 0. 0.]\n",
            " [0. 0. 0. ... 0. 0. 0.]]\n",
            "create empty\n",
            "start loop\n",
            "first if\n",
            "start loop\n",
            "start loop\n",
            "first if\n",
            "start loop\n",
            "first if\n",
            "start loop\n",
            "first if\n",
            "start loop\n",
            "start loop\n",
            "first if\n",
            "start loop\n",
            "start loop\n",
            "first if\n",
            "start loop\n",
            "first if\n",
            "start loop\n",
            "first if\n",
            "start loop\n",
            "start loop\n",
            "first if\n",
            "start loop\n",
            "start loop\n",
            "first if\n",
            "start loop\n",
            "start loop\n",
            "first if\n",
            "start loop\n",
            "start loop\n",
            "first if\n",
            "start loop\n",
            "start loop\n",
            "first if\n",
            "start loop\n",
            "start loop\n",
            "first if\n",
            "start loop\n",
            "first if\n",
            "start loop\n",
            "first if\n",
            "start loop\n",
            "start loop\n",
            "first if\n",
            "start loop\n",
            "start loop\n",
            "first if\n",
            "start loop\n",
            "first if\n",
            "start loop\n",
            "first if\n",
            "start loop\n",
            "start loop\n",
            "first if\n",
            "start loop\n",
            "start loop\n",
            "first if\n",
            "start loop\n",
            "start loop\n",
            "first if\n",
            "start loop\n",
            "first if\n",
            "start loop\n",
            "first if\n",
            "start loop\n",
            "first if\n",
            "start loop\n",
            "first if\n",
            "start loop\n",
            "start loop\n",
            "first if\n",
            "start loop\n",
            "first if\n",
            "start loop\n",
            "first if\n",
            "start loop\n",
            "start loop\n",
            "first if\n",
            "start loop\n",
            "start loop\n",
            "first if\n",
            "start loop\n",
            "start loop\n",
            "first if\n",
            "start loop\n",
            "start loop\n",
            "first if\n",
            "start loop\n",
            "start loop\n",
            "first if\n",
            "start loop\n",
            "start loop\n",
            "first if\n",
            "start loop\n",
            "start loop\n",
            "first if\n",
            "start loop\n",
            "start loop\n",
            "first if\n",
            "start loop\n",
            "first if\n",
            "start loop\n",
            "first if\n",
            "start loop\n",
            "start loop\n",
            "first if\n",
            "start loop\n",
            "first if\n",
            "start loop\n",
            "first if\n",
            "start loop\n",
            "start loop\n",
            "first if\n",
            "start loop\n",
            "start loop\n",
            "first if\n",
            "start loop\n",
            "start loop\n",
            "first if\n",
            "start loop\n",
            "first if\n",
            "start loop\n",
            "first if\n",
            "start loop\n",
            "start loop\n",
            "first if\n",
            "start loop\n",
            "first if\n",
            "start loop\n",
            "first if\n",
            "start loop\n",
            "start loop\n",
            "first if\n",
            "start loop\n",
            "start loop\n",
            "first if\n",
            "start loop\n",
            "start loop\n",
            "first if\n",
            "start loop\n",
            "start loop\n",
            "first if\n",
            "start loop\n",
            "first if\n",
            "start loop\n",
            "first if\n",
            "start loop\n",
            "start loop\n",
            "first if\n",
            "start loop\n",
            "start loop\n",
            "first if\n",
            "start loop\n",
            "start loop\n",
            "first if\n",
            "start loop\n",
            "start loop\n",
            "first if\n",
            "start loop\n",
            "start loop\n",
            "first if\n",
            "start loop\n",
            "first if\n",
            "start loop\n",
            "first if\n",
            "start loop\n",
            "start loop\n",
            "first if\n",
            "start loop\n",
            "start loop\n",
            "first if\n",
            "start loop\n",
            "start loop\n",
            "first if\n",
            "start loop\n",
            "start loop\n",
            "first if\n",
            "start loop\n",
            "start loop\n",
            "first if\n",
            "start loop\n",
            "first if\n",
            "start loop\n",
            "first if\n",
            "start loop\n",
            "first if\n",
            "start loop\n",
            "first if\n",
            "start loop\n",
            "start loop\n",
            "first if\n",
            "start loop\n",
            "start loop\n",
            "first if\n",
            "start loop\n",
            "start loop\n",
            "first if\n",
            "start loop\n",
            "first if\n",
            "start loop\n",
            "first if\n",
            "start loop\n",
            "start loop\n",
            "first if\n",
            "start loop\n",
            "first if\n",
            "start loop\n",
            "first if\n",
            "start loop\n",
            "start loop\n",
            "first if\n",
            "start loop\n",
            "start loop\n",
            "first if\n",
            "start loop\n",
            "first if\n",
            "start loop\n",
            "first if\n",
            "start loop\n",
            "start loop\n",
            "first if\n",
            "start loop\n",
            "start loop\n",
            "first if\n",
            "start loop\n",
            "start loop\n",
            "first if\n",
            "start loop\n",
            "start loop\n",
            "first if\n",
            "start loop\n",
            "start loop\n",
            "first if\n",
            "start loop\n",
            "first if\n",
            "start loop\n",
            "first if\n",
            "start loop\n",
            "start loop\n",
            "first if\n",
            "start loop\n",
            "start loop\n",
            "first if\n",
            "start loop\n",
            "start loop\n",
            "first if\n",
            "start loop\n",
            "start loop\n",
            "first if\n",
            "start loop\n",
            "start loop\n",
            "first if\n",
            "start loop\n",
            "start loop\n",
            "first if\n",
            "start loop\n",
            "start loop\n",
            "first if\n",
            "start loop\n",
            "first if\n",
            "start loop\n",
            "first if\n",
            "start loop\n",
            "first if\n",
            "start loop\n",
            "first if\n",
            "start loop\n",
            "first if\n",
            "start loop\n",
            "first if\n",
            "start loop\n",
            "start loop\n",
            "first if\n",
            "start loop\n",
            "first if\n",
            "start loop\n",
            "first if\n",
            "start loop\n",
            "start loop\n",
            "first if\n",
            "start loop\n",
            "first if\n",
            "start loop\n",
            "first if\n",
            "start loop\n",
            "start loop\n",
            "first if\n",
            "start loop\n",
            "start loop\n",
            "first if\n",
            "start loop\n",
            "start loop\n",
            "first if\n",
            "start loop\n",
            "first if\n",
            "start loop\n",
            "first if\n",
            "start loop\n",
            "first if\n",
            "start loop\n",
            "first if\n",
            "start loop\n",
            "start loop\n",
            "first if\n",
            "start loop\n",
            "start loop\n",
            "first if\n",
            "start loop\n",
            "first if\n",
            "start loop\n",
            "first if\n",
            "start loop\n",
            "start loop\n",
            "first if\n",
            "start loop\n",
            "start loop\n",
            "first if\n",
            "start loop\n",
            "start loop\n",
            "first if\n",
            "start loop\n",
            "start loop\n",
            "first if\n",
            "start loop\n",
            "first if\n",
            "start loop\n",
            "first if\n",
            "start loop\n",
            "start loop\n",
            "first if\n",
            "start loop\n",
            "start loop\n",
            "first if\n",
            "start loop\n",
            "first if\n",
            "start loop\n",
            "first if\n",
            "start loop\n",
            "start loop\n",
            "first if\n",
            "start loop\n",
            "first if\n",
            "start loop\n",
            "first if\n",
            "start loop\n",
            "start loop\n",
            "first if\n",
            "start loop\n",
            "start loop\n",
            "first if\n",
            "start loop\n",
            "start loop\n",
            "first if\n",
            "start loop\n",
            "start loop\n",
            "first if\n",
            "start loop\n",
            "start loop\n",
            "first if\n",
            "start loop\n",
            "start loop\n",
            "first if\n",
            "start loop\n",
            "start loop\n",
            "first if\n",
            "start loop\n",
            "start loop\n",
            "first if\n",
            "start loop\n",
            "start loop\n",
            "first if\n",
            "start loop\n",
            "first if\n",
            "start loop\n",
            "first if\n",
            "start loop\n",
            "first if\n",
            "start loop\n",
            "first if\n",
            "start loop\n",
            "start loop\n",
            "first if\n",
            "start loop\n",
            "start loop\n",
            "first if\n",
            "start loop\n",
            "start loop\n",
            "first if\n",
            "start loop\n",
            "start loop\n",
            "first if\n",
            "start loop\n",
            "start loop\n",
            "first if\n",
            "start loop\n",
            "start loop\n",
            "first if\n",
            "start loop\n",
            "start loop\n",
            "first if\n",
            "start loop\n",
            "start loop\n",
            "first if\n",
            "start loop\n",
            "first if\n",
            "start loop\n",
            "first if\n",
            "start loop\n",
            "first if\n",
            "start loop\n",
            "first if\n",
            "start loop\n",
            "start loop\n",
            "first if\n",
            "start loop\n",
            "first if\n",
            "start loop\n",
            "first if\n",
            "start loop\n",
            "first if\n",
            "start loop\n",
            "first if\n",
            "start loop\n",
            "start loop\n",
            "first if\n",
            "start loop\n",
            "start loop\n",
            "first if\n",
            "start loop\n",
            "start loop\n",
            "first if\n",
            "start loop\n",
            "start loop\n",
            "first if\n",
            "start loop\n",
            "start loop\n",
            "first if\n",
            "start loop\n",
            "start loop\n",
            "first if\n",
            "start loop\n",
            "start loop\n",
            "first if\n",
            "start loop\n",
            "first if\n",
            "start loop\n",
            "first if\n",
            "start loop\n",
            "first if\n",
            "start loop\n",
            "first if\n",
            "start loop\n",
            "start loop\n",
            "first if\n",
            "start loop\n",
            "start loop\n",
            "first if\n",
            "start loop\n",
            "start loop\n",
            "first if\n",
            "start loop\n",
            "start loop\n",
            "first if\n",
            "start loop\n",
            "start loop\n",
            "first if\n",
            "start loop\n",
            "first if\n",
            "start loop\n",
            "first if\n",
            "start loop\n",
            "start loop\n",
            "first if\n",
            "start loop\n",
            "start loop\n",
            "first if\n",
            "start loop\n",
            "start loop\n",
            "first if\n",
            "start loop\n",
            "first if\n",
            "start loop\n",
            "first if\n",
            "start loop\n",
            "start loop\n",
            "first if\n",
            "start loop\n",
            "start loop\n",
            "first if\n",
            "start loop\n",
            "start loop\n",
            "first if\n",
            "start loop\n",
            "start loop\n",
            "first if\n",
            "start loop\n",
            "start loop\n",
            "first if\n",
            "start loop\n",
            "first if\n",
            "start loop\n",
            "first if\n",
            "start loop\n",
            "first if\n",
            "start loop\n",
            "first if\n",
            "start loop\n",
            "start loop\n",
            "first if\n",
            "start loop\n",
            "first if\n",
            "start loop\n",
            "first if\n",
            "start loop\n",
            "start loop\n",
            "first if\n",
            "start loop\n",
            "start loop\n",
            "first if\n",
            "start loop\n",
            "first if\n",
            "start loop\n",
            "first if\n",
            "start loop\n",
            "start loop\n",
            "first if\n",
            "start loop\n",
            "start loop\n",
            "first if\n",
            "start loop\n",
            "first if\n",
            "start loop\n",
            "first if\n",
            "start loop\n",
            "start loop\n",
            "first if\n",
            "start loop\n",
            "start loop\n",
            "first if\n",
            "start loop\n",
            "first if\n",
            "start loop\n",
            "first if\n",
            "start loop\n",
            "start loop\n",
            "first if\n",
            "start loop\n",
            "start loop\n",
            "first if\n",
            "start loop\n",
            "start loop\n",
            "first if\n",
            "start loop\n",
            "start loop\n",
            "first if\n",
            "start loop\n",
            "start loop\n",
            "first if\n",
            "start loop\n",
            "start loop\n",
            "first if\n",
            "start loop\n",
            "start loop\n",
            "first if\n",
            "start loop\n",
            "start loop\n",
            "first if\n",
            "start loop\n",
            "start loop\n",
            "first if\n",
            "start loop\n",
            "start loop\n",
            "first if\n",
            "start loop\n",
            "first if\n",
            "start loop\n",
            "first if\n",
            "start loop\n",
            "start loop\n",
            "first if\n",
            "start loop\n",
            "start loop\n",
            "first if\n",
            "start loop\n",
            "start loop\n",
            "first if\n",
            "start loop\n",
            "start loop\n",
            "first if\n",
            "start loop\n",
            "start loop\n",
            "first if\n",
            "start loop\n",
            "start loop\n",
            "first if\n",
            "start loop\n",
            "start loop\n",
            "first if\n",
            "start loop\n",
            "start loop\n",
            "first if\n",
            "start loop\n",
            "start loop\n",
            "first if\n",
            "start loop\n",
            "start loop\n",
            "first if\n",
            "start loop\n",
            "start loop\n",
            "first if\n",
            "start loop\n",
            "start loop\n",
            "first if\n",
            "start loop\n",
            "start loop\n",
            "first if\n",
            "start loop\n",
            "start loop\n",
            "first if\n",
            "start loop\n",
            "start loop\n",
            "first if\n",
            "start loop\n",
            "start loop\n",
            "first if\n",
            "start loop\n",
            "start loop\n",
            "first if\n",
            "start loop\n",
            "start loop\n",
            "first if\n",
            "start loop\n",
            "first if\n",
            "start loop\n",
            "first if\n",
            "start loop\n",
            "start loop\n",
            "first if\n",
            "start loop\n",
            "start loop\n",
            "first if\n",
            "start loop\n",
            "start loop\n",
            "first if\n",
            "start loop\n",
            "start loop\n",
            "first if\n",
            "start loop\n",
            "start loop\n",
            "first if\n",
            "start loop\n",
            "start loop\n",
            "first if\n",
            "start loop\n",
            "start loop\n",
            "first if\n",
            "start loop\n",
            "start loop\n",
            "first if\n",
            "start loop\n",
            "start loop\n",
            "first if\n",
            "start loop\n",
            "start loop\n",
            "first if\n",
            "start loop\n",
            "first if\n",
            "start loop\n",
            "first if\n",
            "start loop\n",
            "start loop\n",
            "first if\n",
            "start loop\n",
            "start loop\n",
            "first if\n",
            "start loop\n",
            "start loop\n",
            "first if\n",
            "start loop\n",
            "start loop\n",
            "first if\n",
            "start loop\n",
            "start loop\n",
            "first if\n",
            "start loop\n",
            "start loop\n",
            "first if\n",
            "start loop\n",
            "start loop\n",
            "first if\n",
            "start loop\n",
            "start loop\n",
            "first if\n",
            "start loop\n",
            "start loop\n",
            "first if\n",
            "start loop\n",
            "first if\n",
            "start loop\n",
            "first if\n",
            "start loop\n",
            "start loop\n",
            "first if\n",
            "start loop\n",
            "first if\n",
            "start loop\n",
            "first if\n",
            "start loop\n",
            "start loop\n",
            "first if\n",
            "start loop\n",
            "first if\n",
            "start loop\n",
            "first if\n",
            "start loop\n",
            "start loop\n",
            "first if\n",
            "start loop\n",
            "start loop\n",
            "first if\n",
            "start loop\n",
            "start loop\n",
            "first if\n",
            "start loop\n",
            "start loop\n",
            "first if\n",
            "start loop\n",
            "first if\n",
            "start loop\n",
            "first if\n",
            "start loop\n",
            "start loop\n",
            "first if\n",
            "start loop\n",
            "start loop\n",
            "first if\n",
            "start loop\n",
            "start loop\n",
            "first if\n",
            "start loop\n",
            "start loop\n",
            "first if\n",
            "start loop\n",
            "start loop\n",
            "first if\n",
            "start loop\n",
            "start loop\n",
            "first if\n",
            "start loop\n",
            "start loop\n",
            "first if\n",
            "start loop\n",
            "start loop\n",
            "first if\n",
            "start loop\n",
            "start loop\n",
            "first if\n",
            "start loop\n",
            "start loop\n",
            "first if\n",
            "start loop\n",
            "start loop\n",
            "first if\n",
            "start loop\n",
            "start loop\n",
            "first if\n",
            "start loop\n",
            "start loop\n",
            "first if\n",
            "start loop\n",
            "start loop\n",
            "first if\n",
            "start loop\n",
            "start loop\n",
            "first if\n",
            "start loop\n",
            "start loop\n",
            "first if\n",
            "start loop\n",
            "start loop\n",
            "first if\n",
            "start loop\n",
            "start loop\n",
            "first if\n",
            "start loop\n",
            "start loop\n",
            "first if\n",
            "start loop\n",
            "start loop\n",
            "first if\n",
            "start loop\n",
            "start loop\n",
            "first if\n",
            "start loop\n",
            "start loop\n",
            "first if\n",
            "start loop\n",
            "start loop\n",
            "first if\n",
            "start loop\n",
            "start loop\n",
            "first if\n",
            "start loop\n",
            "start loop\n",
            "first if\n",
            "start loop\n",
            "start loop\n",
            "first if\n",
            "start loop\n",
            "start loop\n",
            "first if\n",
            "start loop\n",
            "first if\n",
            "start loop\n",
            "first if\n",
            "start loop\n",
            "start loop\n",
            "first if\n",
            "start loop\n",
            "start loop\n",
            "first if\n",
            "start loop\n",
            "start loop\n",
            "first if\n",
            "start loop\n",
            "start loop\n",
            "first if\n",
            "start loop\n",
            "start loop\n",
            "first if\n",
            "start loop\n",
            "start loop\n",
            "first if\n",
            "start loop\n",
            "start loop\n",
            "first if\n",
            "start loop\n",
            "start loop\n",
            "first if\n",
            "start loop\n",
            "start loop\n",
            "first if\n",
            "start loop\n",
            "start loop\n",
            "first if\n",
            "start loop\n",
            "start loop\n",
            "first if\n",
            "start loop\n",
            "start loop\n",
            "first if\n",
            "start loop\n",
            "start loop\n",
            "first if\n",
            "start loop\n",
            "start loop\n",
            "first if\n",
            "start loop\n",
            "start loop\n",
            "first if\n",
            "start loop\n",
            "start loop\n",
            "first if\n",
            "start loop\n",
            "start loop\n",
            "first if\n",
            "start loop\n",
            "start loop\n",
            "first if\n",
            "start loop\n",
            "start loop\n",
            "first if\n",
            "start loop\n",
            "start loop\n",
            "first if\n",
            "start loop\n",
            "start loop\n",
            "first if\n",
            "start loop\n",
            "first if\n",
            "start loop\n",
            "first if\n",
            "start loop\n",
            "start loop\n",
            "first if\n",
            "start loop\n",
            "start loop\n",
            "first if\n",
            "start loop\n",
            "start loop\n",
            "first if\n",
            "start loop\n",
            "start loop\n",
            "first if\n",
            "start loop\n",
            "start loop\n",
            "first if\n",
            "start loop\n",
            "first if\n",
            "start loop\n",
            "first if\n",
            "start loop\n",
            "start loop\n",
            "first if\n",
            "start loop\n",
            "first if\n",
            "start loop\n",
            "first if\n",
            "start loop\n",
            "start loop\n",
            "first if\n",
            "start loop\n",
            "start loop\n",
            "first if\n",
            "start loop\n",
            "start loop\n",
            "first if\n",
            "start loop\n",
            "start loop\n",
            "first if\n",
            "start loop\n",
            "start loop\n",
            "first if\n",
            "start loop\n",
            "start loop\n",
            "first if\n",
            "start loop\n",
            "start loop\n",
            "first if\n",
            "start loop\n",
            "start loop\n",
            "first if\n",
            "start loop\n",
            "start loop\n",
            "first if\n",
            "start loop\n",
            "start loop\n",
            "first if\n",
            "start loop\n",
            "start loop\n",
            "first if\n",
            "start loop\n",
            "start loop\n",
            "first if\n",
            "start loop\n",
            "start loop\n",
            "first if\n",
            "start loop\n",
            "start loop\n",
            "first if\n",
            "start loop\n",
            "start loop\n",
            "first if\n",
            "start loop\n",
            "start loop\n",
            "first if\n",
            "start loop\n",
            "start loop\n",
            "first if\n",
            "start loop\n",
            "start loop\n",
            "first if\n",
            "start loop\n",
            "start loop\n",
            "first if\n",
            "start loop\n",
            "start loop\n",
            "first if\n",
            "start loop\n",
            "start loop\n",
            "first if\n",
            "start loop\n",
            "start loop\n",
            "first if\n",
            "start loop\n",
            "start loop\n",
            "first if\n",
            "start loop\n",
            "start loop\n",
            "first if\n",
            "start loop\n",
            "start loop\n",
            "first if\n",
            "start loop\n",
            "start loop\n",
            "first if\n",
            "start loop\n",
            "start loop\n",
            "first if\n",
            "start loop\n",
            "start loop\n",
            "first if\n",
            "start loop\n",
            "start loop\n",
            "first if\n",
            "start loop\n",
            "start loop\n",
            "first if\n",
            "start loop\n",
            "start loop\n",
            "first if\n",
            "start loop\n",
            "start loop\n",
            "first if\n",
            "start loop\n",
            "start loop\n",
            "first if\n",
            "start loop\n",
            "start loop\n",
            "first if\n",
            "start loop\n",
            "start loop\n",
            "first if\n",
            "start loop\n",
            "start loop\n",
            "first if\n",
            "start loop\n",
            "start loop\n",
            "first if\n",
            "start loop\n",
            "start loop\n",
            "first if\n",
            "start loop\n",
            "start loop\n",
            "first if\n",
            "start loop\n",
            "start loop\n",
            "first if\n",
            "start loop\n",
            "start loop\n",
            "first if\n",
            "start loop\n",
            "start loop\n",
            "first if\n",
            "start loop\n",
            "start loop\n",
            "first if\n",
            "start loop\n",
            "start loop\n",
            "first if\n",
            "start loop\n",
            "start loop\n",
            "first if\n",
            "start loop\n",
            "start loop\n",
            "first if\n",
            "start loop\n",
            "start loop\n",
            "first if\n",
            "start loop\n",
            "start loop\n",
            "first if\n",
            "start loop\n",
            "start loop\n",
            "first if\n",
            "start loop\n",
            "start loop\n",
            "first if\n",
            "start loop\n",
            "start loop\n",
            "first if\n",
            "start loop\n",
            "start loop\n",
            "first if\n",
            "start loop\n",
            "start loop\n",
            "first if\n",
            "start loop\n",
            "start loop\n",
            "first if\n",
            "start loop\n",
            "start loop\n",
            "first if\n",
            "start loop\n",
            "start loop\n",
            "first if\n",
            "start loop\n",
            "start loop\n",
            "first if\n",
            "start loop\n",
            "start loop\n",
            "first if\n",
            "start loop\n",
            "start loop\n",
            "first if\n",
            "start loop\n",
            "start loop\n",
            "first if\n",
            "start loop\n",
            "start loop\n",
            "first if\n",
            "start loop\n",
            "start loop\n",
            "first if\n",
            "start loop\n",
            "start loop\n",
            "first if\n",
            "start loop\n",
            "start loop\n",
            "first if\n",
            "start loop\n",
            "start loop\n",
            "first if\n",
            "start loop\n",
            "start loop\n",
            "first if\n",
            "start loop\n",
            "start loop\n",
            "first if\n",
            "start loop\n",
            "start loop\n",
            "first if\n",
            "start loop\n",
            "start loop\n",
            "first if\n",
            "start loop\n",
            "start loop\n",
            "first if\n",
            "start loop\n",
            "start loop\n",
            "first if\n",
            "start loop\n",
            "start loop\n",
            "first if\n",
            "start loop\n",
            "start loop\n",
            "first if\n",
            "start loop\n",
            "start loop\n",
            "first if\n",
            "start loop\n",
            "start loop\n",
            "first if\n",
            "start loop\n",
            "start loop\n",
            "first if\n",
            "start loop\n",
            "start loop\n",
            "first if\n",
            "start loop\n",
            "start loop\n",
            "first if\n",
            "start loop\n",
            "start loop\n",
            "first if\n",
            "start loop\n",
            "start loop\n",
            "first if\n",
            "start loop\n",
            "start loop\n",
            "first if\n",
            "start loop\n",
            "start loop\n",
            "first if\n",
            "start loop\n",
            "start loop\n",
            "first if\n",
            "start loop\n",
            "start loop\n",
            "first if\n",
            "start loop\n",
            "start loop\n",
            "first if\n",
            "start loop\n",
            "start loop\n",
            "first if\n",
            "start loop\n",
            "start loop\n",
            "first if\n",
            "start loop\n",
            "start loop\n",
            "first if\n",
            "start loop\n",
            "start loop\n",
            "first if\n",
            "start loop\n",
            "start loop\n",
            "first if\n",
            "start loop\n",
            "start loop\n",
            "first if\n",
            "start loop\n",
            "start loop\n",
            "first if\n",
            "start loop\n",
            "start loop\n",
            "first if\n",
            "start loop\n",
            "start loop\n",
            "first if\n",
            "start loop\n",
            "start loop\n",
            "first if\n",
            "start loop\n",
            "start loop\n",
            "first if\n",
            "start loop\n",
            "start loop\n",
            "first if\n",
            "start loop\n",
            "start loop\n",
            "first if\n",
            "start loop\n",
            "start loop\n",
            "first if\n",
            "start loop\n",
            "start loop\n",
            "first if\n",
            "start loop\n",
            "start loop\n",
            "first if\n",
            "start loop\n",
            "start loop\n",
            "first if\n",
            "start loop\n",
            "start loop\n",
            "first if\n",
            "start loop\n",
            "start loop\n",
            "first if\n",
            "start loop\n",
            "start loop\n",
            "first if\n",
            "start loop\n",
            "start loop\n",
            "first if\n",
            "start loop\n",
            "start loop\n",
            "first if\n",
            "start loop\n",
            "start loop\n",
            "first if\n",
            "start loop\n",
            "start loop\n",
            "first if\n",
            "start loop\n",
            "122 450\n",
            "786\n",
            "[[0. 0. 0. ... 0. 0. 0.]\n",
            " [0. 0. 0. ... 0. 0. 0.]\n",
            " [0. 0. 0. ... 0. 0. 0.]\n",
            " ...\n",
            " [0. 0. 0. ... 0. 0. 0.]\n",
            " [0. 0. 0. ... 0. 0. 0.]\n",
            " [0. 0. 0. ... 0. 0. 0.]]\n",
            "create empty\n",
            "start loop\n",
            "first if\n",
            "start loop\n",
            "start loop\n",
            "first if\n",
            "start loop\n",
            "first if\n",
            "start loop\n",
            "first if\n",
            "start loop\n",
            "start loop\n",
            "first if\n",
            "start loop\n",
            "start loop\n",
            "first if\n",
            "start loop\n",
            "first if\n",
            "start loop\n",
            "first if\n",
            "start loop\n",
            "start loop\n",
            "first if\n",
            "start loop\n",
            "start loop\n",
            "first if\n",
            "start loop\n",
            "start loop\n",
            "first if\n",
            "start loop\n",
            "start loop\n",
            "first if\n",
            "start loop\n",
            "start loop\n",
            "first if\n",
            "start loop\n",
            "start loop\n",
            "first if\n",
            "start loop\n",
            "first if\n",
            "start loop\n",
            "first if\n",
            "start loop\n",
            "start loop\n",
            "first if\n",
            "start loop\n",
            "start loop\n",
            "first if\n",
            "start loop\n",
            "first if\n",
            "start loop\n",
            "first if\n",
            "start loop\n",
            "start loop\n",
            "first if\n",
            "start loop\n",
            "start loop\n",
            "first if\n",
            "start loop\n",
            "start loop\n",
            "first if\n",
            "start loop\n",
            "first if\n",
            "start loop\n",
            "first if\n",
            "start loop\n",
            "first if\n",
            "start loop\n",
            "first if\n",
            "start loop\n",
            "start loop\n",
            "first if\n",
            "start loop\n",
            "first if\n",
            "start loop\n",
            "first if\n",
            "start loop\n",
            "start loop\n",
            "first if\n",
            "start loop\n",
            "start loop\n",
            "first if\n",
            "start loop\n",
            "start loop\n",
            "first if\n",
            "start loop\n",
            "start loop\n",
            "first if\n",
            "start loop\n",
            "start loop\n",
            "first if\n",
            "start loop\n",
            "start loop\n",
            "first if\n",
            "start loop\n",
            "start loop\n",
            "first if\n",
            "start loop\n",
            "start loop\n",
            "first if\n",
            "start loop\n",
            "first if\n",
            "start loop\n",
            "first if\n",
            "start loop\n",
            "start loop\n",
            "first if\n",
            "start loop\n",
            "first if\n",
            "start loop\n",
            "first if\n",
            "start loop\n",
            "start loop\n",
            "first if\n",
            "start loop\n",
            "start loop\n",
            "first if\n",
            "start loop\n",
            "start loop\n",
            "first if\n",
            "start loop\n",
            "first if\n",
            "start loop\n",
            "first if\n",
            "start loop\n",
            "start loop\n",
            "first if\n",
            "start loop\n",
            "first if\n",
            "start loop\n",
            "first if\n",
            "start loop\n",
            "start loop\n",
            "first if\n",
            "start loop\n",
            "start loop\n",
            "first if\n",
            "start loop\n",
            "start loop\n",
            "first if\n",
            "start loop\n",
            "start loop\n",
            "first if\n",
            "start loop\n",
            "first if\n",
            "start loop\n",
            "first if\n",
            "start loop\n",
            "start loop\n",
            "first if\n",
            "start loop\n",
            "start loop\n",
            "first if\n",
            "start loop\n",
            "start loop\n",
            "first if\n",
            "start loop\n",
            "start loop\n",
            "first if\n",
            "start loop\n",
            "start loop\n",
            "first if\n",
            "start loop\n",
            "first if\n",
            "start loop\n",
            "first if\n",
            "start loop\n",
            "start loop\n",
            "first if\n",
            "start loop\n",
            "start loop\n",
            "first if\n",
            "start loop\n",
            "start loop\n",
            "first if\n",
            "start loop\n",
            "start loop\n",
            "first if\n",
            "start loop\n",
            "start loop\n",
            "first if\n",
            "start loop\n",
            "first if\n",
            "start loop\n",
            "first if\n",
            "start loop\n",
            "first if\n",
            "start loop\n",
            "first if\n",
            "start loop\n",
            "start loop\n",
            "first if\n",
            "start loop\n",
            "start loop\n",
            "first if\n",
            "start loop\n",
            "start loop\n",
            "first if\n",
            "start loop\n",
            "first if\n",
            "start loop\n",
            "first if\n",
            "start loop\n",
            "start loop\n",
            "first if\n",
            "start loop\n",
            "first if\n",
            "start loop\n",
            "first if\n",
            "start loop\n",
            "start loop\n",
            "first if\n",
            "start loop\n",
            "start loop\n",
            "first if\n",
            "start loop\n",
            "first if\n",
            "start loop\n",
            "first if\n",
            "start loop\n",
            "start loop\n",
            "first if\n",
            "start loop\n",
            "start loop\n",
            "first if\n",
            "start loop\n",
            "start loop\n",
            "first if\n",
            "start loop\n",
            "start loop\n",
            "first if\n",
            "start loop\n",
            "start loop\n",
            "first if\n",
            "start loop\n",
            "first if\n",
            "start loop\n",
            "first if\n",
            "start loop\n",
            "start loop\n",
            "first if\n",
            "start loop\n",
            "start loop\n",
            "first if\n",
            "start loop\n",
            "start loop\n",
            "first if\n",
            "start loop\n",
            "start loop\n",
            "first if\n",
            "start loop\n",
            "start loop\n",
            "first if\n",
            "start loop\n",
            "start loop\n",
            "first if\n",
            "start loop\n",
            "start loop\n",
            "first if\n",
            "start loop\n",
            "first if\n",
            "start loop\n",
            "first if\n",
            "start loop\n",
            "first if\n",
            "start loop\n",
            "first if\n",
            "start loop\n",
            "first if\n",
            "start loop\n",
            "first if\n",
            "start loop\n",
            "start loop\n",
            "first if\n",
            "start loop\n",
            "first if\n",
            "start loop\n",
            "first if\n",
            "start loop\n",
            "start loop\n",
            "first if\n",
            "start loop\n",
            "first if\n",
            "start loop\n",
            "first if\n",
            "start loop\n",
            "start loop\n",
            "first if\n",
            "start loop\n",
            "start loop\n",
            "first if\n",
            "start loop\n",
            "start loop\n",
            "first if\n",
            "start loop\n",
            "first if\n",
            "start loop\n",
            "first if\n",
            "start loop\n",
            "first if\n",
            "start loop\n",
            "first if\n",
            "start loop\n",
            "start loop\n",
            "first if\n",
            "start loop\n",
            "start loop\n",
            "first if\n",
            "start loop\n",
            "first if\n",
            "start loop\n",
            "first if\n",
            "start loop\n",
            "start loop\n",
            "first if\n",
            "start loop\n",
            "start loop\n",
            "first if\n",
            "start loop\n",
            "start loop\n",
            "first if\n",
            "start loop\n",
            "start loop\n",
            "first if\n",
            "start loop\n",
            "first if\n",
            "start loop\n",
            "first if\n",
            "start loop\n",
            "start loop\n",
            "first if\n",
            "start loop\n",
            "start loop\n",
            "first if\n",
            "start loop\n",
            "first if\n",
            "start loop\n",
            "first if\n",
            "start loop\n",
            "start loop\n",
            "first if\n",
            "start loop\n",
            "first if\n",
            "start loop\n",
            "first if\n",
            "start loop\n",
            "start loop\n",
            "first if\n",
            "start loop\n",
            "start loop\n",
            "first if\n",
            "start loop\n",
            "start loop\n",
            "first if\n",
            "start loop\n",
            "start loop\n",
            "first if\n",
            "start loop\n",
            "start loop\n",
            "first if\n",
            "start loop\n",
            "start loop\n",
            "first if\n",
            "start loop\n",
            "start loop\n",
            "first if\n",
            "start loop\n",
            "start loop\n",
            "first if\n",
            "start loop\n",
            "start loop\n",
            "first if\n",
            "start loop\n",
            "first if\n",
            "start loop\n",
            "first if\n",
            "start loop\n",
            "first if\n",
            "start loop\n",
            "first if\n",
            "start loop\n",
            "start loop\n",
            "first if\n",
            "start loop\n",
            "start loop\n",
            "first if\n",
            "start loop\n",
            "start loop\n",
            "first if\n",
            "start loop\n",
            "start loop\n",
            "first if\n",
            "start loop\n",
            "start loop\n",
            "first if\n",
            "start loop\n",
            "start loop\n",
            "first if\n",
            "start loop\n",
            "start loop\n",
            "first if\n",
            "start loop\n",
            "start loop\n",
            "first if\n",
            "start loop\n",
            "first if\n",
            "start loop\n",
            "first if\n",
            "start loop\n",
            "first if\n",
            "start loop\n",
            "first if\n",
            "start loop\n",
            "start loop\n",
            "first if\n",
            "start loop\n",
            "first if\n",
            "start loop\n",
            "first if\n",
            "start loop\n",
            "first if\n",
            "start loop\n",
            "first if\n",
            "start loop\n",
            "start loop\n",
            "first if\n",
            "start loop\n",
            "start loop\n",
            "first if\n",
            "start loop\n",
            "start loop\n",
            "first if\n",
            "start loop\n",
            "start loop\n",
            "first if\n",
            "start loop\n",
            "start loop\n",
            "first if\n",
            "start loop\n",
            "start loop\n",
            "first if\n",
            "start loop\n",
            "start loop\n",
            "first if\n",
            "start loop\n",
            "first if\n",
            "start loop\n",
            "first if\n",
            "start loop\n",
            "first if\n",
            "start loop\n",
            "first if\n",
            "start loop\n",
            "start loop\n",
            "first if\n",
            "start loop\n",
            "start loop\n",
            "first if\n",
            "start loop\n",
            "start loop\n",
            "first if\n",
            "start loop\n",
            "start loop\n",
            "first if\n",
            "start loop\n",
            "start loop\n",
            "first if\n",
            "start loop\n",
            "first if\n",
            "start loop\n",
            "first if\n",
            "start loop\n",
            "start loop\n",
            "first if\n",
            "start loop\n",
            "start loop\n",
            "first if\n",
            "start loop\n",
            "start loop\n",
            "first if\n",
            "start loop\n",
            "first if\n",
            "start loop\n",
            "first if\n",
            "start loop\n",
            "start loop\n",
            "first if\n",
            "start loop\n",
            "start loop\n",
            "first if\n",
            "start loop\n",
            "start loop\n",
            "first if\n",
            "start loop\n",
            "start loop\n",
            "first if\n",
            "start loop\n",
            "start loop\n",
            "first if\n",
            "start loop\n",
            "first if\n",
            "start loop\n",
            "first if\n",
            "start loop\n",
            "first if\n",
            "start loop\n",
            "first if\n",
            "start loop\n",
            "start loop\n",
            "first if\n",
            "start loop\n",
            "first if\n",
            "start loop\n",
            "first if\n",
            "start loop\n",
            "start loop\n",
            "first if\n",
            "start loop\n",
            "start loop\n",
            "first if\n",
            "start loop\n",
            "first if\n",
            "start loop\n",
            "first if\n",
            "start loop\n",
            "start loop\n",
            "first if\n",
            "start loop\n",
            "start loop\n",
            "first if\n",
            "start loop\n",
            "first if\n",
            "start loop\n",
            "first if\n",
            "start loop\n",
            "start loop\n",
            "first if\n",
            "start loop\n",
            "start loop\n",
            "first if\n",
            "start loop\n",
            "first if\n",
            "start loop\n",
            "first if\n",
            "start loop\n",
            "start loop\n",
            "first if\n",
            "start loop\n",
            "start loop\n",
            "first if\n",
            "start loop\n",
            "start loop\n",
            "first if\n",
            "start loop\n",
            "start loop\n",
            "first if\n",
            "start loop\n",
            "start loop\n",
            "first if\n",
            "start loop\n",
            "start loop\n",
            "first if\n",
            "start loop\n",
            "start loop\n",
            "first if\n",
            "start loop\n",
            "start loop\n",
            "first if\n",
            "start loop\n",
            "start loop\n",
            "first if\n",
            "start loop\n",
            "start loop\n",
            "first if\n",
            "start loop\n",
            "first if\n",
            "start loop\n",
            "first if\n",
            "start loop\n",
            "start loop\n",
            "first if\n",
            "start loop\n",
            "start loop\n",
            "first if\n",
            "start loop\n",
            "start loop\n",
            "first if\n",
            "start loop\n",
            "start loop\n",
            "first if\n",
            "start loop\n",
            "start loop\n",
            "first if\n",
            "start loop\n",
            "start loop\n",
            "first if\n",
            "start loop\n",
            "start loop\n",
            "first if\n",
            "start loop\n",
            "start loop\n",
            "first if\n",
            "start loop\n",
            "start loop\n",
            "first if\n",
            "start loop\n",
            "start loop\n",
            "first if\n",
            "start loop\n",
            "start loop\n",
            "first if\n",
            "start loop\n",
            "start loop\n",
            "first if\n",
            "start loop\n",
            "start loop\n",
            "first if\n",
            "start loop\n",
            "start loop\n",
            "first if\n",
            "start loop\n",
            "start loop\n",
            "first if\n",
            "start loop\n",
            "start loop\n",
            "first if\n",
            "start loop\n",
            "start loop\n",
            "first if\n",
            "start loop\n",
            "start loop\n",
            "first if\n",
            "start loop\n",
            "first if\n",
            "start loop\n",
            "first if\n",
            "start loop\n",
            "start loop\n",
            "first if\n",
            "start loop\n",
            "start loop\n",
            "first if\n",
            "start loop\n",
            "start loop\n",
            "first if\n",
            "start loop\n",
            "start loop\n",
            "first if\n",
            "start loop\n",
            "start loop\n",
            "first if\n",
            "start loop\n",
            "start loop\n",
            "first if\n",
            "start loop\n",
            "start loop\n",
            "first if\n",
            "start loop\n",
            "start loop\n",
            "first if\n",
            "start loop\n",
            "start loop\n",
            "first if\n",
            "start loop\n",
            "start loop\n",
            "first if\n",
            "start loop\n",
            "first if\n",
            "start loop\n",
            "first if\n",
            "start loop\n",
            "start loop\n",
            "first if\n",
            "start loop\n",
            "start loop\n",
            "first if\n",
            "start loop\n",
            "start loop\n",
            "first if\n",
            "start loop\n",
            "start loop\n",
            "first if\n",
            "start loop\n",
            "start loop\n",
            "first if\n",
            "start loop\n",
            "start loop\n",
            "first if\n",
            "start loop\n",
            "start loop\n",
            "first if\n",
            "start loop\n",
            "start loop\n",
            "first if\n",
            "start loop\n",
            "start loop\n",
            "first if\n",
            "start loop\n",
            "first if\n",
            "start loop\n",
            "first if\n",
            "start loop\n",
            "start loop\n",
            "first if\n",
            "start loop\n",
            "first if\n",
            "start loop\n",
            "first if\n",
            "start loop\n",
            "start loop\n",
            "first if\n",
            "start loop\n",
            "first if\n",
            "start loop\n",
            "first if\n",
            "start loop\n",
            "start loop\n",
            "first if\n",
            "start loop\n",
            "start loop\n",
            "first if\n",
            "start loop\n",
            "start loop\n",
            "first if\n",
            "start loop\n",
            "start loop\n",
            "first if\n",
            "start loop\n",
            "first if\n",
            "start loop\n",
            "first if\n",
            "start loop\n",
            "start loop\n",
            "first if\n",
            "start loop\n",
            "start loop\n",
            "first if\n",
            "start loop\n",
            "start loop\n",
            "first if\n",
            "start loop\n",
            "start loop\n",
            "first if\n",
            "start loop\n",
            "start loop\n",
            "first if\n",
            "start loop\n",
            "start loop\n",
            "first if\n",
            "start loop\n",
            "start loop\n",
            "first if\n",
            "start loop\n",
            "start loop\n",
            "first if\n",
            "start loop\n",
            "start loop\n",
            "first if\n",
            "start loop\n",
            "start loop\n",
            "first if\n",
            "start loop\n",
            "start loop\n",
            "first if\n",
            "start loop\n",
            "start loop\n",
            "first if\n",
            "start loop\n",
            "start loop\n",
            "first if\n",
            "start loop\n",
            "start loop\n",
            "first if\n",
            "start loop\n",
            "start loop\n",
            "first if\n",
            "start loop\n",
            "start loop\n",
            "first if\n",
            "start loop\n",
            "start loop\n",
            "first if\n",
            "start loop\n",
            "start loop\n",
            "first if\n",
            "start loop\n",
            "start loop\n",
            "first if\n",
            "start loop\n",
            "start loop\n",
            "first if\n",
            "start loop\n",
            "start loop\n",
            "first if\n",
            "start loop\n",
            "start loop\n",
            "first if\n",
            "start loop\n",
            "start loop\n",
            "first if\n",
            "start loop\n",
            "start loop\n",
            "first if\n",
            "start loop\n",
            "start loop\n",
            "first if\n",
            "start loop\n",
            "start loop\n",
            "first if\n",
            "start loop\n",
            "start loop\n",
            "first if\n",
            "start loop\n",
            "first if\n",
            "start loop\n",
            "first if\n",
            "start loop\n",
            "start loop\n",
            "first if\n",
            "start loop\n",
            "start loop\n",
            "first if\n",
            "start loop\n",
            "start loop\n",
            "first if\n",
            "start loop\n",
            "start loop\n",
            "first if\n",
            "start loop\n",
            "start loop\n",
            "first if\n",
            "start loop\n",
            "start loop\n",
            "first if\n",
            "start loop\n",
            "start loop\n",
            "first if\n",
            "start loop\n",
            "start loop\n",
            "first if\n",
            "start loop\n",
            "start loop\n",
            "first if\n",
            "start loop\n",
            "start loop\n",
            "first if\n",
            "start loop\n",
            "start loop\n",
            "first if\n",
            "start loop\n",
            "start loop\n",
            "first if\n",
            "start loop\n",
            "start loop\n",
            "first if\n",
            "start loop\n",
            "start loop\n",
            "first if\n",
            "start loop\n",
            "start loop\n",
            "first if\n",
            "start loop\n",
            "start loop\n",
            "first if\n",
            "start loop\n",
            "start loop\n",
            "first if\n",
            "start loop\n",
            "start loop\n",
            "first if\n",
            "start loop\n",
            "start loop\n",
            "first if\n",
            "start loop\n",
            "start loop\n",
            "first if\n",
            "start loop\n",
            "start loop\n",
            "first if\n",
            "start loop\n",
            "first if\n",
            "start loop\n",
            "first if\n",
            "start loop\n",
            "start loop\n",
            "first if\n",
            "start loop\n",
            "start loop\n",
            "first if\n",
            "start loop\n",
            "start loop\n",
            "first if\n",
            "start loop\n",
            "start loop\n",
            "first if\n",
            "start loop\n",
            "start loop\n",
            "first if\n",
            "start loop\n",
            "first if\n",
            "start loop\n",
            "first if\n",
            "start loop\n",
            "start loop\n",
            "first if\n",
            "start loop\n",
            "first if\n",
            "start loop\n",
            "first if\n",
            "start loop\n",
            "start loop\n",
            "first if\n",
            "start loop\n",
            "start loop\n",
            "first if\n",
            "start loop\n",
            "start loop\n",
            "first if\n",
            "start loop\n",
            "start loop\n",
            "first if\n",
            "start loop\n",
            "start loop\n",
            "first if\n",
            "start loop\n",
            "start loop\n",
            "first if\n",
            "start loop\n",
            "start loop\n",
            "first if\n",
            "start loop\n",
            "start loop\n",
            "first if\n",
            "start loop\n",
            "start loop\n",
            "first if\n",
            "start loop\n",
            "start loop\n",
            "first if\n",
            "start loop\n",
            "start loop\n",
            "first if\n",
            "start loop\n",
            "start loop\n",
            "first if\n",
            "start loop\n",
            "start loop\n",
            "first if\n",
            "start loop\n",
            "start loop\n",
            "first if\n",
            "start loop\n",
            "start loop\n",
            "first if\n",
            "start loop\n",
            "start loop\n",
            "first if\n",
            "start loop\n",
            "start loop\n",
            "first if\n",
            "start loop\n",
            "start loop\n",
            "first if\n",
            "start loop\n",
            "start loop\n",
            "first if\n",
            "start loop\n",
            "start loop\n",
            "first if\n",
            "start loop\n",
            "start loop\n",
            "first if\n",
            "start loop\n",
            "start loop\n",
            "first if\n",
            "start loop\n",
            "start loop\n",
            "first if\n",
            "start loop\n",
            "start loop\n",
            "first if\n",
            "start loop\n",
            "start loop\n",
            "first if\n",
            "start loop\n",
            "start loop\n",
            "first if\n",
            "start loop\n",
            "start loop\n",
            "first if\n",
            "start loop\n",
            "start loop\n",
            "first if\n",
            "start loop\n",
            "start loop\n",
            "first if\n",
            "start loop\n",
            "start loop\n",
            "first if\n",
            "start loop\n",
            "start loop\n",
            "first if\n",
            "start loop\n",
            "start loop\n",
            "first if\n",
            "start loop\n",
            "start loop\n",
            "first if\n",
            "start loop\n",
            "start loop\n",
            "first if\n",
            "start loop\n",
            "start loop\n",
            "first if\n",
            "start loop\n",
            "start loop\n",
            "first if\n",
            "start loop\n",
            "start loop\n",
            "first if\n",
            "start loop\n",
            "start loop\n",
            "first if\n",
            "start loop\n",
            "start loop\n",
            "first if\n",
            "start loop\n",
            "start loop\n",
            "first if\n",
            "start loop\n",
            "start loop\n",
            "first if\n",
            "start loop\n",
            "start loop\n",
            "first if\n",
            "start loop\n",
            "start loop\n",
            "first if\n",
            "start loop\n",
            "start loop\n",
            "first if\n",
            "start loop\n",
            "start loop\n",
            "first if\n",
            "start loop\n",
            "start loop\n",
            "first if\n",
            "start loop\n",
            "start loop\n",
            "first if\n",
            "start loop\n",
            "start loop\n",
            "first if\n",
            "start loop\n",
            "start loop\n",
            "first if\n",
            "start loop\n",
            "start loop\n",
            "first if\n",
            "start loop\n",
            "start loop\n",
            "first if\n",
            "start loop\n",
            "start loop\n",
            "first if\n",
            "start loop\n",
            "start loop\n",
            "first if\n",
            "start loop\n",
            "start loop\n",
            "first if\n",
            "start loop\n",
            "start loop\n",
            "first if\n",
            "start loop\n",
            "start loop\n",
            "first if\n",
            "start loop\n",
            "start loop\n",
            "first if\n",
            "start loop\n",
            "start loop\n",
            "first if\n",
            "start loop\n",
            "start loop\n",
            "first if\n",
            "start loop\n",
            "start loop\n",
            "first if\n",
            "start loop\n",
            "start loop\n",
            "first if\n",
            "start loop\n",
            "start loop\n",
            "first if\n",
            "start loop\n",
            "start loop\n",
            "first if\n",
            "start loop\n",
            "start loop\n",
            "first if\n",
            "start loop\n",
            "start loop\n",
            "first if\n",
            "start loop\n",
            "start loop\n",
            "first if\n",
            "start loop\n",
            "start loop\n",
            "first if\n",
            "start loop\n",
            "start loop\n",
            "first if\n",
            "start loop\n",
            "start loop\n",
            "first if\n",
            "start loop\n",
            "start loop\n",
            "first if\n",
            "start loop\n",
            "start loop\n",
            "first if\n",
            "start loop\n",
            "start loop\n",
            "first if\n",
            "start loop\n",
            "start loop\n",
            "first if\n",
            "start loop\n",
            "start loop\n",
            "first if\n",
            "start loop\n",
            "start loop\n",
            "first if\n",
            "start loop\n",
            "start loop\n",
            "first if\n",
            "start loop\n",
            "start loop\n",
            "first if\n",
            "start loop\n",
            "start loop\n",
            "first if\n",
            "start loop\n",
            "start loop\n",
            "first if\n",
            "start loop\n",
            "start loop\n",
            "first if\n",
            "start loop\n",
            "start loop\n",
            "first if\n",
            "start loop\n",
            "start loop\n",
            "first if\n",
            "start loop\n",
            "start loop\n",
            "first if\n",
            "start loop\n",
            "start loop\n",
            "first if\n",
            "start loop\n",
            "start loop\n",
            "first if\n",
            "start loop\n",
            "start loop\n",
            "first if\n",
            "start loop\n",
            "start loop\n",
            "first if\n",
            "start loop\n",
            "start loop\n",
            "first if\n",
            "start loop\n",
            "start loop\n",
            "first if\n",
            "start loop\n",
            "start loop\n",
            "first if\n",
            "start loop\n",
            "start loop\n",
            "first if\n",
            "start loop\n",
            "start loop\n",
            "first if\n",
            "start loop\n",
            "start loop\n",
            "first if\n",
            "start loop\n",
            "start loop\n",
            "first if\n",
            "start loop\n",
            "start loop\n",
            "first if\n",
            "start loop\n",
            "start loop\n",
            "first if\n",
            "start loop\n",
            "start loop\n",
            "first if\n",
            "start loop\n",
            "start loop\n",
            "first if\n",
            "start loop\n",
            "start loop\n",
            "first if\n",
            "start loop\n",
            "start loop\n",
            "first if\n",
            "start loop\n",
            "start loop\n",
            "first if\n",
            "start loop\n",
            "start loop\n",
            "first if\n",
            "start loop\n",
            "start loop\n",
            "first if\n",
            "start loop\n",
            "start loop\n",
            "first if\n",
            "start loop\n",
            "start loop\n",
            "first if\n",
            "start loop\n",
            "start loop\n",
            "first if\n",
            "start loop\n",
            "start loop\n",
            "first if\n",
            "start loop\n",
            "start loop\n",
            "first if\n",
            "start loop\n",
            "start loop\n",
            "first if\n",
            "start loop\n"
          ],
          "name": "stdout"
        },
        {
          "output_type": "stream",
          "text": [
            "/usr/local/lib/python3.7/dist-packages/numpy/core/_asarray.py:83: ComplexWarning: Casting complex values to real discards the imaginary part\n",
            "  return array(a, dtype, copy=False, order=order)\n"
          ],
          "name": "stderr"
        },
        {
          "output_type": "display_data",
          "data": {
            "image/png": "[encoded data removed]",
            "text/plain": [
              "<Figure size 432x288 with 1 Axes>"
            ]
          },
          "metadata": {
            "tags": [],
            "needs_background": "light"
          }
        },
        {
          "output_type": "display_data",
          "data": {
            "image/png": "[encoded data removed]",
            "text/plain": [
              "<Figure size 1224x360 with 1 Axes>"
            ]
          },
          "metadata": {
            "tags": [],
            "needs_background": "light"
          }
        }
      ]
    },
    {
      "cell_type": "code",
      "metadata": {
        "id": "3ZTaL2f-KLHU",
        "colab": {
          "base_uri": "https://localhost:8080/"
        },
        "outputId": "6732bb71-5c97-4801-c580-6b4466191dd9"
      },
      "source": [
        "len(X_train)"
      ],
      "execution_count": null,
      "outputs": [
        {
          "output_type": "execute_result",
          "data": {
            "text/plain": [
              "284"
            ]
          },
          "metadata": {
            "tags": []
          },
          "execution_count": 28
        }
      ]
    },
    {
      "cell_type": "code",
      "metadata": {
        "id": "VE5TYStjxbno"
      },
      "source": [
        "C = 2\n",
        "common = {}\n",
        "common['dir_name']       = 'PPI/'\n",
        "common['num_epochs']     = 100\n",
        "common['batch_size']     = len(X_train)\n",
        "common['decay_steps']    = 10 # 30 for Cancer 50 for MTBLS90 but 30 works well too\n",
        "common['eval_frequency'] = 10 #\n",
        "\n",
        "model_perf = utils.model_perf()\n",
        "\n",
        "common['regularization'] = 1e-2 # 1e-1 for Cancer 1e-2 for MTBLS90 (or drop to 1e-3 for more consistency)\n",
        "common['dropout']        = 1 \n",
        "common['learning_rate']  = .001 #.001 for Cancer\n",
        "common['decay_rate']     = 0.95 #.95 for Cancer\n",
        "common['momentum']       = 0\n",
        "\n",
        "common['F']              = [1]\n",
        "common['K']              = [1]\n",
        "common['p']              = [1]\n",
        "common['M']              = [128,C] #128 for Cancer"
      ],
      "execution_count": null,
      "outputs": []
    },
    {
      "cell_type": "code",
      "metadata": {
        "colab": {
          "base_uri": "https://localhost:8080/"
        },
        "id": "sWwm2YoLngU4",
        "outputId": "3adf0224-c8ec-48a5-830d-242ee3b32f97"
      },
      "source": [
        "import tensorflow.compat.v1 as tf1\n",
        "tf1.disable_v2_behavior()\n",
        "name = 'Run1'\n",
        "params = common.copy()\n",
        "params['dir_name'] += name\n",
        "params['filter'] = 'chebyshev5' #chebyshev5 is important\n",
        "params['brelu'] = 'b1relu'\n",
        "model = models.cgcnn(L,**params)#params['F'],params['K'],params['p'],params['M'])\n",
        "results = model.fit(X_train_c, y_train, X_test_c, y_test)"
      ],
      "execution_count": null,
      "outputs": [
        {
          "output_type": "stream",
          "text": [
            "NN architecture\n",
            "  input: M_0 = 786\n",
            "  layer 1: cgconv1\n",
            "    representation: M_0 * F_1 / p_1 = 786 * 1 / 1 = 786\n",
            "    weights: F_0 * F_1 * K_1 = 1 * 1 * 1 = 1\n",
            "    biases: F_1 = 1\n",
            "  layer 2: fc1\n",
            "    representation: M_2 = 128\n",
            "    weights: M_1 * M_2 = 786 * 128 = 100608\n",
            "    biases: M_2 = 128\n",
            "  layer 3: logits (softmax)\n",
            "    representation: M_3 = 2\n",
            "    weights: M_2 * M_3 = 128 * 2 = 256\n",
            "    biases: M_3 = 2\n",
            "Test\n",
            "step 10 / 100 (epoch 10.00 / 100):\n",
            "  learning_rate = 1.00e-03, loss_average = 2.77e+00\n",
            "  validation accuracy: 53.28 (65 / 122), f1 (weighted): 37.04, loss: 8.91e+00\n",
            "  time: 0s (wall 0s)\n",
            "step 20 / 100 (epoch 20.00 / 100):\n",
            "  learning_rate = 9.50e-04, loss_average = 3.34e+00\n",
            "  validation accuracy: 59.02 (72 / 122), f1 (weighted): 49.64, loss: 7.64e+00\n",
            "  time: 1s (wall 1s)\n",
            "step 30 / 100 (epoch 30.00 / 100):\n",
            "  learning_rate = 9.03e-04, loss_average = 3.20e+00\n",
            "  validation accuracy: 72.95 (89 / 122), f1 (weighted): 71.57, loss: 6.56e+00\n",
            "  time: 1s (wall 1s)\n",
            "step 40 / 100 (epoch 40.00 / 100):\n",
            "  learning_rate = 8.57e-04, loss_average = 2.87e+00\n",
            "  validation accuracy: 85.25 (104 / 122), f1 (weighted): 85.20, loss: 5.69e+00\n",
            "  time: 1s (wall 1s)\n",
            "step 50 / 100 (epoch 50.00 / 100):\n",
            "  learning_rate = 8.15e-04, loss_average = 2.52e+00\n",
            "  validation accuracy: 87.70 (107 / 122), f1 (weighted): 87.70, loss: 4.95e+00\n",
            "  time: 2s (wall 1s)\n",
            "step 60 / 100 (epoch 60.00 / 100):\n",
            "  learning_rate = 7.74e-04, loss_average = 2.19e+00\n",
            "  validation accuracy: 88.52 (108 / 122), f1 (weighted): 88.52, loss: 4.36e+00\n",
            "  time: 2s (wall 1s)\n",
            "WARNING:tensorflow:From /tensorflow-1.15.2/python3.7/tensorflow_core/python/training/saver.py:963: remove_checkpoint (from tensorflow.python.training.checkpoint_management) is deprecated and will be removed in a future version.\n",
            "Instructions for updating:\n",
            "Use standard file APIs to delete files with this prefix.\n",
            "step 70 / 100 (epoch 70.00 / 100):\n",
            "  learning_rate = 7.35e-04, loss_average = 1.91e+00\n",
            "  validation accuracy: 89.34 (109 / 122), f1 (weighted): 89.35, loss: 3.88e+00\n",
            "  time: 2s (wall 2s)\n",
            "step 80 / 100 (epoch 80.00 / 100):\n",
            "  learning_rate = 6.98e-04, loss_average = 1.67e+00\n",
            "  validation accuracy: 90.16 (110 / 122), f1 (weighted): 90.16, loss: 3.49e+00\n",
            "  time: 2s (wall 2s)\n",
            "step 90 / 100 (epoch 90.00 / 100):\n",
            "  learning_rate = 6.63e-04, loss_average = 1.47e+00\n",
            "  validation accuracy: 90.16 (110 / 122), f1 (weighted): 90.16, loss: 3.15e+00\n",
            "  time: 3s (wall 2s)\n",
            "step 100 / 100 (epoch 100.00 / 100):\n",
            "  learning_rate = 6.30e-04, loss_average = 1.31e+00\n",
            "  validation accuracy: 90.98 (111 / 122), f1 (weighted): 90.99, loss: 2.87e+00\n",
            "  time: 3s (wall 2s)\n",
            "validation accuracy: peak = 90.98, mean = 80.74\n"
          ],
          "name": "stdout"
        }
      ]
    },
    {
      "cell_type": "code",
      "metadata": {
        "colab": {
          "base_uri": "https://localhost:8080/"
        },
        "id": "Qxw9irMtS-Op",
        "outputId": "7e7bea3a-aea8-4b56-a58d-0f18e44c2e41"
      },
      "source": [
        "y_score = model.predict(X_test_c)\n",
        "y_score"
      ],
      "execution_count": null,
      "outputs": [
        {
          "output_type": "stream",
          "text": [
            "INFO:tensorflow:Restoring parameters from /content/metabolite-GCNN/../checkpoints/PPI/Run1/model-500\n"
          ],
          "name": "stdout"
        },
        {
          "output_type": "execute_result",
          "data": {
            "text/plain": [
              "array([1.78375259e-01, 4.16505225e-02, 5.52952290e-01, 1.41085714e-01,\n",
              "       2.20866039e-01, 5.01915105e-02, 5.61308086e-01, 4.69239891e-01,\n",
              "       7.45971054e-02, 8.25029433e-01, 8.34716856e-01, 8.53275537e-01,\n",
              "       1.26946568e-01, 2.59037495e-01, 8.28848541e-01, 8.59805048e-02,\n",
              "       5.28517485e-01, 9.16329086e-01, 5.09331763e-01, 1.63900226e-01,\n",
              "       1.60839017e-02, 6.67023957e-01, 7.28704214e-01, 3.09130341e-01,\n",
              "       3.43772839e-03, 7.62184381e-01, 1.77429207e-02, 4.59096491e-01,\n",
              "       7.19716191e-01, 1.40976289e-03, 6.48011088e-01, 1.00368937e-03,\n",
              "       6.45705283e-01, 8.94700408e-01, 1.16237796e-04, 1.07221073e-03,\n",
              "       9.94481087e-01, 2.59918332e-01, 2.37421140e-01, 4.98355865e-01,\n",
              "       6.72231674e-01, 1.78126931e-01, 4.65866357e-01, 3.30088347e-01,\n",
              "       3.05695534e-01, 9.99999166e-01, 9.29512024e-01, 7.84426093e-01,\n",
              "       7.67106652e-01, 5.57967663e-01, 4.18694049e-01, 1.02540918e-01,\n",
              "       9.49636579e-01, 1.08881719e-01, 8.01159143e-01, 4.64913905e-01,\n",
              "       7.06987679e-01, 5.51611073e-02, 7.60775805e-01, 2.41040111e-01,\n",
              "       2.85616398e-01, 5.30099392e-01, 1.16384223e-01, 4.83498096e-01,\n",
              "       3.90027672e-01, 7.00367749e-01, 3.58533897e-02, 9.90323201e-02,\n",
              "       4.28130656e-01, 9.99851465e-01, 1.22452423e-03, 7.21840858e-01,\n",
              "       2.99060225e-01, 2.07620457e-01, 2.81488776e-01, 7.85571635e-01,\n",
              "       3.26625109e-02, 9.99262512e-01, 2.82203138e-01, 5.82527220e-01,\n",
              "       9.07379389e-01, 5.42490184e-01, 3.64469200e-01, 4.88886327e-01,\n",
              "       3.78730208e-01, 7.21361578e-01, 9.66597080e-01, 7.39252508e-01,\n",
              "       9.99706686e-01, 3.41434953e-12, 1.24588534e-01, 4.99999076e-01,\n",
              "       8.78379822e-01, 2.27013486e-04, 8.05662051e-02, 7.81738698e-01,\n",
              "       8.26711059e-02, 4.71722394e-01, 1.31602545e-04, 1.13743179e-01,\n",
              "       5.65958023e-01, 8.41403842e-01, 5.57600677e-01, 6.53164029e-01,\n",
              "       8.32823336e-01, 1.08116403e-01, 6.92035377e-01, 5.99321067e-01,\n",
              "       5.27522445e-01, 9.07139182e-01, 3.48501772e-01, 1.84603781e-02,\n",
              "       2.12891042e-01, 6.11731172e-01, 2.11827345e-02, 6.23772889e-02,\n",
              "       3.19003011e-03, 1.89377472e-01, 1.48575753e-02, 6.20885752e-02,\n",
              "       7.28719771e-01, 6.55224085e-01])"
            ]
          },
          "metadata": {
            "tags": []
          },
          "execution_count": 31
        }
      ]
    },
    {
      "cell_type": "code",
      "metadata": {
        "colab": {
          "base_uri": "https://localhost:8080/",
          "height": 295
        },
        "id": "Uh67rLayRDgI",
        "outputId": "7fab951b-1195-4439-c377-664529d212cd"
      },
      "source": [
        "import sklearn.metrics as m\n",
        "#y_score = clf.decision_function(ts_x.T)\n",
        "fpr, tpr, thresholds = m.roc_curve(y_test, y_score)\n",
        "roc_auc = m.auc(fpr, tpr)\n",
        "display = m.RocCurveDisplay(fpr=fpr, tpr=tpr, roc_auc=roc_auc, estimator_name=None)\n",
        "display.plot()\n",
        "plt.title('ROC Curve')\n",
        "plt.show()"
      ],
      "execution_count": null,
      "outputs": [
        {
          "output_type": "display_data",
          "data": {
            "image/png": "[encoded data removed]",
            "text/plain": [
              "<Figure size 432x288 with 1 Axes>"
            ]
          },
          "metadata": {
            "tags": [],
            "needs_background": "light"
          }
        }
      ]
    },
    {
      "cell_type": "code",
      "metadata": {
        "id": "sDMbik7MngU6",
        "colab": {
          "base_uri": "https://localhost:8080/",
          "height": 312
        },
        "outputId": "38c13518-f597-4f55-da00-9d10c783b822"
      },
      "source": [
        "plt.title(\"Accuracy of GCNN\")\n",
        "plt.xlabel(\"Iterations\")\n",
        "plt.ylabel(\"Test Classification Accuracy\")\n",
        "plt.plot(results[0])\n"
      ],
      "execution_count": null,
      "outputs": [
        {
          "output_type": "execute_result",
          "data": {
            "text/plain": [
              "[<matplotlib.lines.Line2D at 0x7f6479b0a210>]"
            ]
          },
          "metadata": {
            "tags": []
          },
          "execution_count": 33
        },
        {
          "output_type": "display_data",
          "data": {
            "image/png": "[encoded data removed]",
            "text/plain": [
              "<Figure size 432x288 with 1 Axes>"
            ]
          },
          "metadata": {
            "tags": [],
            "needs_background": "light"
          }
        }
      ]
    },
    {
      "cell_type": "markdown",
      "metadata": {
        "id": "_X_a004Ff427"
      },
      "source": [
        "### Dimensionality Reduction and Visualization"
      ]
    },
    {
      "cell_type": "code",
      "metadata": {
        "id": "2TcZpwkBHOq-"
      },
      "source": [
        "y = metabolome_clinical.sort_index()['Group']\n",
        "y = y.replace('Stage_III_IV','Cancer')\n",
        "y = y.replace('Stage_I_II','Cancer')\n",
        "y = y.replace('Stage_0','Cancer')\n",
        "y = y.replace('MP','Healthy')\n",
        "y = y.replace('HS','Healthy')\n",
        "y = y.replace('Healthy', 0)\n",
        "y = y.replace('Cancer', 1)"
      ],
      "execution_count": null,
      "outputs": []
    },
    {
      "cell_type": "code",
      "metadata": {
        "id": "kbCDc7nxJ4G8",
        "colab": {
          "base_uri": "https://localhost:8080/",
          "height": 558
        },
        "outputId": "30fc597c-ee02-46dc-f783-da823dfad318"
      },
      "source": [
        "import plotly.express as px\n",
        "from sklearn.decomposition import PCA, KernelPCA\n",
        "pca = PCA()\n",
        "pca.fit(X_train)\n",
        "\n",
        "print(np.cumsum(pca.explained_variance_ratio_)[1])\n",
        "components = pca.fit_transform(X)\n",
        "\n",
        "fig = px.scatter(\n",
        "    components, x=0, y=1, color=y,\n",
        "    title=\"First 2 Principal Components of CRC data\",\n",
        "    labels={'0': 'PC 1', '1': 'PC 2'}\n",
        ")\n",
        "fig.show()"
      ],
      "execution_count": null,
      "outputs": [
        {
          "output_type": "stream",
          "text": [
            "0.17383972\n"
          ],
          "name": "stdout"
        },
        {
          "output_type": "display_data",
          "data": {
            "text/html": [
              "<html>\n",
              "<head><meta charset=\"utf-8\" /></head>\n",
              "<body>\n",
              "    <div>\n",
              "            <script src=\"https://cdnjs.cloudflare.com/ajax/libs/mathjax/2.7.5/MathJax.js?config=TeX-AMS-MML_SVG\"></script><script type=\"text/javascript\">if (window.MathJax) {MathJax.Hub.Config({SVG: {font: \"STIX-Web\"}});}</script>\n",
              "                <script type=\"text/javascript\">window.PlotlyConfig = {MathJaxConfig: 'local'};</script>\n",
              "        <script src=\"https://cdn.plot.ly/plotly-latest.min.js\"></script>    \n",
              "            <div id=\"e0d453b3-84d7-42d9-9b88-6d9ebd4017de\" class=\"plotly-graph-div\" style=\"height:525px; width:100%;\"></div>\n",
              "            <script type=\"text/javascript\">\n",
              "                \n",
              "                    window.PLOTLYENV=window.PLOTLYENV || {};\n",
              "                    \n",
              "                if (document.getElementById(\"e0d453b3-84d7-42d9-9b88-6d9ebd4017de\")) {\n",
              "                    Plotly.newPlot(\n",
              "                        'e0d453b3-84d7-42d9-9b88-6d9ebd4017de',\n",
              "                        [{\"hoverlabel\": {\"namelength\": 0}, \"hovertemplate\": \"PC 1=%{x}<br>PC 2=%{y}<br>color=%{marker.color}\", \"legendgroup\": \"\", \"marker\": {\"color\": [0, 0, 0, 0, 0, 0, 0, 0, 0, 0, 0, 0, 0, 0, 0, 0, 0, 0, 0, 0, 0, 0, 0, 0, 0, 0, 0, 0, 0, 0, 0, 0, 0, 0, 0, 0, 0, 0, 0, 0, 0, 0, 0, 0, 0, 0, 0, 0, 0, 0, 0, 0, 0, 0, 0, 0, 0, 0, 0, 0, 0, 0, 0, 0, 0, 0, 0, 0, 0, 0, 0, 0, 0, 0, 0, 0, 0, 0, 0, 0, 0, 0, 0, 0, 0, 0, 0, 0, 0, 0, 0, 0, 0, 0, 0, 0, 0, 0, 0, 0, 0, 0, 0, 0, 0, 0, 0, 0, 0, 0, 0, 0, 0, 0, 0, 0, 0, 0, 0, 0, 0, 0, 0, 0, 0, 0, 0, 0, 0, 0, 0, 0, 0, 0, 0, 0, 0, 0, 0, 0, 0, 0, 0, 0, 0, 0, 0, 0, 0, 0, 0, 0, 0, 0, 0, 0, 0, 0, 0, 0, 0, 0, 0, 0, 0, 0, 0, 0, 0, 0, 0, 0, 0, 0, 0, 0, 0, 0, 0, 0, 0, 0, 0, 0, 0, 0, 0, 0, 0, 0, 0, 0, 0, 0, 1, 1, 1, 1, 1, 1, 1, 1, 1, 1, 1, 1, 1, 1, 1, 1, 1, 1, 1, 1, 1, 1, 1, 1, 1, 1, 1, 1, 1, 1, 1, 1, 1, 1, 1, 1, 1, 1, 1, 1, 1, 1, 1, 1, 1, 1, 1, 1, 1, 1, 1, 1, 1, 1, 1, 1, 1, 1, 1, 1, 1, 1, 1, 1, 1, 1, 1, 1, 1, 1, 1, 1, 1, 1, 1, 1, 1, 1, 1, 1, 1, 1, 1, 1, 1, 1, 1, 1, 1, 1, 1, 1, 1, 1, 1, 1, 1, 1, 1, 1, 1, 1, 1, 1, 1, 1, 1, 1, 1, 1, 1, 1, 1, 1, 1, 1, 1, 1, 1, 1, 1, 1, 1, 1, 1, 1, 1, 1, 1, 1, 1, 1, 1, 1, 1, 1, 1, 1, 1, 1, 1, 1, 1, 1, 1, 1, 1, 1, 1, 1, 1, 1, 1, 1, 1, 1, 1, 1, 1, 1, 1, 1, 1, 1, 1, 1, 1, 1, 1, 1, 1, 1, 1, 1, 1, 1, 1, 1, 0, 0, 0, 0, 0, 0, 0, 0, 0, 0, 0, 0, 0, 0, 0, 0, 0, 0, 0, 0, 0, 0, 0, 0, 0, 0, 0, 0, 0, 0, 0, 0, 0, 0], \"coloraxis\": \"coloraxis\", \"symbol\": \"circle\"}, \"mode\": \"markers\", \"name\": \"\", \"showlegend\": false, \"type\": \"scatter\", \"x\": [4.623760920888322, 0.4277443740258665, -0.008519025091551795, -2.693565083137382, -0.9393465273932325, -2.7470192626572385, -3.2905998479698924, -1.4608017071981234, -1.255236265722959, 1.1884061161471002, -0.09576479284719722, -3.2000103336886254, -1.8677495554734231, -1.8917960205106559, -1.439439000670849, -0.09416236267164353, 2.7340754304514685, 17.28402283192212, 2.8125404397094194, -3.013176398869018, -0.8150141053984794, -1.7792383804005452, 0.08624065756211136, -3.723555491171554, -0.878730184584053, -2.4027910662600442, -3.6536720535789535, 5.762654563533943, -0.8327152433219172, -2.3807430001954875, 1.33549758060581, 4.419978874140328, -2.529687862259402, 24.447100814236233, -2.162854149979077, -2.2119855364910803, -2.2801669416119617, 1.7307900021314782, -1.7582146248713246, -3.353333948037555, -2.777912740737304, -1.6166977792635808, -1.5875098536459213, -0.5875768880658506, -0.7093877226486955, -3.005853559305743, -0.33254466336978544, -1.9843053733802531, -2.004963086430169, 4.667697041559647, -2.2822157799255787, 1.289212702486468, -1.272808664179815, -2.367618071088698, -0.8075076164598496, 2.0169882652682496, 104.94449159204765, -3.574393969161465, 0.8578870941724901, -1.8289028042406892, -1.4998017943029116, 6.72500273899579, 6.236408057813688, -1.7725295687068858, -3.3050529265227997, -3.9238831458962986, 0.3859410126483691, -2.6335287904586244, 0.24039147854313914, -0.7153979138683777, -2.407498030087663, -1.76542933945312, 0.11013388319468372, -1.4534884174588645, -0.8757550663393477, 3.0675869856954803, -2.383549252624928, -0.5189418895556608, 1.137309355595258, -1.72698696258846, 3.162763606548098, 0.38306922068392435, -2.2632869789180243, 4.953679361554328, 4.341026801831822, -3.054494990902301, -2.0631139224009636, 0.03816780549615286, -2.578249946258015, -0.36703638490530044, -2.045096942032051, -3.3312168137534637, -0.7731409336943672, -1.4359620325063944, -2.8550509042257546, 0.8924987796062123, -2.409304925303715, -1.3081266364768587, -2.2951123391771215, 3.131349664530141, 0.11709355579166475, 3.28481903956402, 2.0641067367410657, 3.1410868038727195, 2.7647541122506154, -2.767236232926621, 10.550306377565414, -2.248450613488211, 0.4415760653861938, -2.8808797189867503, -1.0314735478676578, -3.296729731948939, 5.4858017587789805, -2.361714113704131, -0.8824085133268162, -0.19107888228681277, 5.003676153579579, -1.6512524719932602, -1.1316897959823589, -1.7477410844764203, -3.033367810151723, -2.123988430119864, 0.6522662851166755, -3.7466681886654736, -0.27473617348157625, 0.1899328155694436, -2.9205393352763287, 10.883598305014662, 9.064304553882094, -0.35141676750054457, -2.7077152511070186, 1.8446572521106077, -3.0372763698000127, -2.0237299422271415, -2.8424326798801554, -2.6235163234073955, -1.8482683966203066, -3.4474507474850253, -3.2535729403355433, -3.4496578404468106, -2.1815654096505512, -1.513910438046608, -0.5181897823459056, 3.213181584479035, -1.7324671558871456, -0.41348325139665826, -1.1833070316924617, -1.9862853328875811, -2.417166656637269, -1.987835955724928, 1.065899903091053, 1.8532534993196041, 8.515471520827576, -2.3303992777311984, -1.094050375691405, -2.689095722786056, -3.312856245231958, 1.9744201576847955, -1.2939623746368747, -1.283585655227904, 1.0658754245768751, -2.7557417285567425, 0.6948111321862347, 1.5811212942981863, -0.9949315024188429, -1.5629993670138727, -2.753621799525034, 0.5992512443033264, -2.7577386135213695, -2.174783715624619, -1.2399962101720707, 2.0363347248461134, -1.4043061937028267, 0.8838317745959094, -2.6722866389701605, -0.6460076414241791, -1.555160385026568, 9.701653087309852, -3.3033462681240473, -1.1912937314559282, -2.63813507569248, 1.3315948856604025, 9.448899359527209, -2.7314433808159215, -2.7656368391870716, -1.3455185873548403, 0.42179831002523716, -2.1548493895233167, -1.5264206660630824, 4.803882014711979, -3.6016190431432755, -2.1987117735375277, 0.6356307259495687, 0.31289331967683814, -0.9298975672028574, -2.322352451961305, -3.471558967647078, 4.818905325157008, 4.316947892207047, -3.907525997584901, -1.2251536050432028, -3.426496238565254, -2.2884360003377795, -3.532755688884012, -3.120868675518512, 10.005057052163409, -3.0295009578463863, -3.5474617967936988, -1.3876963845474042, -0.18439550786951558, 0.5549367682909093, -3.213670833276256, -2.4486711286497886, 5.632188764213395, -1.3892762846937396, -2.5465633449950023, 1.9891643541195176, -2.582378682791916, -1.570889097549824, -1.0754087446771987, -2.6657834387123485, -0.09329565903384565, -0.8149979400574956, -3.9133501431864683, -2.6840222245415895, -0.24573139275974407, -2.042886813696659, -1.6526123789927722, -2.204347392055278, 2.4559524276270324, -1.2926399345577309, -2.6622535152252365, -1.6188354934759492, 1.5280143673917252, 2.7694825082371803, -2.7877746417183826, -1.6752620336665196, -0.9864263060957786, 0.11172303596456752, -2.1221755882209132, -0.1877949045574071, -3.494695347672111, -1.5027373718528185, 2.7096141006340986, -0.6042509666748128, -2.89870925951784, -1.7724240217293545, -3.356620978490917, -2.945865733933062, -0.9947241153854943, -1.272133687494802, -0.8470054133492328, 0.22799257691467326, -2.743060406445008, 0.6667396181086912, 0.7824463486836958, 0.6887516534082072, 5.605983918884279, 2.3299103841062725, -2.6555823597112096, -1.6989600548431225, -1.8802192995074576, -1.6935669796876334, 0.24293454073609136, -2.873637106837306, 1.6585060111090026, 2.5351286961173463, -3.2403043918760925, 4.7759248382947215, -2.1955608824390387, -1.9095985224680583, -2.809965339891198, -2.9206608805368894, -1.0898150891639227, 0.05268490021364382, -3.4050544106610925, 3.7138266498669674, 5.036228620816391, 7.3330206766396255, -1.897185153530808, 2.776520410461687, -3.4115175909763362, -3.0158656762555505, -1.3219762064520788, 0.22732404767663245, -1.8976442618206124, 6.895960473979111, 0.20020235849726087, 5.007359187995115, 0.9444288819392276, -1.2008262166927137, 1.6371558210706605, -0.9738259408087508, 0.3375020515826366, -0.7329080481109597, -1.4721867937018986, -1.299304258717854, -1.3156060171398214, 0.020949495920878143, -1.486718134152426, -1.1339778004625412, -1.8939775548882196, -2.7696422855070666, -1.3235478701915275, -2.457155748943596, -3.5464117103707604, 3.898714485605322, -2.6552583711513, -3.204162267358488, -0.9603947496691476, -0.7820251708089649, -2.4421720818842343, -0.15574208317460983, -3.867170339749098, 2.6967417509113933, -3.0638382330600145, -1.9278619751249328, 0.9230945786064325, 8.357613081772127, -2.5082378948869932, 1.2983160688157311, 0.45887572887645056, 10.129313573762026, -3.836819616527577, -0.5627924102428072, 2.179814972614367, -0.6703116982741639, -3.6728789004105495, -1.0640467074367197, 2.019597101711326, 3.18263741521228, 6.685247513198127, -2.792941360434922, -3.2459924131176674, 0.8669210872984667, 2.764307951343089, -1.5204503883257663, -1.8717278675024216, -1.691841001631838, -3.496266331520372, -2.2239583589475878, -1.6554486845892116, 8.919771011074054, -1.6122151269978942, -2.969110078692667, -1.7028580940744984, -1.7130477818543794, -2.485876835890994, 1.3678711125918295, -3.129709950921342, 14.483546546481351, -2.969578957114183, -1.3078360974011602, -1.2134203744458874, -2.0754730969071526, -1.8265263496940545, -2.075794688333498, 3.2030932402187307, 60.61231611279741, -2.383001517056619, 1.646462249318291, -4.01381610560764, -1.6351034189215052, -0.23806553563920524, -1.5689384220914413, 0.69223999776459, -0.4721768963303224, 0.32890008252082276, 0.733328778784645, -1.8964172047682026, -2.418802247068372, -2.4734234975682234, -0.613815617029282, -2.7386603157459892, 2.4099266507650654, 1.8317932343191181, -0.6254932555493844, 2.2611096687154535, -2.5579990279702356, -1.0587371420179528, -0.38822205600090265, -0.5328382565181478, -2.1536475858305812, -2.4655791979666266, -0.5091731312414859, -3.503816041066441, -1.1028543212998656, 0.06920436983971683, 2.539242211422743, -0.9478650953561122, -3.2904744712692184, -3.5161310207486425, 6.530162691008118, 0.9432462613590794, -3.460229963480086, -2.0024811727422094, -1.3489790511267317, -1.5128157735704575, -2.768753297625966, -3.840282455263383, 0.2728866087389508, -3.4458761889806717, -2.3514455811604464, -0.03405693049754055, -2.6034187702587452, -2.6753868666815306], \"xaxis\": \"x\", \"y\": [-10.174101327874316, -0.8245078248467405, 0.3735169412110461, 4.211149390028076, 1.3892174469540863, 3.3797679701606738, 4.144937074865828, 0.40530620729137723, -0.07122634085077294, -0.1096381476683777, -1.196043114497072, 3.001045423937763, 0.8529710583421425, 2.2809321314548727, 0.5805936954986872, -1.3229122194322809, -3.3303052521713616, -0.8214225265952808, -5.611705777924268, 4.7878447144375, 0.9786711316362333, 1.1063226756897744, 1.831720571443471, 3.5003708722097486, 0.005901229160877424, 3.5216371435289626, 3.6720034014309277, -7.239207544683807, -1.7743407832003208, 4.736455197242352, -4.590579024823987, -12.678307749628182, 3.438388070929082, -2.7298993211593507, 5.158141258704548, 3.889165870245912, 4.626010079079007, -1.3851443154721663, -1.0236955503054295, 5.099781862383835, 2.1515660613546457, -1.274989129682215, 1.226841786747232, -0.18722615818176672, 0.2734270046889592, 4.957867034772346, -3.8968028349165635, 2.3370105340171565, 3.354418720673806, 0.22794097981915237, 1.3847029083371787, -3.77502687068381, -2.1832831743985657, 4.198378266261535, 1.8445070774507353, -5.21751855494413, 36.66599318200942, 4.898949313794487, 3.864836627713399, 4.3270597921430065, 0.6726683157218701, -13.555429909720372, -12.601688638437171, 0.5719868055343174, 4.439113039322796, 3.8650258096493317, -2.7646358074542667, 4.256464262491746, -2.307963844747694, 0.26337183018066107, 3.132198913361606, 2.3739139308202266, -1.5000379071161627, -0.00031815628626143236, 3.3682652277699723, -3.310009914212869, -0.29064020025377335, 0.6304575524988578, -7.101040546121003, 3.2560743994983445, -5.3263738730230985, -2.9760326822292784, 2.568944357925929, -6.1622245783039045, -12.60890283873607, 4.133783793194652, 1.1183612995025205, -1.454519614949827, 3.162889880128687, -0.42999971396256675, 1.6573657898016627, 3.121080168012741, 0.7368035098991672, -1.9075804497650233, 4.685065654811837, -2.0666454907528893, 2.7696469692356716, -1.0030388260007819, 3.3646042432073293, -4.658203115381776, -1.5062887519325516, -9.052590758480616, -5.41907655888033, -5.881115334436804, -5.695267165750059, 4.2706107715645105, -9.27506021955791, 2.4791251064907494, -1.1193480919420764, 4.845568970511184, -0.9614312634070327, 3.2324839729632044, -0.49232955648172283, 2.3831276076011925, 3.7411683987681643, 6.078267578207479, -8.577590066777972, 3.109873021529255, 1.1460171514280986, 1.5828034454973303, 3.356456234805715, 3.8817421879005236, -0.8071383226139781, 4.327260795438539, -0.8437654224786196, -0.5493948751827261, 3.862631805989868, 6.446370413886326, -8.243228927214236, 1.0191271801546256, 3.8667392999035757, -5.144562997001002, 3.6418449670318975, 2.5640863416582187, 4.041521446465882, 1.6332606012216728, 1.9895517385172323, 4.68392848076038, 3.6175555190973667, 3.781517027771345, 3.794175953814511, -0.8489287747443636, -1.20518516945017, -6.225744742105602, 3.1285291145776615, 1.9004176032784246, 0.17183823541575416, -1.6155175839966496, 2.029828893087534, 0.5000315861851969, -2.2909642089130715, -4.816164406598898, -5.538520015427523, 2.040811282995398, -3.132537922492498, 4.086570374263666, 5.718242979907253, -7.991413778450446, 3.833171860329619, 1.2861179182311073, -0.10336185032771629, 4.923699369952117, 0.9457357770423305, -3.783499570889448, 0.39727315988777473, 1.5718166744523172, 4.43885237604019, -0.8861489073720389, 3.02833783758525, -0.4814280828079339, -0.5651524606629473, -3.045200448200492, 1.6118159670301753, -3.1343828487566614, 4.925976770978934, 0.11247873853036558, 1.8846435875522796, -19.29960998321003, 4.064874328309021, 0.35120269911623164, 1.7385488007538208, 0.10869630809523327, -8.948905285533503, 3.3123162762283367, 2.0864235483898117, 0.9448966984009847, -3.1651839316676793, 4.309721802443271, 1.7865412823888795, -7.790113816945946, 5.25633324072335, 3.325515487095864, -1.7439520614133945, -1.673476998518016, 1.2664997948723131, 3.3759939814768862, 4.549118129922635, -12.665893035608528, -8.947142746766378, 4.0892822462530125, 1.653153768963587, 3.2918186293603435, -0.005649922194498735, 6.28708757839639, 5.366879458001489, -26.480205751863426, 4.203502497083747, 4.443941384800316, 2.332317835610752, 0.6458380999098684, -0.30521312273876566, 2.7656755663259274, 2.7645884049281633, -0.8738076746786373, 0.46759191468126354, 2.917322230979318, -7.15849300429161, 3.217743946649967, 3.112831452759943, 0.05223441078154856, 1.9436965504919856, 0.1862252417077664, -3.8121184027842476, 4.450583915485836, 3.3388542297776915, -1.8777496331202639, -1.412062869881594, 2.847255224386365, -0.20692279049842244, -5.996815161374132, 2.3383363219806146, 3.31335965546993, 1.926393132512743, 2.4917742411487596, 1.67576196428467, 3.9623424289466924, 2.8338812769816166, 2.77961416897326, -3.36078184802047, 3.336514204297693, -2.8809754909456182, 4.943880090133723, -0.2527572393671734, -7.81137018055367, 0.7541779136708446, 4.392961020758439, 2.057166094618655, 5.237114605341507, 3.787408573706929, 3.869350420594722, 2.963864578484316, -2.6409792818138635, -2.8961341723446226, 3.3933727407963015, -5.938809217905789, -0.48955352422625065, -5.920104997183618, -10.722759237587331, -0.9088797890139108, 2.6838934555841356, 3.877050828306813, 1.191400771661204, 3.075825956245545, -2.176766346094039, 3.0199644984525533, -2.951330142774327, -2.822303450179223, 5.1055609376341256, -7.356094837959566, 0.6035522714744939, -0.19893389624377847, 5.79402286900696, 3.053494496401305, 1.0099921708148853, 3.0713627436848503, 3.598295851806995, -11.365418756206534, -7.8349634693730215, -16.051173356838174, 2.0600218072907053, -0.21372524116207187, 3.275119638088167, 2.423059035991174, 2.0066356346199874, -2.8537054344958936, 2.4121757141697775, -13.537276949069362, 2.8145506644118052, -13.599826599548964, -3.9508669025899184, 1.2330697478520491, -4.042377416688853, -0.592356294394946, -4.870443178168958, 1.677041859942436, 1.520251508101084, -0.049210469392565535, 0.2512981747813414, 0.6665450065333768, -0.554225935215592, -1.1711396531448777, 0.7988457799940271, 3.407560047535698, 0.674191899247899, 1.7036857438423088, 4.349142544187742, -2.0386611931198657, 0.09677048335897132, 3.0949182308208574, 0.2950685894204165, -1.0852528366569794, 0.7673619535307059, -3.092003984753187, 3.7233533573144655, -3.147415854737579, 4.756683804004846, 1.320893598941014, -2.9559515485437897, -4.702923797353133, 1.5502879039805797, -4.709175587212036, -1.4586555171233604, -6.217747739444223, 3.9431121528140363, 1.7723195581647142, -4.837673387064927, -1.751042883861103, 3.442691801464056, -2.426316840222998, -6.755502888006963, -10.088179333923222, -21.827713880783993, 4.633128569351512, 3.9413369120437016, -4.0738671435113805, -5.974132464181937, 1.4588787033360644, 0.12298869474886345, 0.18098236303622434, 1.027017037218972, 3.606251508422139, 0.6788012026351831, -15.079385386265765, 0.8783243058909262, 4.3192249656369945, 1.2699506594705299, 2.6124143855533144, 0.1540345145877672, -7.8319832576886865, 4.2208036593028, 0.7345027972494288, 3.4481985607698213, -0.8060608976364625, -0.235069400247192, 3.831220968949313, 2.142875500977281, 0.2222154932747441, -12.180473153211198, 7.486259409556407, 1.990995587724299, -6.223201770946845, 3.600370220848519, -1.5515516089780848, -2.5372883366575274, 1.1586278724202295, -1.1791233064001938, -1.7727086710946698, -0.33929348393657105, -5.461092989826165, -0.18492118858066037, 5.104537480550854, 4.56237933209655, -0.1262030822072032, 4.26328166479833, -5.7228714156252485, -6.860942732584579, -1.7129066679544265, -4.937611706713941, 2.0615471213037684, 3.7082299540327983, -0.5802773733915243, -0.6575262621977535, 2.973578101741009, 2.845861619993519, 1.014605943082401, 5.6523001901738015, -0.458404106237885, -4.680466979427295, 3.7405160373583826, -2.451134930035136, 2.4110000718228273, 4.492814979886768, -3.6077670190245303, -4.743910338622843, 4.477180352102779, 1.6955955299505225, 1.1611474058831954, 1.967180936264533, 4.368529575716305, 4.5624619801719675, -2.733533937750883, 3.7469292890988655, 3.9228052983220403, -5.474219672573356, 3.3108794804356765, 0.7835524785936565], \"yaxis\": \"y\"}],\n",
              "                        {\"coloraxis\": {\"colorbar\": {\"title\": {\"text\": \"color\"}}, \"colorscale\": [[0.0, \"#0d0887\"], [0.1111111111111111, \"#46039f\"], [0.2222222222222222, \"#7201a8\"], [0.3333333333333333, \"#9c179e\"], [0.4444444444444444, \"#bd3786\"], [0.5555555555555556, \"#d8576b\"], [0.6666666666666666, \"#ed7953\"], [0.7777777777777778, \"#fb9f3a\"], [0.8888888888888888, \"#fdca26\"], [1.0, \"#f0f921\"]]}, \"legend\": {\"tracegroupgap\": 0}, \"template\": {\"data\": {\"bar\": [{\"error_x\": {\"color\": \"#2a3f5f\"}, \"error_y\": {\"color\": \"#2a3f5f\"}, \"marker\": {\"line\": {\"color\": \"#E5ECF6\", \"width\": 0.5}}, \"type\": \"bar\"}], \"barpolar\": [{\"marker\": {\"line\": {\"color\": \"#E5ECF6\", \"width\": 0.5}}, \"type\": \"barpolar\"}], \"carpet\": [{\"aaxis\": {\"endlinecolor\": \"#2a3f5f\", \"gridcolor\": \"white\", \"linecolor\": \"white\", \"minorgridcolor\": \"white\", \"startlinecolor\": \"#2a3f5f\"}, \"baxis\": {\"endlinecolor\": \"#2a3f5f\", \"gridcolor\": \"white\", \"linecolor\": \"white\", \"minorgridcolor\": \"white\", \"startlinecolor\": \"#2a3f5f\"}, \"type\": \"carpet\"}], \"choropleth\": [{\"colorbar\": {\"outlinewidth\": 0, \"ticks\": \"\"}, \"type\": \"choropleth\"}], \"contour\": [{\"colorbar\": {\"outlinewidth\": 0, \"ticks\": \"\"}, \"colorscale\": [[0.0, \"#0d0887\"], [0.1111111111111111, \"#46039f\"], [0.2222222222222222, \"#7201a8\"], [0.3333333333333333, \"#9c179e\"], [0.4444444444444444, \"#bd3786\"], [0.5555555555555556, \"#d8576b\"], [0.6666666666666666, \"#ed7953\"], [0.7777777777777778, \"#fb9f3a\"], [0.8888888888888888, \"#fdca26\"], [1.0, \"#f0f921\"]], \"type\": \"contour\"}], \"contourcarpet\": [{\"colorbar\": {\"outlinewidth\": 0, \"ticks\": \"\"}, \"type\": \"contourcarpet\"}], \"heatmap\": [{\"colorbar\": {\"outlinewidth\": 0, \"ticks\": \"\"}, \"colorscale\": [[0.0, \"#0d0887\"], [0.1111111111111111, \"#46039f\"], [0.2222222222222222, \"#7201a8\"], [0.3333333333333333, \"#9c179e\"], [0.4444444444444444, \"#bd3786\"], [0.5555555555555556, \"#d8576b\"], [0.6666666666666666, \"#ed7953\"], [0.7777777777777778, \"#fb9f3a\"], [0.8888888888888888, \"#fdca26\"], [1.0, \"#f0f921\"]], \"type\": \"heatmap\"}], \"heatmapgl\": [{\"colorbar\": {\"outlinewidth\": 0, \"ticks\": \"\"}, \"colorscale\": [[0.0, \"#0d0887\"], [0.1111111111111111, \"#46039f\"], [0.2222222222222222, \"#7201a8\"], [0.3333333333333333, \"#9c179e\"], [0.4444444444444444, \"#bd3786\"], [0.5555555555555556, \"#d8576b\"], [0.6666666666666666, \"#ed7953\"], [0.7777777777777778, \"#fb9f3a\"], [0.8888888888888888, \"#fdca26\"], [1.0, \"#f0f921\"]], \"type\": \"heatmapgl\"}], \"histogram\": [{\"marker\": {\"colorbar\": {\"outlinewidth\": 0, \"ticks\": \"\"}}, \"type\": \"histogram\"}], \"histogram2d\": [{\"colorbar\": {\"outlinewidth\": 0, \"ticks\": \"\"}, \"colorscale\": [[0.0, \"#0d0887\"], [0.1111111111111111, \"#46039f\"], [0.2222222222222222, \"#7201a8\"], [0.3333333333333333, \"#9c179e\"], [0.4444444444444444, \"#bd3786\"], [0.5555555555555556, \"#d8576b\"], [0.6666666666666666, \"#ed7953\"], [0.7777777777777778, \"#fb9f3a\"], [0.8888888888888888, \"#fdca26\"], [1.0, \"#f0f921\"]], \"type\": \"histogram2d\"}], \"histogram2dcontour\": [{\"colorbar\": {\"outlinewidth\": 0, \"ticks\": \"\"}, \"colorscale\": [[0.0, \"#0d0887\"], [0.1111111111111111, \"#46039f\"], [0.2222222222222222, \"#7201a8\"], [0.3333333333333333, \"#9c179e\"], [0.4444444444444444, \"#bd3786\"], [0.5555555555555556, \"#d8576b\"], [0.6666666666666666, \"#ed7953\"], [0.7777777777777778, \"#fb9f3a\"], [0.8888888888888888, \"#fdca26\"], [1.0, \"#f0f921\"]], \"type\": \"histogram2dcontour\"}], \"mesh3d\": [{\"colorbar\": {\"outlinewidth\": 0, \"ticks\": \"\"}, \"type\": \"mesh3d\"}], \"parcoords\": [{\"line\": {\"colorbar\": {\"outlinewidth\": 0, \"ticks\": \"\"}}, \"type\": \"parcoords\"}], \"pie\": [{\"automargin\": true, \"type\": \"pie\"}], \"scatter\": [{\"marker\": {\"colorbar\": {\"outlinewidth\": 0, \"ticks\": \"\"}}, \"type\": \"scatter\"}], \"scatter3d\": [{\"line\": {\"colorbar\": {\"outlinewidth\": 0, \"ticks\": \"\"}}, \"marker\": {\"colorbar\": {\"outlinewidth\": 0, \"ticks\": \"\"}}, \"type\": \"scatter3d\"}], \"scattercarpet\": [{\"marker\": {\"colorbar\": {\"outlinewidth\": 0, \"ticks\": \"\"}}, \"type\": \"scattercarpet\"}], \"scattergeo\": [{\"marker\": {\"colorbar\": {\"outlinewidth\": 0, \"ticks\": \"\"}}, \"type\": \"scattergeo\"}], \"scattergl\": [{\"marker\": {\"colorbar\": {\"outlinewidth\": 0, \"ticks\": \"\"}}, \"type\": \"scattergl\"}], \"scattermapbox\": [{\"marker\": {\"colorbar\": {\"outlinewidth\": 0, \"ticks\": \"\"}}, \"type\": \"scattermapbox\"}], \"scatterpolar\": [{\"marker\": {\"colorbar\": {\"outlinewidth\": 0, \"ticks\": \"\"}}, \"type\": \"scatterpolar\"}], \"scatterpolargl\": [{\"marker\": {\"colorbar\": {\"outlinewidth\": 0, \"ticks\": \"\"}}, \"type\": \"scatterpolargl\"}], \"scatterternary\": [{\"marker\": {\"colorbar\": {\"outlinewidth\": 0, \"ticks\": \"\"}}, \"type\": \"scatterternary\"}], \"surface\": [{\"colorbar\": {\"outlinewidth\": 0, \"ticks\": \"\"}, \"colorscale\": [[0.0, \"#0d0887\"], [0.1111111111111111, \"#46039f\"], [0.2222222222222222, \"#7201a8\"], [0.3333333333333333, \"#9c179e\"], [0.4444444444444444, \"#bd3786\"], [0.5555555555555556, \"#d8576b\"], [0.6666666666666666, \"#ed7953\"], [0.7777777777777778, \"#fb9f3a\"], [0.8888888888888888, \"#fdca26\"], [1.0, \"#f0f921\"]], \"type\": \"surface\"}], \"table\": [{\"cells\": {\"fill\": {\"color\": \"#EBF0F8\"}, \"line\": {\"color\": \"white\"}}, \"header\": {\"fill\": {\"color\": \"#C8D4E3\"}, \"line\": {\"color\": \"white\"}}, \"type\": \"table\"}]}, \"layout\": {\"annotationdefaults\": {\"arrowcolor\": \"#2a3f5f\", \"arrowhead\": 0, \"arrowwidth\": 1}, \"coloraxis\": {\"colorbar\": {\"outlinewidth\": 0, \"ticks\": \"\"}}, \"colorscale\": {\"diverging\": [[0, \"#8e0152\"], [0.1, \"#c51b7d\"], [0.2, \"#de77ae\"], [0.3, \"#f1b6da\"], [0.4, \"#fde0ef\"], [0.5, \"#f7f7f7\"], [0.6, \"#e6f5d0\"], [0.7, \"#b8e186\"], [0.8, \"#7fbc41\"], [0.9, \"#4d9221\"], [1, \"#276419\"]], \"sequential\": [[0.0, \"#0d0887\"], [0.1111111111111111, \"#46039f\"], [0.2222222222222222, \"#7201a8\"], [0.3333333333333333, \"#9c179e\"], [0.4444444444444444, \"#bd3786\"], [0.5555555555555556, \"#d8576b\"], [0.6666666666666666, \"#ed7953\"], [0.7777777777777778, \"#fb9f3a\"], [0.8888888888888888, \"#fdca26\"], [1.0, \"#f0f921\"]], \"sequentialminus\": [[0.0, \"#0d0887\"], [0.1111111111111111, \"#46039f\"], [0.2222222222222222, \"#7201a8\"], [0.3333333333333333, \"#9c179e\"], [0.4444444444444444, \"#bd3786\"], [0.5555555555555556, \"#d8576b\"], [0.6666666666666666, \"#ed7953\"], [0.7777777777777778, \"#fb9f3a\"], [0.8888888888888888, \"#fdca26\"], [1.0, \"#f0f921\"]]}, \"colorway\": [\"#636efa\", \"#EF553B\", \"#00cc96\", \"#ab63fa\", \"#FFA15A\", \"#19d3f3\", \"#FF6692\", \"#B6E880\", \"#FF97FF\", \"#FECB52\"], \"font\": {\"color\": \"#2a3f5f\"}, \"geo\": {\"bgcolor\": \"white\", \"lakecolor\": \"white\", \"landcolor\": \"#E5ECF6\", \"showlakes\": true, \"showland\": true, \"subunitcolor\": \"white\"}, \"hoverlabel\": {\"align\": \"left\"}, \"hovermode\": \"closest\", \"mapbox\": {\"style\": \"light\"}, \"paper_bgcolor\": \"white\", \"plot_bgcolor\": \"#E5ECF6\", \"polar\": {\"angularaxis\": {\"gridcolor\": \"white\", \"linecolor\": \"white\", \"ticks\": \"\"}, \"bgcolor\": \"#E5ECF6\", \"radialaxis\": {\"gridcolor\": \"white\", \"linecolor\": \"white\", \"ticks\": \"\"}}, \"scene\": {\"xaxis\": {\"backgroundcolor\": \"#E5ECF6\", \"gridcolor\": \"white\", \"gridwidth\": 2, \"linecolor\": \"white\", \"showbackground\": true, \"ticks\": \"\", \"zerolinecolor\": \"white\"}, \"yaxis\": {\"backgroundcolor\": \"#E5ECF6\", \"gridcolor\": \"white\", \"gridwidth\": 2, \"linecolor\": \"white\", \"showbackground\": true, \"ticks\": \"\", \"zerolinecolor\": \"white\"}, \"zaxis\": {\"backgroundcolor\": \"#E5ECF6\", \"gridcolor\": \"white\", \"gridwidth\": 2, \"linecolor\": \"white\", \"showbackground\": true, \"ticks\": \"\", \"zerolinecolor\": \"white\"}}, \"shapedefaults\": {\"line\": {\"color\": \"#2a3f5f\"}}, \"ternary\": {\"aaxis\": {\"gridcolor\": \"white\", \"linecolor\": \"white\", \"ticks\": \"\"}, \"baxis\": {\"gridcolor\": \"white\", \"linecolor\": \"white\", \"ticks\": \"\"}, \"bgcolor\": \"#E5ECF6\", \"caxis\": {\"gridcolor\": \"white\", \"linecolor\": \"white\", \"ticks\": \"\"}}, \"title\": {\"x\": 0.05}, \"xaxis\": {\"automargin\": true, \"gridcolor\": \"white\", \"linecolor\": \"white\", \"ticks\": \"\", \"title\": {\"standoff\": 15}, \"zerolinecolor\": \"white\", \"zerolinewidth\": 2}, \"yaxis\": {\"automargin\": true, \"gridcolor\": \"white\", \"linecolor\": \"white\", \"ticks\": \"\", \"title\": {\"standoff\": 15}, \"zerolinecolor\": \"white\", \"zerolinewidth\": 2}}}, \"title\": {\"text\": \"First 2 Principal Components of CRC data\"}, \"xaxis\": {\"anchor\": \"y\", \"domain\": [0.0, 1.0], \"title\": {\"text\": \"PC 1\"}}, \"yaxis\": {\"anchor\": \"x\", \"domain\": [0.0, 1.0], \"title\": {\"text\": \"PC 2\"}}},\n",
              "                        {\"responsive\": true}\n",
              "                    ).then(function(){\n",
              "                            \n",
              "var gd = document.getElementById('e0d453b3-84d7-42d9-9b88-6d9ebd4017de');\n",
              "var x = new MutationObserver(function (mutations, observer) {{\n",
              "        var display = window.getComputedStyle(gd).display;\n",
              "        if (!display || display === 'none') {{\n",
              "            console.log([gd, 'removed!']);\n",
              "            Plotly.purge(gd);\n",
              "            observer.disconnect();\n",
              "        }}\n",
              "}});\n",
              "\n",
              "// Listen for the removal of the full notebook cells\n",
              "var notebookContainer = gd.closest('#notebook-container');\n",
              "if (notebookContainer) {{\n",
              "    x.observe(notebookContainer, {childList: true});\n",
              "}}\n",
              "\n",
              "// Listen for the clearing of the current output cell\n",
              "var outputEl = gd.closest('.output');\n",
              "if (outputEl) {{\n",
              "    x.observe(outputEl, {childList: true});\n",
              "}}\n",
              "\n",
              "                        })\n",
              "                };\n",
              "                \n",
              "            </script>\n",
              "        </div>\n",
              "</body>\n",
              "</html>"
            ]
          },
          "metadata": {
            "tags": []
          }
        }
      ]
    },
    {
      "cell_type": "code",
      "metadata": {
        "id": "Z9d8PwYVM3sN",
        "colab": {
          "base_uri": "https://localhost:8080/",
          "height": 542
        },
        "outputId": "7f417ce3-4c1e-4f5f-e03b-b7d485cdbee8"
      },
      "source": [
        "kpca = KernelPCA(kernel=\"rbf\", fit_inverse_transform=True)\n",
        "kpca.fit(X_train)\n",
        "components = kpca.fit_transform(X_train)\n",
        "\n",
        "fig = px.scatter(\n",
        "    components, x=0, y=1, color=y_train,\n",
        "    title=\"First 3 Principal Components\",\n",
        "    labels={'0': 'PC 1', '1': 'PC 2'}\n",
        ")\n",
        "fig.show()"
      ],
      "execution_count": null,
      "outputs": [
        {
          "output_type": "display_data",
          "data": {
            "text/html": [
              "<html>\n",
              "<head><meta charset=\"utf-8\" /></head>\n",
              "<body>\n",
              "    <div>\n",
              "            <script src=\"https://cdnjs.cloudflare.com/ajax/libs/mathjax/2.7.5/MathJax.js?config=TeX-AMS-MML_SVG\"></script><script type=\"text/javascript\">if (window.MathJax) {MathJax.Hub.Config({SVG: {font: \"STIX-Web\"}});}</script>\n",
              "                <script type=\"text/javascript\">window.PlotlyConfig = {MathJaxConfig: 'local'};</script>\n",
              "        <script src=\"https://cdn.plot.ly/plotly-latest.min.js\"></script>    \n",
              "            <div id=\"ff9c5c75-f4ae-4e99-943d-b3ea08d4cb9a\" class=\"plotly-graph-div\" style=\"height:525px; width:100%;\"></div>\n",
              "            <script type=\"text/javascript\">\n",
              "                \n",
              "                    window.PLOTLYENV=window.PLOTLYENV || {};\n",
              "                    \n",
              "                if (document.getElementById(\"ff9c5c75-f4ae-4e99-943d-b3ea08d4cb9a\")) {\n",
              "                    Plotly.newPlot(\n",
              "                        'ff9c5c75-f4ae-4e99-943d-b3ea08d4cb9a',\n",
              "                        [{\"hoverlabel\": {\"namelength\": 0}, \"hovertemplate\": \"PC 1=%{x}<br>PC 2=%{y}<br>color=%{marker.color}\", \"legendgroup\": \"\", \"marker\": {\"color\": [0.0, 0.0, 0.0, 1.0, 1.0, 0.0, 1.0, 0.0, 1.0, 0.0, 1.0, 1.0, 0.0, 0.0, 0.0, 0.0, 0.0, 0.0, 0.0, 0.0, 0.0, 0.0, 0.0, 0.0, 1.0, 0.0, 1.0, 1.0, 0.0, 0.0, 0.0, 0.0, 1.0, 0.0, 0.0, 0.0, 0.0, 1.0, 0.0, 1.0, 0.0, 0.0, 0.0, 0.0, 1.0, 1.0, 1.0, 1.0, 0.0, 0.0, 1.0, 0.0, 1.0, 1.0, 1.0, 0.0, 0.0, 0.0, 0.0, 0.0, 0.0, 0.0, 1.0, 0.0, 1.0, 1.0, 1.0, 1.0, 0.0, 1.0, 1.0, 0.0, 0.0, 0.0, 0.0, 1.0, 0.0, 0.0, 0.0, 1.0, 0.0, 0.0, 1.0, 0.0, 0.0, 0.0, 1.0, 0.0, 0.0, 0.0, 0.0, 1.0, 1.0, 0.0, 1.0, 1.0, 0.0, 1.0, 1.0, 1.0, 1.0, 0.0, 0.0, 1.0, 0.0, 0.0, 1.0, 1.0, 0.0, 0.0, 0.0, 0.0, 0.0, 1.0, 1.0, 1.0, 0.0, 0.0, 1.0, 1.0, 1.0, 0.0, 0.0, 0.0, 1.0, 0.0, 1.0, 0.0, 0.0, 1.0, 1.0, 0.0, 0.0, 0.0, 0.0, 0.0, 0.0, 0.0, 0.0, 1.0, 0.0, 1.0, 1.0, 1.0, 0.0, 1.0, 0.0, 0.0, 0.0, 1.0, 0.0, 0.0, 0.0, 1.0, 0.0, 0.0, 0.0, 0.0, 0.0, 0.0, 1.0, 1.0, 1.0, 0.0, 0.0, 0.0, 1.0, 1.0, 0.0, 0.0, 1.0, 1.0, 1.0, 1.0, 1.0, 0.0, 0.0, 1.0, 0.0, 1.0, 1.0, 1.0, 0.0, 1.0, 1.0, 0.0, 1.0, 1.0, 0.0, 1.0, 1.0, 1.0, 1.0, 0.0, 1.0, 1.0, 1.0, 0.0, 0.0, 0.0, 1.0, 1.0, 1.0, 0.0, 0.0, 1.0, 1.0, 0.0, 1.0, 1.0, 1.0, 0.0, 0.0, 0.0, 1.0, 1.0, 0.0, 0.0, 0.0, 0.0, 1.0, 1.0, 0.0, 1.0, 0.0, 1.0, 1.0, 1.0, 1.0, 1.0, 1.0, 0.0, 1.0, 0.0, 0.0, 1.0, 1.0, 1.0, 1.0, 1.0, 0.0, 0.0, 0.0, 0.0, 1.0, 0.0, 1.0, 0.0, 0.0, 0.0, 0.0, 1.0, 0.0, 1.0, 1.0, 1.0, 0.0, 1.0, 1.0, 1.0, 1.0, 1.0, 0.0, 0.0, 0.0, 1.0, 0.0, 1.0, 1.0, 1.0, 0.0, 0.0, 0.0, 1.0, 0.0, 1.0, 0.0, 0.0, 1.0, 0.0, 1.0, 0.0, 1.0, 0.0], \"coloraxis\": \"coloraxis\", \"symbol\": \"circle\"}, \"mode\": \"markers\", \"name\": \"\", \"showlegend\": false, \"type\": \"scatter\", \"x\": [-0.23595118522644043, -0.2393113672733307, -0.18691334128379822, 0.4580795466899872, -0.26555749773979187, -0.06320342421531677, -0.3509635627269745, -0.3428320288658142, -0.03717019781470299, 0.26666781306266785, -0.14972054958343506, -0.3178231418132782, -0.18072806298732758, 0.04538938030600548, 0.13939549028873444, -0.01822778582572937, 0.3407409191131592, 0.20291993021965027, 0.15984702110290527, -0.13047873973846436, -0.11046535521745682, -0.3581060767173767, 0.4613656997680664, 0.07039614021778107, 0.11441903561353683, 0.09848702698945999, 0.22757218778133392, -0.35838913917541504, 0.12205902487039566, 0.09848584979772568, -0.03909420594573021, -0.12755998969078064, -0.10617373883724213, 0.06551230698823929, -0.14859408140182495, -0.22317178547382355, 0.4574991464614868, -0.01721782051026821, -0.34133824706077576, 0.25477421283721924, 0.30631473660469055, 0.3617417514324188, 0.3850363492965698, -0.2045065015554428, -0.07707356661558151, -0.04778774082660675, -0.3714643120765686, 0.030590061098337173, -0.01035547535866499, 0.016092073172330856, -0.2219543755054474, 0.04898805916309357, -0.18028360605239868, -0.10538032650947571, 0.35348227620124817, -0.22359496355056763, -0.27974143624305725, -0.30555275082588196, -0.17242413759231567, 0.10091463476419449, -0.2991754412651062, -0.3431091606616974, -0.3288690745830536, 0.08728368580341339, -0.06208052858710289, 0.030320661142468452, 0.4489203691482544, -0.05900857597589493, 0.20823252201080322, 0.08557181060314178, 0.061288245022296906, -0.141322523355484, 0.3309321105480194, 0.14116163551807404, -0.40382492542266846, 0.06389738619327545, 0.44843509793281555, 0.22127996385097504, -0.36589694023132324, -0.09116765111684799, -0.28591588139533997, -0.3751373291015625, -0.05913051217794418, 0.2680654227733612, -0.15869741141796112, 0.48252642154693604, 0.37378671765327454, -0.38582566380500793, 0.49861106276512146, -0.13083606958389282, -0.14771632850170135, -0.07809308916330338, 0.4842728078365326, -0.40921634435653687, 0.10816836357116699, -0.11140322685241699, 0.3609679341316223, 0.4405162036418915, 0.2481616586446762, -0.3025214374065399, 0.2506903409957886, -0.042374152690172195, 0.07060395926237106, 0.32013046741485596, 0.3301045000553131, 0.08313646167516708, 0.007093281950801611, -0.2572489082813263, 0.12060566991567612, -0.21284280717372894, 0.3856298327445984, -0.19024385511875153, -0.2098187655210495, 0.35823512077331543, -0.20267052948474884, -0.3272649645805359, 0.31553173065185547, 0.17573173344135284, 0.14911040663719177, -0.10209593921899796, 0.046647511422634125, 0.4284684956073761, -0.29601526260375977, 0.15557654201984406, 0.489631712436676, -0.17066219449043274, -0.1455870121717453, -0.2914983332157135, -0.32991641759872437, -0.017598655074834824, -0.15795806050300598, 0.31684058904647827, 0.1421152502298355, 0.48165786266326904, -0.23668181896209717, 0.479350209236145, -0.34474045038223267, 0.08283228427171707, -0.2809038758277893, 0.2879638075828552, -0.324966698884964, 0.16654956340789795, -0.24903267621994019, -0.18300943076610565, 0.003012289758771658, 0.07274717092514038, 0.310081422328949, 0.18922200798988342, -0.2589755654335022, -0.28372544050216675, 0.2090383619070053, 0.42464783787727356, -0.22981412708759308, -0.3583345413208008, -0.07196713984012604, 0.3223016858100891, 0.35380539298057556, 0.3754728138446808, -0.3830018639564514, -0.29486942291259766, -0.08628209680318832, -0.054101571440696716, -0.11979793757200241, -0.30187562108039856, -0.16721613705158234, 0.006794536020606756, -0.19723977148532867, -0.01943948119878769, -0.050019342452287674, -0.12571224570274353, 0.16736973822116852, -0.23679302632808685, -0.3060384690761566, 0.20945225656032562, 0.43640008568763733, 0.4970439672470093, -0.28391119837760925, 0.2124214917421341, -0.05980370193719864, 0.4853755235671997, -0.4342132806777954, -0.2993214428424835, -0.3625360131263733, -0.1300254464149475, -0.1279478669166565, 0.04098484665155411, -0.25871244072914124, 0.08204678446054459, -0.3064937889575958, -0.3423396944999695, -0.41586941480636597, 0.1237279400229454, -0.3188307583332062, 0.3045017719268799, -0.10524735599756241, 0.36124899983406067, -0.01308051124215126, -0.05769966170191765, -0.309806764125824, -0.245608851313591, 0.02744324505329132, -0.09225588291883469, 0.4032936692237854, -0.18207833170890808, -0.21460966765880585, 0.4770698547363281, -0.16356021165847778, -0.1861901581287384, 0.28815552592277527, 0.22994369268417358, -0.0964062362909317, 0.26235276460647583, -0.00012024940951960161, -0.07899685949087143, -0.018377356231212616, -0.3637244403362274, 0.4694000482559204, 0.40890663862228394, 0.3383040130138397, 0.08806026726961136, -0.31066054105758667, -0.2244848757982254, -0.007697887718677521, 0.28476083278656006, 0.19843463599681854, 0.05738435313105583, -0.1762935370206833, -0.26176008582115173, 0.32696324586868286, -0.13191963732242584, -0.37473341822624207, -0.14918771386146545, -0.030012881383299828, -0.24273639917373657, 0.38034242391586304, 0.3263026773929596, -0.19265559315681458, 0.4265331029891968, -0.22784611582756042, -0.20886065065860748, 0.27640804648399353, -0.028680400922894478, 0.10206115990877151, 0.49965810775756836, -0.11504656821489334, 0.5001096725463867, 0.24412164092063904, 0.21529167890548706, 0.043895822018384933, -0.10712103545665741, 0.12221992760896683, -0.4226735830307007, 0.14479424059391022, -0.2528952658176422, -0.3182533085346222, -0.09368321299552917, -0.15710604190826416, 0.18159165978431702, -0.1792096197605133, -0.4250639081001282, -0.023428916931152344, 0.1484348326921463, 0.09463173151016235, 0.2057911902666092, 0.2419678121805191, 0.2244795709848404, -0.06696835905313492, -0.03485843911767006, 0.14612238109111786, -0.18423427641391754, -0.2743633985519409, 0.41357558965682983, -0.2925323247909546, -0.05012447014451027, 0.1603509783744812, 0.06619283556938171, 0.16437861323356628, 0.4774402976036072, 0.15253737568855286, -0.30015549063682556, -0.271846741437912, 0.13692249357700348, -0.31515276432037354, -0.2413232922554016], \"xaxis\": \"x\", \"y\": [-0.05079299211502075, -0.07674563676118851, 0.13052932918071747, -0.024020066484808922, 0.0781848281621933, -0.1602175235748291, 0.004434342496097088, 0.23562975227832794, 0.07165274769067764, 0.0598766915500164, -0.17686304450035095, -0.24677768349647522, 0.031198065727949142, 0.26897889375686646, -0.13386058807373047, -0.07456294447183609, -0.05736584961414337, 0.14194311201572418, 0.08831416815519333, -0.21429812908172607, 0.05290960147976875, -0.07390308380126953, -0.10202496498823166, 0.03829963877797127, -0.11524827778339386, 0.25021398067474365, -0.053809333592653275, -0.013787828385829926, -0.1371677815914154, -0.06698024272918701, -0.09496458619832993, -0.055743757635354996, 0.08035306632518768, -0.007321631070226431, 0.30080029368400574, -0.25278106331825256, -0.05575677007436752, 0.02166137285530567, -0.15039053559303284, -0.06942162662744522, 0.07418590784072876, 0.0886329784989357, 0.029964016750454903, -0.16824480891227722, 0.07828525453805923, 0.033008478581905365, -0.13940584659576416, -0.00035973606281913817, -0.11434052139520645, -0.253208726644516, -0.13186189532279968, -0.019229304045438766, 0.08228867501020432, -0.16101403534412384, 0.007066825404763222, 0.21232591569423676, 0.03433682397007942, -0.07222005724906921, 0.001051596598699689, -0.10288862138986588, -0.14893192052841187, 0.1049022376537323, -0.16491378843784332, 0.0329415500164032, -0.22134554386138916, 0.21512861549854279, -0.058504242449998856, 0.11405235528945923, -0.08479054272174835, 0.05004176124930382, 0.13744457066059113, 0.3488813638687134, -0.01697518862783909, -0.1386231780052185, -0.15019823610782623, 0.12732569873332977, -0.07978910207748413, -0.0241516325622797, -0.09081064164638519, -0.0074864840134978294, -0.18168725073337555, -0.1270127147436142, 0.26751571893692017, -0.019951194524765015, -0.13475997745990753, -0.08776259422302246, -0.06631346046924591, -0.001863081706687808, -0.10080874711275101, 0.13977137207984924, -0.16957031190395355, 0.30443334579467773, -0.08612369000911713, -0.058538876473903656, 0.05336103215813637, -0.24699339270591736, 0.055817410349845886, -0.0067741344682872295, -0.06566240638494492, 0.007426228374242783, -0.06715114414691925, 0.045374173671007156, -0.15541410446166992, -0.17618195712566376, -0.05910962447524071, 0.18592149019241333, 0.30910560488700867, 0.07971378415822983, -0.08212164789438248, -0.09669104218482971, 0.06705466657876968, -0.05332259088754654, 0.019691016525030136, 0.026994062587618828, 0.15216931700706482, 0.15657269954681396, 0.0062638986855745316, 0.05258297547698021, -0.08634394407272339, 0.23479658365249634, 0.18879762291908264, 0.008525952696800232, 0.2458188384771347, 0.03139101341366768, -0.08355764299631119, 0.22198225557804108, -0.12287326902151108, -0.05718998983502388, -0.02604443021118641, 0.18623295426368713, 0.20385131239891052, -0.05005514249205589, 0.10922009497880936, -0.039989884942770004, 0.0867927297949791, -0.0778900682926178, 0.10112278908491135, 0.11076418310403824, -0.044529158622026443, 0.014819890260696411, -0.09809157997369766, -0.017323186621069908, -0.12056291848421097, 0.21889500319957733, 0.08483204990625381, 0.1737886369228363, 0.039634477347135544, 0.15082219243049622, -0.2030179351568222, 0.1878407597541809, 0.061994437128305435, -0.053566623479127884, 0.19135519862174988, -0.058347709476947784, 0.11782744526863098, -0.06418062746524811, -0.06812833994626999, -0.05551643669605255, -0.002365041058510542, -0.09994814544916153, -0.23386740684509277, 0.04417092353105545, 0.2005566954612732, -0.14156129956245422, -0.06596675515174866, -0.07302683591842651, 0.14725147187709808, 0.24279199540615082, 0.07131469249725342, -0.042517609894275665, 0.2674078345298767, -0.09114048629999161, 0.06712726503610611, 0.07604147493839264, -0.05948340892791748, -0.09930781275033951, -0.0957193523645401, -0.0395803265273571, -0.2549160122871399, -0.08846383541822433, -0.10611112415790558, 0.060781318694353104, -0.0851835086941719, -0.3107700049877167, -0.15018296241760254, -0.12555959820747375, -0.1783541440963745, -0.07960513234138489, -0.07884854078292847, -0.020185787230730057, -0.06822770833969116, 0.018929466605186462, -0.09171425551176071, -0.10492413491010666, 0.048136256635189056, -0.05884358286857605, 0.29898902773857117, 0.08892598003149033, -0.056930456310510635, 0.2107354998588562, -0.11475960165262222, 0.06483325362205505, 0.0638689249753952, -0.17978283762931824, 0.052306242287158966, -0.033907450735569, -0.0890231654047966, -0.08699198812246323, 0.061696987599134445, -0.006966464687138796, 0.14579737186431885, -0.05962981656193733, -0.2199748158454895, -0.12345033884048462, 0.18358267843723297, -0.1037435531616211, -0.08986368030309677, -0.10940168797969818, 0.18211773037910461, 0.016665862873196602, 0.1715870350599289, -0.19431352615356445, 0.043450821191072464, 0.010304031893610954, -0.03755532205104828, 0.3494475781917572, 0.03970722481608391, 0.15471623837947845, 0.015746215358376503, -0.172532320022583, -0.02522645704448223, 0.23682351410388947, 0.00506566371768713, -0.14891955256462097, -0.003894839668646455, 0.148285910487175, 0.09877072274684906, 0.005400530062615871, -0.07407097518444061, 0.2350766658782959, -0.06921690702438354, -0.14481499791145325, -0.23733682930469513, -0.10285405814647675, -0.11533770710229874, -0.10311630368232727, -0.0006077777943573892, 0.02144804783165455, 0.03853005915880203, 0.2945236563682556, 0.03888990730047226, -0.15240982174873352, 0.04890022054314613, -0.23115134239196777, -0.039802007377147675, -0.09467258304357529, 0.02509767934679985, 0.15007825195789337, 0.01582852005958557, 0.03134264051914215, 0.2236103117465973, 0.24023544788360596, -0.12264523655176163, 0.18205168843269348, 0.05010731518268585, 0.1303417980670929, 0.09427579492330551, 0.14513929188251495, -0.031501468271017075, 0.20547570288181305, 0.13912339508533478, -0.025079017505049706, 0.07853736728429794, -0.08143839985132217, 0.056307025253772736, -0.12386610358953476, 0.08302401006221771, -0.06900519877672195, 0.07466517388820648, -0.22338537871837616, -0.14739178121089935, -0.13850416243076324, 0.14670248329639435, 0.04621383175253868], \"yaxis\": \"y\"}],\n",
              "                        {\"coloraxis\": {\"colorbar\": {\"title\": {\"text\": \"color\"}}, \"colorscale\": [[0.0, \"#0d0887\"], [0.1111111111111111, \"#46039f\"], [0.2222222222222222, \"#7201a8\"], [0.3333333333333333, \"#9c179e\"], [0.4444444444444444, \"#bd3786\"], [0.5555555555555556, \"#d8576b\"], [0.6666666666666666, \"#ed7953\"], [0.7777777777777778, \"#fb9f3a\"], [0.8888888888888888, \"#fdca26\"], [1.0, \"#f0f921\"]]}, \"legend\": {\"tracegroupgap\": 0}, \"template\": {\"data\": {\"bar\": [{\"error_x\": {\"color\": \"#2a3f5f\"}, \"error_y\": {\"color\": \"#2a3f5f\"}, \"marker\": {\"line\": {\"color\": \"#E5ECF6\", \"width\": 0.5}}, \"type\": \"bar\"}], \"barpolar\": [{\"marker\": {\"line\": {\"color\": \"#E5ECF6\", \"width\": 0.5}}, \"type\": \"barpolar\"}], \"carpet\": [{\"aaxis\": {\"endlinecolor\": \"#2a3f5f\", \"gridcolor\": \"white\", \"linecolor\": \"white\", \"minorgridcolor\": \"white\", \"startlinecolor\": \"#2a3f5f\"}, \"baxis\": {\"endlinecolor\": \"#2a3f5f\", \"gridcolor\": \"white\", \"linecolor\": \"white\", \"minorgridcolor\": \"white\", \"startlinecolor\": \"#2a3f5f\"}, \"type\": \"carpet\"}], \"choropleth\": [{\"colorbar\": {\"outlinewidth\": 0, \"ticks\": \"\"}, \"type\": \"choropleth\"}], \"contour\": [{\"colorbar\": {\"outlinewidth\": 0, \"ticks\": \"\"}, \"colorscale\": [[0.0, \"#0d0887\"], [0.1111111111111111, \"#46039f\"], [0.2222222222222222, \"#7201a8\"], [0.3333333333333333, \"#9c179e\"], [0.4444444444444444, \"#bd3786\"], [0.5555555555555556, \"#d8576b\"], [0.6666666666666666, \"#ed7953\"], [0.7777777777777778, \"#fb9f3a\"], [0.8888888888888888, \"#fdca26\"], [1.0, \"#f0f921\"]], \"type\": \"contour\"}], \"contourcarpet\": [{\"colorbar\": {\"outlinewidth\": 0, \"ticks\": \"\"}, \"type\": \"contourcarpet\"}], \"heatmap\": [{\"colorbar\": {\"outlinewidth\": 0, \"ticks\": \"\"}, \"colorscale\": [[0.0, \"#0d0887\"], [0.1111111111111111, \"#46039f\"], [0.2222222222222222, \"#7201a8\"], [0.3333333333333333, \"#9c179e\"], [0.4444444444444444, \"#bd3786\"], [0.5555555555555556, \"#d8576b\"], [0.6666666666666666, \"#ed7953\"], [0.7777777777777778, \"#fb9f3a\"], [0.8888888888888888, \"#fdca26\"], [1.0, \"#f0f921\"]], \"type\": \"heatmap\"}], \"heatmapgl\": [{\"colorbar\": {\"outlinewidth\": 0, \"ticks\": \"\"}, \"colorscale\": [[0.0, \"#0d0887\"], [0.1111111111111111, \"#46039f\"], [0.2222222222222222, \"#7201a8\"], [0.3333333333333333, \"#9c179e\"], [0.4444444444444444, \"#bd3786\"], [0.5555555555555556, \"#d8576b\"], [0.6666666666666666, \"#ed7953\"], [0.7777777777777778, \"#fb9f3a\"], [0.8888888888888888, \"#fdca26\"], [1.0, \"#f0f921\"]], \"type\": \"heatmapgl\"}], \"histogram\": [{\"marker\": {\"colorbar\": {\"outlinewidth\": 0, \"ticks\": \"\"}}, \"type\": \"histogram\"}], \"histogram2d\": [{\"colorbar\": {\"outlinewidth\": 0, \"ticks\": \"\"}, \"colorscale\": [[0.0, \"#0d0887\"], [0.1111111111111111, \"#46039f\"], [0.2222222222222222, \"#7201a8\"], [0.3333333333333333, \"#9c179e\"], [0.4444444444444444, \"#bd3786\"], [0.5555555555555556, \"#d8576b\"], [0.6666666666666666, \"#ed7953\"], [0.7777777777777778, \"#fb9f3a\"], [0.8888888888888888, \"#fdca26\"], [1.0, \"#f0f921\"]], \"type\": \"histogram2d\"}], \"histogram2dcontour\": [{\"colorbar\": {\"outlinewidth\": 0, \"ticks\": \"\"}, \"colorscale\": [[0.0, \"#0d0887\"], [0.1111111111111111, \"#46039f\"], [0.2222222222222222, \"#7201a8\"], [0.3333333333333333, \"#9c179e\"], [0.4444444444444444, \"#bd3786\"], [0.5555555555555556, \"#d8576b\"], [0.6666666666666666, \"#ed7953\"], [0.7777777777777778, \"#fb9f3a\"], [0.8888888888888888, \"#fdca26\"], [1.0, \"#f0f921\"]], \"type\": \"histogram2dcontour\"}], \"mesh3d\": [{\"colorbar\": {\"outlinewidth\": 0, \"ticks\": \"\"}, \"type\": \"mesh3d\"}], \"parcoords\": [{\"line\": {\"colorbar\": {\"outlinewidth\": 0, \"ticks\": \"\"}}, \"type\": \"parcoords\"}], \"pie\": [{\"automargin\": true, \"type\": \"pie\"}], \"scatter\": [{\"marker\": {\"colorbar\": {\"outlinewidth\": 0, \"ticks\": \"\"}}, \"type\": \"scatter\"}], \"scatter3d\": [{\"line\": {\"colorbar\": {\"outlinewidth\": 0, \"ticks\": \"\"}}, \"marker\": {\"colorbar\": {\"outlinewidth\": 0, \"ticks\": \"\"}}, \"type\": \"scatter3d\"}], \"scattercarpet\": [{\"marker\": {\"colorbar\": {\"outlinewidth\": 0, \"ticks\": \"\"}}, \"type\": \"scattercarpet\"}], \"scattergeo\": [{\"marker\": {\"colorbar\": {\"outlinewidth\": 0, \"ticks\": \"\"}}, \"type\": \"scattergeo\"}], \"scattergl\": [{\"marker\": {\"colorbar\": {\"outlinewidth\": 0, \"ticks\": \"\"}}, \"type\": \"scattergl\"}], \"scattermapbox\": [{\"marker\": {\"colorbar\": {\"outlinewidth\": 0, \"ticks\": \"\"}}, \"type\": \"scattermapbox\"}], \"scatterpolar\": [{\"marker\": {\"colorbar\": {\"outlinewidth\": 0, \"ticks\": \"\"}}, \"type\": \"scatterpolar\"}], \"scatterpolargl\": [{\"marker\": {\"colorbar\": {\"outlinewidth\": 0, \"ticks\": \"\"}}, \"type\": \"scatterpolargl\"}], \"scatterternary\": [{\"marker\": {\"colorbar\": {\"outlinewidth\": 0, \"ticks\": \"\"}}, \"type\": \"scatterternary\"}], \"surface\": [{\"colorbar\": {\"outlinewidth\": 0, \"ticks\": \"\"}, \"colorscale\": [[0.0, \"#0d0887\"], [0.1111111111111111, \"#46039f\"], [0.2222222222222222, \"#7201a8\"], [0.3333333333333333, \"#9c179e\"], [0.4444444444444444, \"#bd3786\"], [0.5555555555555556, \"#d8576b\"], [0.6666666666666666, \"#ed7953\"], [0.7777777777777778, \"#fb9f3a\"], [0.8888888888888888, \"#fdca26\"], [1.0, \"#f0f921\"]], \"type\": \"surface\"}], \"table\": [{\"cells\": {\"fill\": {\"color\": \"#EBF0F8\"}, \"line\": {\"color\": \"white\"}}, \"header\": {\"fill\": {\"color\": \"#C8D4E3\"}, \"line\": {\"color\": \"white\"}}, \"type\": \"table\"}]}, \"layout\": {\"annotationdefaults\": {\"arrowcolor\": \"#2a3f5f\", \"arrowhead\": 0, \"arrowwidth\": 1}, \"coloraxis\": {\"colorbar\": {\"outlinewidth\": 0, \"ticks\": \"\"}}, \"colorscale\": {\"diverging\": [[0, \"#8e0152\"], [0.1, \"#c51b7d\"], [0.2, \"#de77ae\"], [0.3, \"#f1b6da\"], [0.4, \"#fde0ef\"], [0.5, \"#f7f7f7\"], [0.6, \"#e6f5d0\"], [0.7, \"#b8e186\"], [0.8, \"#7fbc41\"], [0.9, \"#4d9221\"], [1, \"#276419\"]], \"sequential\": [[0.0, \"#0d0887\"], [0.1111111111111111, \"#46039f\"], [0.2222222222222222, \"#7201a8\"], [0.3333333333333333, \"#9c179e\"], [0.4444444444444444, \"#bd3786\"], [0.5555555555555556, \"#d8576b\"], [0.6666666666666666, \"#ed7953\"], [0.7777777777777778, \"#fb9f3a\"], [0.8888888888888888, \"#fdca26\"], [1.0, \"#f0f921\"]], \"sequentialminus\": [[0.0, \"#0d0887\"], [0.1111111111111111, \"#46039f\"], [0.2222222222222222, \"#7201a8\"], [0.3333333333333333, \"#9c179e\"], [0.4444444444444444, \"#bd3786\"], [0.5555555555555556, \"#d8576b\"], [0.6666666666666666, \"#ed7953\"], [0.7777777777777778, \"#fb9f3a\"], [0.8888888888888888, \"#fdca26\"], [1.0, \"#f0f921\"]]}, \"colorway\": [\"#636efa\", \"#EF553B\", \"#00cc96\", \"#ab63fa\", \"#FFA15A\", \"#19d3f3\", \"#FF6692\", \"#B6E880\", \"#FF97FF\", \"#FECB52\"], \"font\": {\"color\": \"#2a3f5f\"}, \"geo\": {\"bgcolor\": \"white\", \"lakecolor\": \"white\", \"landcolor\": \"#E5ECF6\", \"showlakes\": true, \"showland\": true, \"subunitcolor\": \"white\"}, \"hoverlabel\": {\"align\": \"left\"}, \"hovermode\": \"closest\", \"mapbox\": {\"style\": \"light\"}, \"paper_bgcolor\": \"white\", \"plot_bgcolor\": \"#E5ECF6\", \"polar\": {\"angularaxis\": {\"gridcolor\": \"white\", \"linecolor\": \"white\", \"ticks\": \"\"}, \"bgcolor\": \"#E5ECF6\", \"radialaxis\": {\"gridcolor\": \"white\", \"linecolor\": \"white\", \"ticks\": \"\"}}, \"scene\": {\"xaxis\": {\"backgroundcolor\": \"#E5ECF6\", \"gridcolor\": \"white\", \"gridwidth\": 2, \"linecolor\": \"white\", \"showbackground\": true, \"ticks\": \"\", \"zerolinecolor\": \"white\"}, \"yaxis\": {\"backgroundcolor\": \"#E5ECF6\", \"gridcolor\": \"white\", \"gridwidth\": 2, \"linecolor\": \"white\", \"showbackground\": true, \"ticks\": \"\", \"zerolinecolor\": \"white\"}, \"zaxis\": {\"backgroundcolor\": \"#E5ECF6\", \"gridcolor\": \"white\", \"gridwidth\": 2, \"linecolor\": \"white\", \"showbackground\": true, \"ticks\": \"\", \"zerolinecolor\": \"white\"}}, \"shapedefaults\": {\"line\": {\"color\": \"#2a3f5f\"}}, \"ternary\": {\"aaxis\": {\"gridcolor\": \"white\", \"linecolor\": \"white\", \"ticks\": \"\"}, \"baxis\": {\"gridcolor\": \"white\", \"linecolor\": \"white\", \"ticks\": \"\"}, \"bgcolor\": \"#E5ECF6\", \"caxis\": {\"gridcolor\": \"white\", \"linecolor\": \"white\", \"ticks\": \"\"}}, \"title\": {\"x\": 0.05}, \"xaxis\": {\"automargin\": true, \"gridcolor\": \"white\", \"linecolor\": \"white\", \"ticks\": \"\", \"title\": {\"standoff\": 15}, \"zerolinecolor\": \"white\", \"zerolinewidth\": 2}, \"yaxis\": {\"automargin\": true, \"gridcolor\": \"white\", \"linecolor\": \"white\", \"ticks\": \"\", \"title\": {\"standoff\": 15}, \"zerolinecolor\": \"white\", \"zerolinewidth\": 2}}}, \"title\": {\"text\": \"First 3 Principal Components\"}, \"xaxis\": {\"anchor\": \"y\", \"domain\": [0.0, 1.0], \"title\": {\"text\": \"PC 1\"}}, \"yaxis\": {\"anchor\": \"x\", \"domain\": [0.0, 1.0], \"title\": {\"text\": \"PC 2\"}}},\n",
              "                        {\"responsive\": true}\n",
              "                    ).then(function(){\n",
              "                            \n",
              "var gd = document.getElementById('ff9c5c75-f4ae-4e99-943d-b3ea08d4cb9a');\n",
              "var x = new MutationObserver(function (mutations, observer) {{\n",
              "        var display = window.getComputedStyle(gd).display;\n",
              "        if (!display || display === 'none') {{\n",
              "            console.log([gd, 'removed!']);\n",
              "            Plotly.purge(gd);\n",
              "            observer.disconnect();\n",
              "        }}\n",
              "}});\n",
              "\n",
              "// Listen for the removal of the full notebook cells\n",
              "var notebookContainer = gd.closest('#notebook-container');\n",
              "if (notebookContainer) {{\n",
              "    x.observe(notebookContainer, {childList: true});\n",
              "}}\n",
              "\n",
              "// Listen for the clearing of the current output cell\n",
              "var outputEl = gd.closest('.output');\n",
              "if (outputEl) {{\n",
              "    x.observe(outputEl, {childList: true});\n",
              "}}\n",
              "\n",
              "                        })\n",
              "                };\n",
              "                \n",
              "            </script>\n",
              "        </div>\n",
              "</body>\n",
              "</html>"
            ]
          },
          "metadata": {
            "tags": []
          }
        }
      ]
    },
    {
      "cell_type": "code",
      "metadata": {
        "id": "cYhMhn-EO3V0",
        "colab": {
          "base_uri": "https://localhost:8080/",
          "height": 282
        },
        "outputId": "4840cc6d-1501-4e36-b1ec-0ecbccf014ae"
      },
      "source": [
        "from sklearn.discriminant_analysis import LinearDiscriminantAnalysis, QuadraticDiscriminantAnalysis\n",
        "LDA = LinearDiscriminantAnalysis()\n",
        "LDA_components = LDA.fit_transform(X_train,y_train)\n",
        "\n",
        "plt.scatter(LDA_components[:,0],y_train, c=y_train)"
      ],
      "execution_count": null,
      "outputs": [
        {
          "output_type": "execute_result",
          "data": {
            "text/plain": [
              "<matplotlib.collections.PathCollection at 0x7f64753f4750>"
            ]
          },
          "metadata": {
            "tags": []
          },
          "execution_count": 37
        },
        {
          "output_type": "display_data",
          "data": {
            "image/png": "[encoded data removed]",
            "text/plain": [
              "<Figure size 432x288 with 1 Axes>"
            ]
          },
          "metadata": {
            "tags": [],
            "needs_background": "light"
          }
        }
      ]
    },
    {
      "cell_type": "code",
      "metadata": {
        "id": "T0BYKKN7TDce",
        "colab": {
          "base_uri": "https://localhost:8080/",
          "height": 35
        },
        "outputId": "ac025ec4-b589-4db8-dd29-5b734339f778"
      },
      "source": [
        "LDA.fit(X_train,y_train)\n",
        "\"LDA classification accuracy on test set is: {}\".format(LDA.score(X_test,y_test))\n"
      ],
      "execution_count": null,
      "outputs": [
        {
          "output_type": "execute_result",
          "data": {
            "application/vnd.google.colaboratory.intrinsic+json": {
              "type": "string"
            },
            "text/plain": [
              "'LDA classification accuracy on test set is: 0.7377049180327869'"
            ]
          },
          "metadata": {
            "tags": []
          },
          "execution_count": 38
        }
      ]
    },
    {
      "cell_type": "code",
      "metadata": {
        "colab": {
          "base_uri": "https://localhost:8080/"
        },
        "id": "IBTgdnQtFfQJ",
        "outputId": "1ac2c134-ae2f-488b-a619-0d2e4b969bf4"
      },
      "source": [
        "LDA.fit(X_train,y_train)"
      ],
      "execution_count": null,
      "outputs": [
        {
          "output_type": "execute_result",
          "data": {
            "text/plain": [
              "LinearDiscriminantAnalysis(n_components=None, priors=None, shrinkage=None,\n",
              "                           solver='svd', store_covariance=False, tol=0.0001)"
            ]
          },
          "metadata": {
            "tags": []
          },
          "execution_count": 39
        }
      ]
    },
    {
      "cell_type": "code",
      "metadata": {
        "id": "clPRbXoYXLb-",
        "colab": {
          "base_uri": "https://localhost:8080/",
          "height": 542
        },
        "outputId": "ad35a5eb-599b-408b-abf2-2bb51104aded"
      },
      "source": [
        "from sklearn.manifold import TSNE\n",
        "tsne = TSNE(n_components=2,perplexity=20,early_exaggeration = 10.0, init='random',method='exact')\n",
        "X_tsne = tsne.fit_transform(X_train)\n",
        "\n",
        "fig = px.scatter(\n",
        "    X_tsne, x=0, y=1, color=y_train,\n",
        "    title=\"First 3 Principal Components\",\n",
        "    labels={'0': 'PC 1', '1': 'PC 2'}\n",
        ")\n",
        "fig.show()"
      ],
      "execution_count": null,
      "outputs": [
        {
          "output_type": "display_data",
          "data": {
            "text/html": [
              "<html>\n",
              "<head><meta charset=\"utf-8\" /></head>\n",
              "<body>\n",
              "    <div>\n",
              "            <script src=\"https://cdnjs.cloudflare.com/ajax/libs/mathjax/2.7.5/MathJax.js?config=TeX-AMS-MML_SVG\"></script><script type=\"text/javascript\">if (window.MathJax) {MathJax.Hub.Config({SVG: {font: \"STIX-Web\"}});}</script>\n",
              "                <script type=\"text/javascript\">window.PlotlyConfig = {MathJaxConfig: 'local'};</script>\n",
              "        <script src=\"https://cdn.plot.ly/plotly-latest.min.js\"></script>    \n",
              "            <div id=\"6bb1ebc3-ebcd-48b1-ad49-57aa4e8209ee\" class=\"plotly-graph-div\" style=\"height:525px; width:100%;\"></div>\n",
              "            <script type=\"text/javascript\">\n",
              "                \n",
              "                    window.PLOTLYENV=window.PLOTLYENV || {};\n",
              "                    \n",
              "                if (document.getElementById(\"6bb1ebc3-ebcd-48b1-ad49-57aa4e8209ee\")) {\n",
              "                    Plotly.newPlot(\n",
              "                        '6bb1ebc3-ebcd-48b1-ad49-57aa4e8209ee',\n",
              "                        [{\"hoverlabel\": {\"namelength\": 0}, \"hovertemplate\": \"PC 1=%{x}<br>PC 2=%{y}<br>color=%{marker.color}\", \"legendgroup\": \"\", \"marker\": {\"color\": [0.0, 0.0, 0.0, 1.0, 1.0, 0.0, 1.0, 0.0, 1.0, 0.0, 1.0, 1.0, 0.0, 0.0, 0.0, 0.0, 0.0, 0.0, 0.0, 0.0, 0.0, 0.0, 0.0, 0.0, 1.0, 0.0, 1.0, 1.0, 0.0, 0.0, 0.0, 0.0, 1.0, 0.0, 0.0, 0.0, 0.0, 1.0, 0.0, 1.0, 0.0, 0.0, 0.0, 0.0, 1.0, 1.0, 1.0, 1.0, 0.0, 0.0, 1.0, 0.0, 1.0, 1.0, 1.0, 0.0, 0.0, 0.0, 0.0, 0.0, 0.0, 0.0, 1.0, 0.0, 1.0, 1.0, 1.0, 1.0, 0.0, 1.0, 1.0, 0.0, 0.0, 0.0, 0.0, 1.0, 0.0, 0.0, 0.0, 1.0, 0.0, 0.0, 1.0, 0.0, 0.0, 0.0, 1.0, 0.0, 0.0, 0.0, 0.0, 1.0, 1.0, 0.0, 1.0, 1.0, 0.0, 1.0, 1.0, 1.0, 1.0, 0.0, 0.0, 1.0, 0.0, 0.0, 1.0, 1.0, 0.0, 0.0, 0.0, 0.0, 0.0, 1.0, 1.0, 1.0, 0.0, 0.0, 1.0, 1.0, 1.0, 0.0, 0.0, 0.0, 1.0, 0.0, 1.0, 0.0, 0.0, 1.0, 1.0, 0.0, 0.0, 0.0, 0.0, 0.0, 0.0, 0.0, 0.0, 1.0, 0.0, 1.0, 1.0, 1.0, 0.0, 1.0, 0.0, 0.0, 0.0, 1.0, 0.0, 0.0, 0.0, 1.0, 0.0, 0.0, 0.0, 0.0, 0.0, 0.0, 1.0, 1.0, 1.0, 0.0, 0.0, 0.0, 1.0, 1.0, 0.0, 0.0, 1.0, 1.0, 1.0, 1.0, 1.0, 0.0, 0.0, 1.0, 0.0, 1.0, 1.0, 1.0, 0.0, 1.0, 1.0, 0.0, 1.0, 1.0, 0.0, 1.0, 1.0, 1.0, 1.0, 0.0, 1.0, 1.0, 1.0, 0.0, 0.0, 0.0, 1.0, 1.0, 1.0, 0.0, 0.0, 1.0, 1.0, 0.0, 1.0, 1.0, 1.0, 0.0, 0.0, 0.0, 1.0, 1.0, 0.0, 0.0, 0.0, 0.0, 1.0, 1.0, 0.0, 1.0, 0.0, 1.0, 1.0, 1.0, 1.0, 1.0, 1.0, 0.0, 1.0, 0.0, 0.0, 1.0, 1.0, 1.0, 1.0, 1.0, 0.0, 0.0, 0.0, 0.0, 1.0, 0.0, 1.0, 0.0, 0.0, 0.0, 0.0, 1.0, 0.0, 1.0, 1.0, 1.0, 0.0, 1.0, 1.0, 1.0, 1.0, 1.0, 0.0, 0.0, 0.0, 1.0, 0.0, 1.0, 1.0, 1.0, 0.0, 0.0, 0.0, 1.0, 0.0, 1.0, 0.0, 0.0, 1.0, 0.0, 1.0, 0.0, 1.0, 0.0], \"coloraxis\": \"coloraxis\", \"symbol\": \"circle\"}, \"mode\": \"markers\", \"name\": \"\", \"showlegend\": false, \"type\": \"scatter\", \"x\": [1.8402483463287354, -1.5216020345687866, 5.574769973754883, -12.678079605102539, -4.117738723754883, -1.6719319820404053, 2.311431407928467, 5.96589469909668, -3.877833127975464, 4.31552267074585, 3.9646129608154297, 3.1548173427581787, 14.840429306030273, 5.165310859680176, 11.296513557434082, 8.896862983703613, 16.867856979370117, 6.342255115509033, -6.486587047576904, 6.394609451293945, -9.121552467346191, 2.6972410678863525, 11.27089786529541, -10.32311725616455, 6.067698001861572, 3.462928533554077, -2.1799564361572266, 4.01107931137085, 12.319034576416016, 11.994258880615234, -16.525976181030273, -1.6694366931915283, -6.516589164733887, -15.103862762451172, 5.107532024383545, 10.722942352294922, -12.545266151428223, 8.50010871887207, 5.633431434631348, -11.574728965759277, 9.66423225402832, -4.5983405113220215, -9.534516334533691, 10.813255310058594, -12.293484687805176, -17.7861328125, 4.545660018920898, 17.59419822692871, 6.181726932525635, 7.144800662994385, 3.0912926197052, -4.340673923492432, -9.27214241027832, 10.287304878234863, 12.051031112670898, 7.1211137771606445, -7.379171371459961, -1.5335628986358643, -5.577751159667969, -4.578831672668457, 8.106247901916504, -4.21842098236084, 7.232815742492676, 10.774886131286621, 8.241296768188477, -12.106388092041016, -14.369836807250977, -8.933815956115723, 3.5744364261627197, -9.877963066101074, -12.817078590393066, 8.201480865478516, 14.14012622833252, 8.072906494140625, 7.046540260314941, -9.462684631347656, -7.573983192443848, 4.3960723876953125, 5.742457389831543, -8.440847396850586, 10.420877456665039, 3.209843635559082, -6.546302795410156, -8.037942886352539, 13.475650787353516, -1.0681750774383545, -2.1732826232910156, 2.72985577583313, 7.549325942993164, 5.945194244384766, 4.6560750007629395, -9.240168571472168, -2.4868314266204834, 2.0800788402557373, -0.24303336441516876, 8.444226264953613, 2.3644614219665527, 5.087880611419678, 5.27028751373291, 0.41493773460388184, -6.010106086730957, 1.390034556388855, 0.2865784764289856, 0.22688482701778412, 8.463981628417969, 8.479351043701172, -6.328161716461182, 4.313846588134766, 4.7037224769592285, -3.3290419578552246, 2.594964027404785, -16.38955307006836, -5.303856372833252, -2.1019701957702637, -10.873255729675293, 5.201759338378906, -5.363979816436768, -15.481473922729492, -2.08925199508667, -3.3649675846099854, 0.05811908096075058, -3.3354196548461914, 5.764030456542969, -18.520069122314453, -10.50650691986084, 6.751633644104004, 3.740854024887085, 5.561746120452881, 6.480452537536621, 2.8949923515319824, 3.7233493328094482, -4.142773151397705, 13.16160774230957, 2.5488269329071045, 2.75193452835083, -12.448081970214844, 6.0415215492248535, -1.7638022899627686, 1.775048017501831, 17.84844398498535, 2.441978931427002, -11.316431999206543, 0.447081983089447, -8.176558494567871, -14.145902633666992, 4.699997901916504, -6.217845439910889, 7.447340488433838, 6.277377128601074, -8.05333423614502, -9.76276683807373, -3.0642707347869873, -3.9505741596221924, -1.3582438230514526, 7.7017412185668945, -15.654603958129883, -15.528928756713867, -13.404996871948242, 7.391644477844238, -1.1089814901351929, 0.3588353395462036, -3.1582796573638916, -2.239983558654785, 0.7653177380561829, 8.213903427124023, 5.808190822601318, -3.434495210647583, -4.265570163726807, 14.028446197509766, -9.586874961853027, -11.294578552246094, -2.527435779571533, -2.7964532375335693, -11.017313003540039, -6.6675262451171875, 11.195027351379395, 4.146684169769287, -1.1636590957641602, 9.348551750183105, -15.108942031860352, 4.479587554931641, -0.5716446042060852, 6.941402435302734, 11.061280250549316, 14.760187149047852, -0.3400888741016388, 7.079907417297363, -6.473349094390869, 0.22083131968975067, 1.4607880115509033, 6.617406845092773, 17.774839401245117, 0.8768283724784851, -1.842442274093628, 1.384401559829712, -6.011791229248047, -9.51453971862793, 9.695419311523438, 8.921417236328125, 2.4647629261016846, 12.096613883972168, -3.706819534301758, 0.6682314872741699, 9.004447937011719, -5.199814319610596, -6.791722297668457, 8.215516090393066, 1.212149977684021, -14.092835426330566, -6.968020439147949, -13.543625831604004, 8.355598449707031, 10.434714317321777, 13.86700439453125, -9.495146751403809, 2.0770339965820312, 3.996349334716797, 6.401123046875, -8.162493705749512, -10.067669868469238, 1.1030961275100708, 0.48826754093170166, -17.3326473236084, -1.7563514709472656, -3.4422011375427246, 2.5313963890075684, -1.7578403949737549, 0.5159943103790283, -3.8682901859283447, 5.251789569854736, 5.894471168518066, 4.6737446784973145, -7.835010528564453, 9.838419914245605, -0.9737574458122253, -7.085864543914795, -0.31842175126075745, -3.3637008666992188, -5.615434646606445, -0.9867342114448547, -4.942198276519775, 3.8472561836242676, 9.845831871032715, -4.38646936416626, 14.225537300109863, 12.873940467834473, -3.690023899078369, 8.794637680053711, 7.942661285400391, -2.6384670734405518, -18.363866806030273, 5.040501594543457, -1.6711180210113525, 2.355928421020508, -2.0497348308563232, -1.6135163307189941, -4.339972972869873, -4.5169219970703125, 0.4441555142402649, 4.5701141357421875, 11.254720687866211, 4.968053817749023, 2.9989817142486572, 0.8734391331672668, -1.2609333992004395, -14.491241455078125, 3.0821731090545654, -9.135269165039062, -6.472142696380615, 1.8098061084747314, -5.866010665893555, -0.28325942158699036, -5.256518363952637, 14.531630516052246, -9.397634506225586, 8.409491539001465, 6.896595478057861, 12.526322364807129, -5.068695545196533, 10.1452054977417, 6.855537414550781, 14.258536338806152, 0.011122625321149826, 13.929946899414062], \"xaxis\": \"x\", \"y\": [5.710721969604492, 8.559717178344727, -7.262425899505615, -7.562234401702881, 0.7648311257362366, 15.468158721923828, 1.4564950466156006, -9.108766555786133, -6.541365146636963, -7.621403694152832, 3.1953067779541016, 4.257247447967529, 5.966590404510498, -14.332734107971191, 3.37626576423645, 13.022427558898926, 8.633735656738281, -11.2853422164917, 8.212274551391602, 10.999391555786133, 6.304746150970459, 6.829534530639648, 11.510211944580078, 1.9508637189865112, 12.485965728759766, -11.857258796691895, 10.148591041564941, 0.6798457503318787, 1.5650224685668945, 15.312333106994629, 8.671761512756348, 12.011591911315918, 2.815491199493408, 5.465176105499268, -13.285345077514648, 6.803615570068359, 5.190276145935059, 18.471086502075195, 8.518147468566895, 12.97985553741455, -10.134025573730469, -10.127264976501465, -4.144194602966309, 10.378206253051758, -0.3153358995914459, -0.05104198679327965, 4.2224626541137695, 3.76745343208313, 8.990748405456543, 6.261086940765381, 15.580667495727539, 11.29793930053711, 1.6066690683364868, 3.624730110168457, -16.002840042114258, -9.68558120727539, -0.030196525156497955, 7.548001766204834, 13.385228157043457, 2.258605718612671, 1.036025047302246, -2.9155116081237793, 1.818366527557373, -4.514901638031006, 5.973927974700928, -6.923275947570801, -3.43589448928833, -1.811650037765503, 11.9054536819458, 0.7532291412353516, -3.071746826171875, -10.527312278747559, -6.616028785705566, -1.9435871839523315, 5.555201530456543, -2.180964469909668, 14.627182960510254, -0.7409441471099854, 1.8379374742507935, 10.922883987426758, -0.5901444554328918, 7.839477062225342, -9.01598834991455, 6.199118137359619, 9.17223072052002, -7.287169933319092, 15.973151206970215, 2.0983200073242188, -14.696988105773926, -4.703300952911377, 5.746927261352539, -6.291458606719971, -12.916950225830078, 7.358825206756592, -2.9720263481140137, 7.835992813110352, -11.815649032592773, -15.883010864257812, -2.257168769836426, 0.3261334300041199, 4.807105541229248, -8.645526885986328, 7.241201400756836, 20.434207916259766, -4.451582431793213, -11.051346778869629, -8.319198608398438, -2.307154655456543, 10.405416488647461, -2.536233901977539, -6.598605632781982, 8.676125526428223, -2.0851972103118896, -10.216856002807617, -10.912137985229492, -7.2171525955200195, -5.0891852378845215, -3.8527746200561523, -0.64387446641922, -18.52864646911621, -10.458986282348633, -13.684003829956055, -9.702244758605957, 8.818981170654297, -12.755096435546875, -13.045443534851074, 14.76904582977295, 5.243765354156494, -0.6382923722267151, -5.697922706604004, -5.034142971038818, 8.858619689941406, -9.74695873260498, -15.16502857208252, -3.3910489082336426, -6.0635175704956055, -4.081004619598389, -0.5296129584312439, 11.04187297821045, -0.000776633620262146, 8.452573776245117, 12.98019027709961, 18.833091735839844, -3.685016393661499, 6.254632472991943, -12.056386947631836, -13.487841606140137, -13.747546195983887, 7.608007907867432, -4.153304100036621, -12.070265769958496, -19.616212844848633, -5.962166786193848, 2.153355121612549, -6.924961566925049, 5.200465679168701, 9.2475004196167, 1.7226495742797852, -1.539730429649353, 9.9906587600708, 19.584495544433594, 2.133378505706787, -4.380263805389404, 7.189568996429443, 16.910078048706055, 19.670026779174805, -18.638166427612305, -17.87386131286621, -5.462774753570557, 8.740453720092773, -7.397565841674805, 3.088038444519043, -4.126930236816406, -10.903064727783203, -6.238152027130127, -13.394979476928711, 7.057833671569824, 5.250150680541992, 7.646082401275635, -11.233153343200684, 2.093292474746704, 1.6757450103759766, 0.602497398853302, 7.579046726226807, 1.895060658454895, 10.385899543762207, 2.7520523071289062, 12.639718055725098, 5.23723030090332, 0.5570154786109924, 1.4699736833572388, -4.216484546661377, 3.443301200866699, 7.354084491729736, 12.825896263122559, 9.378497123718262, -6.227080821990967, -7.905701637268066, 2.414842128753662, -9.2566556930542, 5.939413070678711, -0.03958877921104431, -13.937623023986816, -0.7499760389328003, 7.053032398223877, -10.92757511138916, 10.25396728515625, 9.075957298278809, 0.24913731217384338, -16.780183792114258, 0.7395262122154236, 16.48455238342285, 0.7618834376335144, -1.1951653957366943, -8.353282928466797, 7.841993808746338, 15.880636215209961, 19.757539749145508, -7.414625644683838, 7.8530097007751465, -4.875998020172119, 18.595937728881836, 8.236041069030762, -15.104330062866211, 6.99440860748291, -14.512070655822754, 1.0801804065704346, -0.5055577754974365, -7.216230392456055, 3.572422504425049, 0.5949458479881287, -9.042134284973145, 1.4458866119384766, -1.7668243646621704, -4.551708698272705, -9.841553688049316, -1.9751198291778564, -11.951475143432617, 4.343672752380371, -9.67003059387207, 13.99522876739502, 8.7073974609375, 5.0107808113098145, -20.21749496459961, 4.393316745758057, -16.949487686157227, 4.293356418609619, 18.80760383605957, -4.2194695472717285, -12.837479591369629, 8.508408546447754, 3.5709307193756104, 12.611998558044434, 4.030975818634033, 4.937360763549805, 3.277376413345337, 10.784689903259277, -19.68025016784668, 3.3345947265625, 0.6261792778968811, -14.35595417022705, -15.080024719238281, 9.83955192565918, -17.647157669067383, -7.202583312988281, -11.649760246276855, -0.14902855455875397, 1.0615209341049194, -0.7035112380981445, -1.697579264640808, -2.7311718463897705, -12.152119636535645, 8.567431449890137, 12.650588989257812, 3.552164316177368, 3.908907413482666, -8.388763427734375, -16.55259132385254, 0.5724237561225891, -0.35979992151260376, 3.946197986602783, -1.2948671579360962, -1.4289658069610596, -5.316254138946533], \"yaxis\": \"y\"}],\n",
              "                        {\"coloraxis\": {\"colorbar\": {\"title\": {\"text\": \"color\"}}, \"colorscale\": [[0.0, \"#0d0887\"], [0.1111111111111111, \"#46039f\"], [0.2222222222222222, \"#7201a8\"], [0.3333333333333333, \"#9c179e\"], [0.4444444444444444, \"#bd3786\"], [0.5555555555555556, \"#d8576b\"], [0.6666666666666666, \"#ed7953\"], [0.7777777777777778, \"#fb9f3a\"], [0.8888888888888888, \"#fdca26\"], [1.0, \"#f0f921\"]]}, \"legend\": {\"tracegroupgap\": 0}, \"template\": {\"data\": {\"bar\": [{\"error_x\": {\"color\": \"#2a3f5f\"}, \"error_y\": {\"color\": \"#2a3f5f\"}, \"marker\": {\"line\": {\"color\": \"#E5ECF6\", \"width\": 0.5}}, \"type\": \"bar\"}], \"barpolar\": [{\"marker\": {\"line\": {\"color\": \"#E5ECF6\", \"width\": 0.5}}, \"type\": \"barpolar\"}], \"carpet\": [{\"aaxis\": {\"endlinecolor\": \"#2a3f5f\", \"gridcolor\": \"white\", \"linecolor\": \"white\", \"minorgridcolor\": \"white\", \"startlinecolor\": \"#2a3f5f\"}, \"baxis\": {\"endlinecolor\": \"#2a3f5f\", \"gridcolor\": \"white\", \"linecolor\": \"white\", \"minorgridcolor\": \"white\", \"startlinecolor\": \"#2a3f5f\"}, \"type\": \"carpet\"}], \"choropleth\": [{\"colorbar\": {\"outlinewidth\": 0, \"ticks\": \"\"}, \"type\": \"choropleth\"}], \"contour\": [{\"colorbar\": {\"outlinewidth\": 0, \"ticks\": \"\"}, \"colorscale\": [[0.0, \"#0d0887\"], [0.1111111111111111, \"#46039f\"], [0.2222222222222222, \"#7201a8\"], [0.3333333333333333, \"#9c179e\"], [0.4444444444444444, \"#bd3786\"], [0.5555555555555556, \"#d8576b\"], [0.6666666666666666, \"#ed7953\"], [0.7777777777777778, \"#fb9f3a\"], [0.8888888888888888, \"#fdca26\"], [1.0, \"#f0f921\"]], \"type\": \"contour\"}], \"contourcarpet\": [{\"colorbar\": {\"outlinewidth\": 0, \"ticks\": \"\"}, \"type\": \"contourcarpet\"}], \"heatmap\": [{\"colorbar\": {\"outlinewidth\": 0, \"ticks\": \"\"}, \"colorscale\": [[0.0, \"#0d0887\"], [0.1111111111111111, \"#46039f\"], [0.2222222222222222, \"#7201a8\"], [0.3333333333333333, \"#9c179e\"], [0.4444444444444444, \"#bd3786\"], [0.5555555555555556, \"#d8576b\"], [0.6666666666666666, \"#ed7953\"], [0.7777777777777778, \"#fb9f3a\"], [0.8888888888888888, \"#fdca26\"], [1.0, \"#f0f921\"]], \"type\": \"heatmap\"}], \"heatmapgl\": [{\"colorbar\": {\"outlinewidth\": 0, \"ticks\": \"\"}, \"colorscale\": [[0.0, \"#0d0887\"], [0.1111111111111111, \"#46039f\"], [0.2222222222222222, \"#7201a8\"], [0.3333333333333333, \"#9c179e\"], [0.4444444444444444, \"#bd3786\"], [0.5555555555555556, \"#d8576b\"], [0.6666666666666666, \"#ed7953\"], [0.7777777777777778, \"#fb9f3a\"], [0.8888888888888888, \"#fdca26\"], [1.0, \"#f0f921\"]], \"type\": \"heatmapgl\"}], \"histogram\": [{\"marker\": {\"colorbar\": {\"outlinewidth\": 0, \"ticks\": \"\"}}, \"type\": \"histogram\"}], \"histogram2d\": [{\"colorbar\": {\"outlinewidth\": 0, \"ticks\": \"\"}, \"colorscale\": [[0.0, \"#0d0887\"], [0.1111111111111111, \"#46039f\"], [0.2222222222222222, \"#7201a8\"], [0.3333333333333333, \"#9c179e\"], [0.4444444444444444, \"#bd3786\"], [0.5555555555555556, \"#d8576b\"], [0.6666666666666666, \"#ed7953\"], [0.7777777777777778, \"#fb9f3a\"], [0.8888888888888888, \"#fdca26\"], [1.0, \"#f0f921\"]], \"type\": \"histogram2d\"}], \"histogram2dcontour\": [{\"colorbar\": {\"outlinewidth\": 0, \"ticks\": \"\"}, \"colorscale\": [[0.0, \"#0d0887\"], [0.1111111111111111, \"#46039f\"], [0.2222222222222222, \"#7201a8\"], [0.3333333333333333, \"#9c179e\"], [0.4444444444444444, \"#bd3786\"], [0.5555555555555556, \"#d8576b\"], [0.6666666666666666, \"#ed7953\"], [0.7777777777777778, \"#fb9f3a\"], [0.8888888888888888, \"#fdca26\"], [1.0, \"#f0f921\"]], \"type\": \"histogram2dcontour\"}], \"mesh3d\": [{\"colorbar\": {\"outlinewidth\": 0, \"ticks\": \"\"}, \"type\": \"mesh3d\"}], \"parcoords\": [{\"line\": {\"colorbar\": {\"outlinewidth\": 0, \"ticks\": \"\"}}, \"type\": \"parcoords\"}], \"pie\": [{\"automargin\": true, \"type\": \"pie\"}], \"scatter\": [{\"marker\": {\"colorbar\": {\"outlinewidth\": 0, \"ticks\": \"\"}}, \"type\": \"scatter\"}], \"scatter3d\": [{\"line\": {\"colorbar\": {\"outlinewidth\": 0, \"ticks\": \"\"}}, \"marker\": {\"colorbar\": {\"outlinewidth\": 0, \"ticks\": \"\"}}, \"type\": \"scatter3d\"}], \"scattercarpet\": [{\"marker\": {\"colorbar\": {\"outlinewidth\": 0, \"ticks\": \"\"}}, \"type\": \"scattercarpet\"}], \"scattergeo\": [{\"marker\": {\"colorbar\": {\"outlinewidth\": 0, \"ticks\": \"\"}}, \"type\": \"scattergeo\"}], \"scattergl\": [{\"marker\": {\"colorbar\": {\"outlinewidth\": 0, \"ticks\": \"\"}}, \"type\": \"scattergl\"}], \"scattermapbox\": [{\"marker\": {\"colorbar\": {\"outlinewidth\": 0, \"ticks\": \"\"}}, \"type\": \"scattermapbox\"}], \"scatterpolar\": [{\"marker\": {\"colorbar\": {\"outlinewidth\": 0, \"ticks\": \"\"}}, \"type\": \"scatterpolar\"}], \"scatterpolargl\": [{\"marker\": {\"colorbar\": {\"outlinewidth\": 0, \"ticks\": \"\"}}, \"type\": \"scatterpolargl\"}], \"scatterternary\": [{\"marker\": {\"colorbar\": {\"outlinewidth\": 0, \"ticks\": \"\"}}, \"type\": \"scatterternary\"}], \"surface\": [{\"colorbar\": {\"outlinewidth\": 0, \"ticks\": \"\"}, \"colorscale\": [[0.0, \"#0d0887\"], [0.1111111111111111, \"#46039f\"], [0.2222222222222222, \"#7201a8\"], [0.3333333333333333, \"#9c179e\"], [0.4444444444444444, \"#bd3786\"], [0.5555555555555556, \"#d8576b\"], [0.6666666666666666, \"#ed7953\"], [0.7777777777777778, \"#fb9f3a\"], [0.8888888888888888, \"#fdca26\"], [1.0, \"#f0f921\"]], \"type\": \"surface\"}], \"table\": [{\"cells\": {\"fill\": {\"color\": \"#EBF0F8\"}, \"line\": {\"color\": \"white\"}}, \"header\": {\"fill\": {\"color\": \"#C8D4E3\"}, \"line\": {\"color\": \"white\"}}, \"type\": \"table\"}]}, \"layout\": {\"annotationdefaults\": {\"arrowcolor\": \"#2a3f5f\", \"arrowhead\": 0, \"arrowwidth\": 1}, \"coloraxis\": {\"colorbar\": {\"outlinewidth\": 0, \"ticks\": \"\"}}, \"colorscale\": {\"diverging\": [[0, \"#8e0152\"], [0.1, \"#c51b7d\"], [0.2, \"#de77ae\"], [0.3, \"#f1b6da\"], [0.4, \"#fde0ef\"], [0.5, \"#f7f7f7\"], [0.6, \"#e6f5d0\"], [0.7, \"#b8e186\"], [0.8, \"#7fbc41\"], [0.9, \"#4d9221\"], [1, \"#276419\"]], \"sequential\": [[0.0, \"#0d0887\"], [0.1111111111111111, \"#46039f\"], [0.2222222222222222, \"#7201a8\"], [0.3333333333333333, \"#9c179e\"], [0.4444444444444444, \"#bd3786\"], [0.5555555555555556, \"#d8576b\"], [0.6666666666666666, \"#ed7953\"], [0.7777777777777778, \"#fb9f3a\"], [0.8888888888888888, \"#fdca26\"], [1.0, \"#f0f921\"]], \"sequentialminus\": [[0.0, \"#0d0887\"], [0.1111111111111111, \"#46039f\"], [0.2222222222222222, \"#7201a8\"], [0.3333333333333333, \"#9c179e\"], [0.4444444444444444, \"#bd3786\"], [0.5555555555555556, \"#d8576b\"], [0.6666666666666666, \"#ed7953\"], [0.7777777777777778, \"#fb9f3a\"], [0.8888888888888888, \"#fdca26\"], [1.0, \"#f0f921\"]]}, \"colorway\": [\"#636efa\", \"#EF553B\", \"#00cc96\", \"#ab63fa\", \"#FFA15A\", \"#19d3f3\", \"#FF6692\", \"#B6E880\", \"#FF97FF\", \"#FECB52\"], \"font\": {\"color\": \"#2a3f5f\"}, \"geo\": {\"bgcolor\": \"white\", \"lakecolor\": \"white\", \"landcolor\": \"#E5ECF6\", \"showlakes\": true, \"showland\": true, \"subunitcolor\": \"white\"}, \"hoverlabel\": {\"align\": \"left\"}, \"hovermode\": \"closest\", \"mapbox\": {\"style\": \"light\"}, \"paper_bgcolor\": \"white\", \"plot_bgcolor\": \"#E5ECF6\", \"polar\": {\"angularaxis\": {\"gridcolor\": \"white\", \"linecolor\": \"white\", \"ticks\": \"\"}, \"bgcolor\": \"#E5ECF6\", \"radialaxis\": {\"gridcolor\": \"white\", \"linecolor\": \"white\", \"ticks\": \"\"}}, \"scene\": {\"xaxis\": {\"backgroundcolor\": \"#E5ECF6\", \"gridcolor\": \"white\", \"gridwidth\": 2, \"linecolor\": \"white\", \"showbackground\": true, \"ticks\": \"\", \"zerolinecolor\": \"white\"}, \"yaxis\": {\"backgroundcolor\": \"#E5ECF6\", \"gridcolor\": \"white\", \"gridwidth\": 2, \"linecolor\": \"white\", \"showbackground\": true, \"ticks\": \"\", \"zerolinecolor\": \"white\"}, \"zaxis\": {\"backgroundcolor\": \"#E5ECF6\", \"gridcolor\": \"white\", \"gridwidth\": 2, \"linecolor\": \"white\", \"showbackground\": true, \"ticks\": \"\", \"zerolinecolor\": \"white\"}}, \"shapedefaults\": {\"line\": {\"color\": \"#2a3f5f\"}}, \"ternary\": {\"aaxis\": {\"gridcolor\": \"white\", \"linecolor\": \"white\", \"ticks\": \"\"}, \"baxis\": {\"gridcolor\": \"white\", \"linecolor\": \"white\", \"ticks\": \"\"}, \"bgcolor\": \"#E5ECF6\", \"caxis\": {\"gridcolor\": \"white\", \"linecolor\": \"white\", \"ticks\": \"\"}}, \"title\": {\"x\": 0.05}, \"xaxis\": {\"automargin\": true, \"gridcolor\": \"white\", \"linecolor\": \"white\", \"ticks\": \"\", \"title\": {\"standoff\": 15}, \"zerolinecolor\": \"white\", \"zerolinewidth\": 2}, \"yaxis\": {\"automargin\": true, \"gridcolor\": \"white\", \"linecolor\": \"white\", \"ticks\": \"\", \"title\": {\"standoff\": 15}, \"zerolinecolor\": \"white\", \"zerolinewidth\": 2}}}, \"title\": {\"text\": \"First 3 Principal Components\"}, \"xaxis\": {\"anchor\": \"y\", \"domain\": [0.0, 1.0], \"title\": {\"text\": \"PC 1\"}}, \"yaxis\": {\"anchor\": \"x\", \"domain\": [0.0, 1.0], \"title\": {\"text\": \"PC 2\"}}},\n",
              "                        {\"responsive\": true}\n",
              "                    ).then(function(){\n",
              "                            \n",
              "var gd = document.getElementById('6bb1ebc3-ebcd-48b1-ad49-57aa4e8209ee');\n",
              "var x = new MutationObserver(function (mutations, observer) {{\n",
              "        var display = window.getComputedStyle(gd).display;\n",
              "        if (!display || display === 'none') {{\n",
              "            console.log([gd, 'removed!']);\n",
              "            Plotly.purge(gd);\n",
              "            observer.disconnect();\n",
              "        }}\n",
              "}});\n",
              "\n",
              "// Listen for the removal of the full notebook cells\n",
              "var notebookContainer = gd.closest('#notebook-container');\n",
              "if (notebookContainer) {{\n",
              "    x.observe(notebookContainer, {childList: true});\n",
              "}}\n",
              "\n",
              "// Listen for the clearing of the current output cell\n",
              "var outputEl = gd.closest('.output');\n",
              "if (outputEl) {{\n",
              "    x.observe(outputEl, {childList: true});\n",
              "}}\n",
              "\n",
              "                        })\n",
              "                };\n",
              "                \n",
              "            </script>\n",
              "        </div>\n",
              "</body>\n",
              "</html>"
            ]
          },
          "metadata": {
            "tags": []
          }
        }
      ]
    },
    {
      "cell_type": "markdown",
      "metadata": {
        "id": "PteSDvp7hWy_"
      },
      "source": [
        "### Common Classification Methods"
      ]
    },
    {
      "cell_type": "code",
      "metadata": {
        "colab": {
          "base_uri": "https://localhost:8080/",
          "height": 558
        },
        "id": "p9_HCRJl9Xxd",
        "outputId": "8ce25c60-030c-4b68-9828-5eac6a78fd1e"
      },
      "source": [
        "import plotly.express as px\n",
        "from sklearn.decomposition import PCA, KernelPCA\n",
        "pca = PCA()\n",
        "pca.fit(X)\n",
        "\n",
        "print(np.cumsum(pca.explained_variance_ratio_)[1])\n",
        "components = pca.fit_transform(X)\n",
        "\n",
        "fig = px.scatter(\n",
        "    components, x=0, y=1, color=y,\n",
        "    title=\"First 2 Principal Components of CRC data\",\n",
        "    labels={'0': 'PC 1', '1': 'PC 2'}\n",
        ")\n",
        "fig.show()"
      ],
      "execution_count": null,
      "outputs": [
        {
          "output_type": "stream",
          "text": [
            "0.15931099307103191\n"
          ],
          "name": "stdout"
        },
        {
          "output_type": "display_data",
          "data": {
            "text/html": [
              "<html>\n",
              "<head><meta charset=\"utf-8\" /></head>\n",
              "<body>\n",
              "    <div>\n",
              "            <script src=\"https://cdnjs.cloudflare.com/ajax/libs/mathjax/2.7.5/MathJax.js?config=TeX-AMS-MML_SVG\"></script><script type=\"text/javascript\">if (window.MathJax) {MathJax.Hub.Config({SVG: {font: \"STIX-Web\"}});}</script>\n",
              "                <script type=\"text/javascript\">window.PlotlyConfig = {MathJaxConfig: 'local'};</script>\n",
              "        <script src=\"https://cdn.plot.ly/plotly-latest.min.js\"></script>    \n",
              "            <div id=\"06a8e012-471f-4639-bcf5-92256f3477e9\" class=\"plotly-graph-div\" style=\"height:525px; width:100%;\"></div>\n",
              "            <script type=\"text/javascript\">\n",
              "                \n",
              "                    window.PLOTLYENV=window.PLOTLYENV || {};\n",
              "                    \n",
              "                if (document.getElementById(\"06a8e012-471f-4639-bcf5-92256f3477e9\")) {\n",
              "                    Plotly.newPlot(\n",
              "                        '06a8e012-471f-4639-bcf5-92256f3477e9',\n",
              "                        [{\"hoverlabel\": {\"namelength\": 0}, \"hovertemplate\": \"PC 1=%{x}<br>PC 2=%{y}<br>color=%{marker.color}\", \"legendgroup\": \"\", \"marker\": {\"color\": [0, 0, 0, 0, 0, 0, 0, 0, 0, 0, 0, 0, 0, 0, 0, 0, 0, 0, 0, 0, 0, 0, 0, 0, 0, 0, 0, 0, 0, 0, 0, 0, 0, 0, 0, 0, 0, 0, 0, 0, 0, 0, 0, 0, 0, 0, 0, 0, 0, 0, 0, 0, 0, 0, 0, 0, 0, 0, 0, 0, 0, 0, 0, 0, 0, 0, 0, 0, 0, 0, 0, 0, 0, 0, 0, 0, 0, 0, 0, 0, 0, 0, 0, 0, 0, 0, 0, 0, 0, 0, 0, 0, 0, 0, 0, 0, 0, 0, 0, 0, 0, 0, 0, 0, 0, 0, 0, 0, 0, 0, 0, 0, 0, 0, 0, 0, 0, 0, 0, 0, 0, 0, 0, 0, 0, 0, 0, 0, 0, 0, 0, 0, 0, 0, 0, 0, 0, 0, 0, 0, 0, 0, 0, 0, 0, 0, 0, 0, 0, 0, 0, 0, 0, 0, 0, 0, 0, 0, 0, 0, 0, 0, 0, 0, 0, 0, 0, 0, 0, 0, 0, 0, 0, 0, 0, 0, 0, 0, 0, 0, 0, 0, 0, 0, 0, 0, 0, 0, 0, 0, 0, 0, 0, 0, 1, 1, 1, 1, 1, 1, 1, 1, 1, 1, 1, 1, 1, 1, 1, 1, 1, 1, 1, 1, 1, 1, 1, 1, 1, 1, 1, 1, 1, 1, 1, 1, 1, 1, 1, 1, 1, 1, 1, 1, 1, 1, 1, 1, 1, 1, 1, 1, 1, 1, 1, 1, 1, 1, 1, 1, 1, 1, 1, 1, 1, 1, 1, 1, 1, 1, 1, 1, 1, 1, 1, 1, 1, 1, 1, 1, 1, 1, 1, 1, 1, 1, 1, 1, 1, 1, 1, 1, 1, 1, 1, 1, 1, 1, 1, 1, 1, 1, 1, 1, 1, 1, 1, 1, 1, 1, 1, 1, 1, 1, 1, 1, 1, 1, 1, 1, 1, 1, 1, 1, 1, 1, 1, 1, 1, 1, 1, 1, 1, 1, 1, 1, 1, 1, 1, 1, 1, 1, 1, 1, 1, 1, 1, 1, 1, 1, 1, 1, 1, 1, 1, 1, 1, 1, 1, 1, 1, 1, 1, 1, 1, 1, 1, 1, 1, 1, 1, 1, 1, 1, 1, 1, 1, 1, 1, 1, 1, 1, 0, 0, 0, 0, 0, 0, 0, 0, 0, 0, 0, 0, 0, 0, 0, 0, 0, 0, 0, 0, 0, 0, 0, 0, 0, 0, 0, 0, 0, 0, 0, 0, 0, 0], \"coloraxis\": \"coloraxis\", \"symbol\": \"circle\"}, \"mode\": \"markers\", \"name\": \"\", \"showlegend\": false, \"type\": \"scatter\", \"x\": [4.623760920888322, 0.4277443740258665, -0.008519025091551795, -2.693565083137382, -0.9393465273932325, -2.7470192626572385, -3.2905998479698924, -1.4608017071981234, -1.255236265722959, 1.1884061161471002, -0.09576479284719722, -3.2000103336886254, -1.8677495554734231, -1.8917960205106559, -1.439439000670849, -0.09416236267164353, 2.7340754304514685, 17.28402283192212, 2.8125404397094194, -3.013176398869018, -0.8150141053984794, -1.7792383804005452, 0.08624065756211136, -3.723555491171554, -0.878730184584053, -2.4027910662600442, -3.6536720535789535, 5.762654563533943, -0.8327152433219172, -2.3807430001954875, 1.33549758060581, 4.419978874140328, -2.529687862259402, 24.447100814236233, -2.162854149979077, -2.2119855364910803, -2.2801669416119617, 1.7307900021314782, -1.7582146248713246, -3.353333948037555, -2.777912740737304, -1.6166977792635808, -1.5875098536459213, -0.5875768880658506, -0.7093877226486955, -3.005853559305743, -0.33254466336978544, -1.9843053733802531, -2.004963086430169, 4.667697041559647, -2.2822157799255787, 1.289212702486468, -1.272808664179815, -2.367618071088698, -0.8075076164598496, 2.0169882652682496, 104.94449159204765, -3.574393969161465, 0.8578870941724901, -1.8289028042406892, -1.4998017943029116, 6.72500273899579, 6.236408057813688, -1.7725295687068858, -3.3050529265227997, -3.9238831458962986, 0.3859410126483691, -2.6335287904586244, 0.24039147854313914, -0.7153979138683777, -2.407498030087663, -1.76542933945312, 0.11013388319468372, -1.4534884174588645, -0.8757550663393477, 3.0675869856954803, -2.383549252624928, -0.5189418895556608, 1.137309355595258, -1.72698696258846, 3.162763606548098, 0.38306922068392435, -2.2632869789180243, 4.953679361554328, 4.341026801831822, -3.054494990902301, -2.0631139224009636, 0.03816780549615286, -2.578249946258015, -0.36703638490530044, -2.045096942032051, -3.3312168137534637, -0.7731409336943672, -1.4359620325063944, -2.8550509042257546, 0.8924987796062123, -2.409304925303715, -1.3081266364768587, -2.2951123391771215, 3.131349664530141, 0.11709355579166475, 3.28481903956402, 2.0641067367410657, 3.1410868038727195, 2.7647541122506154, -2.767236232926621, 10.550306377565414, -2.248450613488211, 0.4415760653861938, -2.8808797189867503, -1.0314735478676578, -3.296729731948939, 5.4858017587789805, -2.361714113704131, -0.8824085133268162, -0.19107888228681277, 5.003676153579579, -1.6512524719932602, -1.1316897959823589, -1.7477410844764203, -3.033367810151723, -2.123988430119864, 0.6522662851166755, -3.7466681886654736, -0.27473617348157625, 0.1899328155694436, -2.9205393352763287, 10.883598305014662, 9.064304553882094, -0.35141676750054457, -2.7077152511070186, 1.8446572521106077, -3.0372763698000127, -2.0237299422271415, -2.8424326798801554, -2.6235163234073955, -1.8482683966203066, -3.4474507474850253, -3.2535729403355433, -3.4496578404468106, -2.1815654096505512, -1.513910438046608, -0.5181897823459056, 3.213181584479035, -1.7324671558871456, -0.41348325139665826, -1.1833070316924617, -1.9862853328875811, -2.417166656637269, -1.987835955724928, 1.065899903091053, 1.8532534993196041, 8.515471520827576, -2.3303992777311984, -1.094050375691405, -2.689095722786056, -3.312856245231958, 1.9744201576847955, -1.2939623746368747, -1.283585655227904, 1.0658754245768751, -2.7557417285567425, 0.6948111321862347, 1.5811212942981863, -0.9949315024188429, -1.5629993670138727, -2.753621799525034, 0.5992512443033264, -2.7577386135213695, -2.174783715624619, -1.2399962101720707, 2.0363347248461134, -1.4043061937028267, 0.8838317745959094, -2.6722866389701605, -0.6460076414241791, -1.555160385026568, 9.701653087309852, -3.3033462681240473, -1.1912937314559282, -2.63813507569248, 1.3315948856604025, 9.448899359527209, -2.7314433808159215, -2.7656368391870716, -1.3455185873548403, 0.42179831002523716, -2.1548493895233167, -1.5264206660630824, 4.803882014711979, -3.6016190431432755, -2.1987117735375277, 0.6356307259495687, 0.31289331967683814, -0.9298975672028574, -2.322352451961305, -3.471558967647078, 4.818905325157008, 4.316947892207047, -3.907525997584901, -1.2251536050432028, -3.426496238565254, -2.2884360003377795, -3.532755688884012, -3.120868675518512, 10.005057052163409, -3.0295009578463863, -3.5474617967936988, -1.3876963845474042, -0.18439550786951558, 0.5549367682909093, -3.213670833276256, -2.4486711286497886, 5.632188764213395, -1.3892762846937396, -2.5465633449950023, 1.9891643541195176, -2.582378682791916, -1.570889097549824, -1.0754087446771987, -2.6657834387123485, -0.09329565903384565, -0.8149979400574956, -3.9133501431864683, -2.6840222245415895, -0.24573139275974407, -2.042886813696659, -1.6526123789927722, -2.204347392055278, 2.4559524276270324, -1.2926399345577309, -2.6622535152252365, -1.6188354934759492, 1.5280143673917252, 2.7694825082371803, -2.7877746417183826, -1.6752620336665196, -0.9864263060957786, 0.11172303596456752, -2.1221755882209132, -0.1877949045574071, -3.494695347672111, -1.5027373718528185, 2.7096141006340986, -0.6042509666748128, -2.89870925951784, -1.7724240217293545, -3.356620978490917, -2.945865733933062, -0.9947241153854943, -1.272133687494802, -0.8470054133492328, 0.22799257691467326, -2.743060406445008, 0.6667396181086912, 0.7824463486836958, 0.6887516534082072, 5.605983918884279, 2.3299103841062725, -2.6555823597112096, -1.6989600548431225, -1.8802192995074576, -1.6935669796876334, 0.24293454073609136, -2.873637106837306, 1.6585060111090026, 2.5351286961173463, -3.2403043918760925, 4.7759248382947215, -2.1955608824390387, -1.9095985224680583, -2.809965339891198, -2.9206608805368894, -1.0898150891639227, 0.05268490021364382, -3.4050544106610925, 3.7138266498669674, 5.036228620816391, 7.3330206766396255, -1.897185153530808, 2.776520410461687, -3.4115175909763362, -3.0158656762555505, -1.3219762064520788, 0.22732404767663245, -1.8976442618206124, 6.895960473979111, 0.20020235849726087, 5.007359187995115, 0.9444288819392276, -1.2008262166927137, 1.6371558210706605, -0.9738259408087508, 0.3375020515826366, -0.7329080481109597, -1.4721867937018986, -1.299304258717854, -1.3156060171398214, 0.020949495920878143, -1.486718134152426, -1.1339778004625412, -1.8939775548882196, -2.7696422855070666, -1.3235478701915275, -2.457155748943596, -3.5464117103707604, 3.898714485605322, -2.6552583711513, -3.204162267358488, -0.9603947496691476, -0.7820251708089649, -2.4421720818842343, -0.15574208317460983, -3.867170339749098, 2.6967417509113933, -3.0638382330600145, -1.9278619751249328, 0.9230945786064325, 8.357613081772127, -2.5082378948869932, 1.2983160688157311, 0.45887572887645056, 10.129313573762026, -3.836819616527577, -0.5627924102428072, 2.179814972614367, -0.6703116982741639, -3.6728789004105495, -1.0640467074367197, 2.019597101711326, 3.18263741521228, 6.685247513198127, -2.792941360434922, -3.2459924131176674, 0.8669210872984667, 2.764307951343089, -1.5204503883257663, -1.8717278675024216, -1.691841001631838, -3.496266331520372, -2.2239583589475878, -1.6554486845892116, 8.919771011074054, -1.6122151269978942, -2.969110078692667, -1.7028580940744984, -1.7130477818543794, -2.485876835890994, 1.3678711125918295, -3.129709950921342, 14.483546546481351, -2.969578957114183, -1.3078360974011602, -1.2134203744458874, -2.0754730969071526, -1.8265263496940545, -2.075794688333498, 3.2030932402187307, 60.61231611279741, -2.383001517056619, 1.646462249318291, -4.01381610560764, -1.6351034189215052, -0.23806553563920524, -1.5689384220914413, 0.69223999776459, -0.4721768963303224, 0.32890008252082276, 0.733328778784645, -1.8964172047682026, -2.418802247068372, -2.4734234975682234, -0.613815617029282, -2.7386603157459892, 2.4099266507650654, 1.8317932343191181, -0.6254932555493844, 2.2611096687154535, -2.5579990279702356, -1.0587371420179528, -0.38822205600090265, -0.5328382565181478, -2.1536475858305812, -2.4655791979666266, -0.5091731312414859, -3.503816041066441, -1.1028543212998656, 0.06920436983971683, 2.539242211422743, -0.9478650953561122, -3.2904744712692184, -3.5161310207486425, 6.530162691008118, 0.9432462613590794, -3.460229963480086, -2.0024811727422094, -1.3489790511267317, -1.5128157735704575, -2.768753297625966, -3.840282455263383, 0.2728866087389508, -3.4458761889806717, -2.3514455811604464, -0.03405693049754055, -2.6034187702587452, -2.6753868666815306], \"xaxis\": \"x\", \"y\": [-10.174101327874316, -0.8245078248467405, 0.3735169412110461, 4.211149390028076, 1.3892174469540863, 3.3797679701606738, 4.144937074865828, 0.40530620729137723, -0.07122634085077294, -0.1096381476683777, -1.196043114497072, 3.001045423937763, 0.8529710583421425, 2.2809321314548727, 0.5805936954986872, -1.3229122194322809, -3.3303052521713616, -0.8214225265952808, -5.611705777924268, 4.7878447144375, 0.9786711316362333, 1.1063226756897744, 1.831720571443471, 3.5003708722097486, 0.005901229160877424, 3.5216371435289626, 3.6720034014309277, -7.239207544683807, -1.7743407832003208, 4.736455197242352, -4.590579024823987, -12.678307749628182, 3.438388070929082, -2.7298993211593507, 5.158141258704548, 3.889165870245912, 4.626010079079007, -1.3851443154721663, -1.0236955503054295, 5.099781862383835, 2.1515660613546457, -1.274989129682215, 1.226841786747232, -0.18722615818176672, 0.2734270046889592, 4.957867034772346, -3.8968028349165635, 2.3370105340171565, 3.354418720673806, 0.22794097981915237, 1.3847029083371787, -3.77502687068381, -2.1832831743985657, 4.198378266261535, 1.8445070774507353, -5.21751855494413, 36.66599318200942, 4.898949313794487, 3.864836627713399, 4.3270597921430065, 0.6726683157218701, -13.555429909720372, -12.601688638437171, 0.5719868055343174, 4.439113039322796, 3.8650258096493317, -2.7646358074542667, 4.256464262491746, -2.307963844747694, 0.26337183018066107, 3.132198913361606, 2.3739139308202266, -1.5000379071161627, -0.00031815628626143236, 3.3682652277699723, -3.310009914212869, -0.29064020025377335, 0.6304575524988578, -7.101040546121003, 3.2560743994983445, -5.3263738730230985, -2.9760326822292784, 2.568944357925929, -6.1622245783039045, -12.60890283873607, 4.133783793194652, 1.1183612995025205, -1.454519614949827, 3.162889880128687, -0.42999971396256675, 1.6573657898016627, 3.121080168012741, 0.7368035098991672, -1.9075804497650233, 4.685065654811837, -2.0666454907528893, 2.7696469692356716, -1.0030388260007819, 3.3646042432073293, -4.658203115381776, -1.5062887519325516, -9.052590758480616, -5.41907655888033, -5.881115334436804, -5.695267165750059, 4.2706107715645105, -9.27506021955791, 2.4791251064907494, -1.1193480919420764, 4.845568970511184, -0.9614312634070327, 3.2324839729632044, -0.49232955648172283, 2.3831276076011925, 3.7411683987681643, 6.078267578207479, -8.577590066777972, 3.109873021529255, 1.1460171514280986, 1.5828034454973303, 3.356456234805715, 3.8817421879005236, -0.8071383226139781, 4.327260795438539, -0.8437654224786196, -0.5493948751827261, 3.862631805989868, 6.446370413886326, -8.243228927214236, 1.0191271801546256, 3.8667392999035757, -5.144562997001002, 3.6418449670318975, 2.5640863416582187, 4.041521446465882, 1.6332606012216728, 1.9895517385172323, 4.68392848076038, 3.6175555190973667, 3.781517027771345, 3.794175953814511, -0.8489287747443636, -1.20518516945017, -6.225744742105602, 3.1285291145776615, 1.9004176032784246, 0.17183823541575416, -1.6155175839966496, 2.029828893087534, 0.5000315861851969, -2.2909642089130715, -4.816164406598898, -5.538520015427523, 2.040811282995398, -3.132537922492498, 4.086570374263666, 5.718242979907253, -7.991413778450446, 3.833171860329619, 1.2861179182311073, -0.10336185032771629, 4.923699369952117, 0.9457357770423305, -3.783499570889448, 0.39727315988777473, 1.5718166744523172, 4.43885237604019, -0.8861489073720389, 3.02833783758525, -0.4814280828079339, -0.5651524606629473, -3.045200448200492, 1.6118159670301753, -3.1343828487566614, 4.925976770978934, 0.11247873853036558, 1.8846435875522796, -19.29960998321003, 4.064874328309021, 0.35120269911623164, 1.7385488007538208, 0.10869630809523327, -8.948905285533503, 3.3123162762283367, 2.0864235483898117, 0.9448966984009847, -3.1651839316676793, 4.309721802443271, 1.7865412823888795, -7.790113816945946, 5.25633324072335, 3.325515487095864, -1.7439520614133945, -1.673476998518016, 1.2664997948723131, 3.3759939814768862, 4.549118129922635, -12.665893035608528, -8.947142746766378, 4.0892822462530125, 1.653153768963587, 3.2918186293603435, -0.005649922194498735, 6.28708757839639, 5.366879458001489, -26.480205751863426, 4.203502497083747, 4.443941384800316, 2.332317835610752, 0.6458380999098684, -0.30521312273876566, 2.7656755663259274, 2.7645884049281633, -0.8738076746786373, 0.46759191468126354, 2.917322230979318, -7.15849300429161, 3.217743946649967, 3.112831452759943, 0.05223441078154856, 1.9436965504919856, 0.1862252417077664, -3.8121184027842476, 4.450583915485836, 3.3388542297776915, -1.8777496331202639, -1.412062869881594, 2.847255224386365, -0.20692279049842244, -5.996815161374132, 2.3383363219806146, 3.31335965546993, 1.926393132512743, 2.4917742411487596, 1.67576196428467, 3.9623424289466924, 2.8338812769816166, 2.77961416897326, -3.36078184802047, 3.336514204297693, -2.8809754909456182, 4.943880090133723, -0.2527572393671734, -7.81137018055367, 0.7541779136708446, 4.392961020758439, 2.057166094618655, 5.237114605341507, 3.787408573706929, 3.869350420594722, 2.963864578484316, -2.6409792818138635, -2.8961341723446226, 3.3933727407963015, -5.938809217905789, -0.48955352422625065, -5.920104997183618, -10.722759237587331, -0.9088797890139108, 2.6838934555841356, 3.877050828306813, 1.191400771661204, 3.075825956245545, -2.176766346094039, 3.0199644984525533, -2.951330142774327, -2.822303450179223, 5.1055609376341256, -7.356094837959566, 0.6035522714744939, -0.19893389624377847, 5.79402286900696, 3.053494496401305, 1.0099921708148853, 3.0713627436848503, 3.598295851806995, -11.365418756206534, -7.8349634693730215, -16.051173356838174, 2.0600218072907053, -0.21372524116207187, 3.275119638088167, 2.423059035991174, 2.0066356346199874, -2.8537054344958936, 2.4121757141697775, -13.537276949069362, 2.8145506644118052, -13.599826599548964, -3.9508669025899184, 1.2330697478520491, -4.042377416688853, -0.592356294394946, -4.870443178168958, 1.677041859942436, 1.520251508101084, -0.049210469392565535, 0.2512981747813414, 0.6665450065333768, -0.554225935215592, -1.1711396531448777, 0.7988457799940271, 3.407560047535698, 0.674191899247899, 1.7036857438423088, 4.349142544187742, -2.0386611931198657, 0.09677048335897132, 3.0949182308208574, 0.2950685894204165, -1.0852528366569794, 0.7673619535307059, -3.092003984753187, 3.7233533573144655, -3.147415854737579, 4.756683804004846, 1.320893598941014, -2.9559515485437897, -4.702923797353133, 1.5502879039805797, -4.709175587212036, -1.4586555171233604, -6.217747739444223, 3.9431121528140363, 1.7723195581647142, -4.837673387064927, -1.751042883861103, 3.442691801464056, -2.426316840222998, -6.755502888006963, -10.088179333923222, -21.827713880783993, 4.633128569351512, 3.9413369120437016, -4.0738671435113805, -5.974132464181937, 1.4588787033360644, 0.12298869474886345, 0.18098236303622434, 1.027017037218972, 3.606251508422139, 0.6788012026351831, -15.079385386265765, 0.8783243058909262, 4.3192249656369945, 1.2699506594705299, 2.6124143855533144, 0.1540345145877672, -7.8319832576886865, 4.2208036593028, 0.7345027972494288, 3.4481985607698213, -0.8060608976364625, -0.235069400247192, 3.831220968949313, 2.142875500977281, 0.2222154932747441, -12.180473153211198, 7.486259409556407, 1.990995587724299, -6.223201770946845, 3.600370220848519, -1.5515516089780848, -2.5372883366575274, 1.1586278724202295, -1.1791233064001938, -1.7727086710946698, -0.33929348393657105, -5.461092989826165, -0.18492118858066037, 5.104537480550854, 4.56237933209655, -0.1262030822072032, 4.26328166479833, -5.7228714156252485, -6.860942732584579, -1.7129066679544265, -4.937611706713941, 2.0615471213037684, 3.7082299540327983, -0.5802773733915243, -0.6575262621977535, 2.973578101741009, 2.845861619993519, 1.014605943082401, 5.6523001901738015, -0.458404106237885, -4.680466979427295, 3.7405160373583826, -2.451134930035136, 2.4110000718228273, 4.492814979886768, -3.6077670190245303, -4.743910338622843, 4.477180352102779, 1.6955955299505225, 1.1611474058831954, 1.967180936264533, 4.368529575716305, 4.5624619801719675, -2.733533937750883, 3.7469292890988655, 3.9228052983220403, -5.474219672573356, 3.3108794804356765, 0.7835524785936565], \"yaxis\": \"y\"}],\n",
              "                        {\"coloraxis\": {\"colorbar\": {\"title\": {\"text\": \"color\"}}, \"colorscale\": [[0.0, \"#0d0887\"], [0.1111111111111111, \"#46039f\"], [0.2222222222222222, \"#7201a8\"], [0.3333333333333333, \"#9c179e\"], [0.4444444444444444, \"#bd3786\"], [0.5555555555555556, \"#d8576b\"], [0.6666666666666666, \"#ed7953\"], [0.7777777777777778, \"#fb9f3a\"], [0.8888888888888888, \"#fdca26\"], [1.0, \"#f0f921\"]]}, \"legend\": {\"tracegroupgap\": 0}, \"template\": {\"data\": {\"bar\": [{\"error_x\": {\"color\": \"#2a3f5f\"}, \"error_y\": {\"color\": \"#2a3f5f\"}, \"marker\": {\"line\": {\"color\": \"#E5ECF6\", \"width\": 0.5}}, \"type\": \"bar\"}], \"barpolar\": [{\"marker\": {\"line\": {\"color\": \"#E5ECF6\", \"width\": 0.5}}, \"type\": \"barpolar\"}], \"carpet\": [{\"aaxis\": {\"endlinecolor\": \"#2a3f5f\", \"gridcolor\": \"white\", \"linecolor\": \"white\", \"minorgridcolor\": \"white\", \"startlinecolor\": \"#2a3f5f\"}, \"baxis\": {\"endlinecolor\": \"#2a3f5f\", \"gridcolor\": \"white\", \"linecolor\": \"white\", \"minorgridcolor\": \"white\", \"startlinecolor\": \"#2a3f5f\"}, \"type\": \"carpet\"}], \"choropleth\": [{\"colorbar\": {\"outlinewidth\": 0, \"ticks\": \"\"}, \"type\": \"choropleth\"}], \"contour\": [{\"colorbar\": {\"outlinewidth\": 0, \"ticks\": \"\"}, \"colorscale\": [[0.0, \"#0d0887\"], [0.1111111111111111, \"#46039f\"], [0.2222222222222222, \"#7201a8\"], [0.3333333333333333, \"#9c179e\"], [0.4444444444444444, \"#bd3786\"], [0.5555555555555556, \"#d8576b\"], [0.6666666666666666, \"#ed7953\"], [0.7777777777777778, \"#fb9f3a\"], [0.8888888888888888, \"#fdca26\"], [1.0, \"#f0f921\"]], \"type\": \"contour\"}], \"contourcarpet\": [{\"colorbar\": {\"outlinewidth\": 0, \"ticks\": \"\"}, \"type\": \"contourcarpet\"}], \"heatmap\": [{\"colorbar\": {\"outlinewidth\": 0, \"ticks\": \"\"}, \"colorscale\": [[0.0, \"#0d0887\"], [0.1111111111111111, \"#46039f\"], [0.2222222222222222, \"#7201a8\"], [0.3333333333333333, \"#9c179e\"], [0.4444444444444444, \"#bd3786\"], [0.5555555555555556, \"#d8576b\"], [0.6666666666666666, \"#ed7953\"], [0.7777777777777778, \"#fb9f3a\"], [0.8888888888888888, \"#fdca26\"], [1.0, \"#f0f921\"]], \"type\": \"heatmap\"}], \"heatmapgl\": [{\"colorbar\": {\"outlinewidth\": 0, \"ticks\": \"\"}, \"colorscale\": [[0.0, \"#0d0887\"], [0.1111111111111111, \"#46039f\"], [0.2222222222222222, \"#7201a8\"], [0.3333333333333333, \"#9c179e\"], [0.4444444444444444, \"#bd3786\"], [0.5555555555555556, \"#d8576b\"], [0.6666666666666666, \"#ed7953\"], [0.7777777777777778, \"#fb9f3a\"], [0.8888888888888888, \"#fdca26\"], [1.0, \"#f0f921\"]], \"type\": \"heatmapgl\"}], \"histogram\": [{\"marker\": {\"colorbar\": {\"outlinewidth\": 0, \"ticks\": \"\"}}, \"type\": \"histogram\"}], \"histogram2d\": [{\"colorbar\": {\"outlinewidth\": 0, \"ticks\": \"\"}, \"colorscale\": [[0.0, \"#0d0887\"], [0.1111111111111111, \"#46039f\"], [0.2222222222222222, \"#7201a8\"], [0.3333333333333333, \"#9c179e\"], [0.4444444444444444, \"#bd3786\"], [0.5555555555555556, \"#d8576b\"], [0.6666666666666666, \"#ed7953\"], [0.7777777777777778, \"#fb9f3a\"], [0.8888888888888888, \"#fdca26\"], [1.0, \"#f0f921\"]], \"type\": \"histogram2d\"}], \"histogram2dcontour\": [{\"colorbar\": {\"outlinewidth\": 0, \"ticks\": \"\"}, \"colorscale\": [[0.0, \"#0d0887\"], [0.1111111111111111, \"#46039f\"], [0.2222222222222222, \"#7201a8\"], [0.3333333333333333, \"#9c179e\"], [0.4444444444444444, \"#bd3786\"], [0.5555555555555556, \"#d8576b\"], [0.6666666666666666, \"#ed7953\"], [0.7777777777777778, \"#fb9f3a\"], [0.8888888888888888, \"#fdca26\"], [1.0, \"#f0f921\"]], \"type\": \"histogram2dcontour\"}], \"mesh3d\": [{\"colorbar\": {\"outlinewidth\": 0, \"ticks\": \"\"}, \"type\": \"mesh3d\"}], \"parcoords\": [{\"line\": {\"colorbar\": {\"outlinewidth\": 0, \"ticks\": \"\"}}, \"type\": \"parcoords\"}], \"pie\": [{\"automargin\": true, \"type\": \"pie\"}], \"scatter\": [{\"marker\": {\"colorbar\": {\"outlinewidth\": 0, \"ticks\": \"\"}}, \"type\": \"scatter\"}], \"scatter3d\": [{\"line\": {\"colorbar\": {\"outlinewidth\": 0, \"ticks\": \"\"}}, \"marker\": {\"colorbar\": {\"outlinewidth\": 0, \"ticks\": \"\"}}, \"type\": \"scatter3d\"}], \"scattercarpet\": [{\"marker\": {\"colorbar\": {\"outlinewidth\": 0, \"ticks\": \"\"}}, \"type\": \"scattercarpet\"}], \"scattergeo\": [{\"marker\": {\"colorbar\": {\"outlinewidth\": 0, \"ticks\": \"\"}}, \"type\": \"scattergeo\"}], \"scattergl\": [{\"marker\": {\"colorbar\": {\"outlinewidth\": 0, \"ticks\": \"\"}}, \"type\": \"scattergl\"}], \"scattermapbox\": [{\"marker\": {\"colorbar\": {\"outlinewidth\": 0, \"ticks\": \"\"}}, \"type\": \"scattermapbox\"}], \"scatterpolar\": [{\"marker\": {\"colorbar\": {\"outlinewidth\": 0, \"ticks\": \"\"}}, \"type\": \"scatterpolar\"}], \"scatterpolargl\": [{\"marker\": {\"colorbar\": {\"outlinewidth\": 0, \"ticks\": \"\"}}, \"type\": \"scatterpolargl\"}], \"scatterternary\": [{\"marker\": {\"colorbar\": {\"outlinewidth\": 0, \"ticks\": \"\"}}, \"type\": \"scatterternary\"}], \"surface\": [{\"colorbar\": {\"outlinewidth\": 0, \"ticks\": \"\"}, \"colorscale\": [[0.0, \"#0d0887\"], [0.1111111111111111, \"#46039f\"], [0.2222222222222222, \"#7201a8\"], [0.3333333333333333, \"#9c179e\"], [0.4444444444444444, \"#bd3786\"], [0.5555555555555556, \"#d8576b\"], [0.6666666666666666, \"#ed7953\"], [0.7777777777777778, \"#fb9f3a\"], [0.8888888888888888, \"#fdca26\"], [1.0, \"#f0f921\"]], \"type\": \"surface\"}], \"table\": [{\"cells\": {\"fill\": {\"color\": \"#EBF0F8\"}, \"line\": {\"color\": \"white\"}}, \"header\": {\"fill\": {\"color\": \"#C8D4E3\"}, \"line\": {\"color\": \"white\"}}, \"type\": \"table\"}]}, \"layout\": {\"annotationdefaults\": {\"arrowcolor\": \"#2a3f5f\", \"arrowhead\": 0, \"arrowwidth\": 1}, \"coloraxis\": {\"colorbar\": {\"outlinewidth\": 0, \"ticks\": \"\"}}, \"colorscale\": {\"diverging\": [[0, \"#8e0152\"], [0.1, \"#c51b7d\"], [0.2, \"#de77ae\"], [0.3, \"#f1b6da\"], [0.4, \"#fde0ef\"], [0.5, \"#f7f7f7\"], [0.6, \"#e6f5d0\"], [0.7, \"#b8e186\"], [0.8, \"#7fbc41\"], [0.9, \"#4d9221\"], [1, \"#276419\"]], \"sequential\": [[0.0, \"#0d0887\"], [0.1111111111111111, \"#46039f\"], [0.2222222222222222, \"#7201a8\"], [0.3333333333333333, \"#9c179e\"], [0.4444444444444444, \"#bd3786\"], [0.5555555555555556, \"#d8576b\"], [0.6666666666666666, \"#ed7953\"], [0.7777777777777778, \"#fb9f3a\"], [0.8888888888888888, \"#fdca26\"], [1.0, \"#f0f921\"]], \"sequentialminus\": [[0.0, \"#0d0887\"], [0.1111111111111111, \"#46039f\"], [0.2222222222222222, \"#7201a8\"], [0.3333333333333333, \"#9c179e\"], [0.4444444444444444, \"#bd3786\"], [0.5555555555555556, \"#d8576b\"], [0.6666666666666666, \"#ed7953\"], [0.7777777777777778, \"#fb9f3a\"], [0.8888888888888888, \"#fdca26\"], [1.0, \"#f0f921\"]]}, \"colorway\": [\"#636efa\", \"#EF553B\", \"#00cc96\", \"#ab63fa\", \"#FFA15A\", \"#19d3f3\", \"#FF6692\", \"#B6E880\", \"#FF97FF\", \"#FECB52\"], \"font\": {\"color\": \"#2a3f5f\"}, \"geo\": {\"bgcolor\": \"white\", \"lakecolor\": \"white\", \"landcolor\": \"#E5ECF6\", \"showlakes\": true, \"showland\": true, \"subunitcolor\": \"white\"}, \"hoverlabel\": {\"align\": \"left\"}, \"hovermode\": \"closest\", \"mapbox\": {\"style\": \"light\"}, \"paper_bgcolor\": \"white\", \"plot_bgcolor\": \"#E5ECF6\", \"polar\": {\"angularaxis\": {\"gridcolor\": \"white\", \"linecolor\": \"white\", \"ticks\": \"\"}, \"bgcolor\": \"#E5ECF6\", \"radialaxis\": {\"gridcolor\": \"white\", \"linecolor\": \"white\", \"ticks\": \"\"}}, \"scene\": {\"xaxis\": {\"backgroundcolor\": \"#E5ECF6\", \"gridcolor\": \"white\", \"gridwidth\": 2, \"linecolor\": \"white\", \"showbackground\": true, \"ticks\": \"\", \"zerolinecolor\": \"white\"}, \"yaxis\": {\"backgroundcolor\": \"#E5ECF6\", \"gridcolor\": \"white\", \"gridwidth\": 2, \"linecolor\": \"white\", \"showbackground\": true, \"ticks\": \"\", \"zerolinecolor\": \"white\"}, \"zaxis\": {\"backgroundcolor\": \"#E5ECF6\", \"gridcolor\": \"white\", \"gridwidth\": 2, \"linecolor\": \"white\", \"showbackground\": true, \"ticks\": \"\", \"zerolinecolor\": \"white\"}}, \"shapedefaults\": {\"line\": {\"color\": \"#2a3f5f\"}}, \"ternary\": {\"aaxis\": {\"gridcolor\": \"white\", \"linecolor\": \"white\", \"ticks\": \"\"}, \"baxis\": {\"gridcolor\": \"white\", \"linecolor\": \"white\", \"ticks\": \"\"}, \"bgcolor\": \"#E5ECF6\", \"caxis\": {\"gridcolor\": \"white\", \"linecolor\": \"white\", \"ticks\": \"\"}}, \"title\": {\"x\": 0.05}, \"xaxis\": {\"automargin\": true, \"gridcolor\": \"white\", \"linecolor\": \"white\", \"ticks\": \"\", \"title\": {\"standoff\": 15}, \"zerolinecolor\": \"white\", \"zerolinewidth\": 2}, \"yaxis\": {\"automargin\": true, \"gridcolor\": \"white\", \"linecolor\": \"white\", \"ticks\": \"\", \"title\": {\"standoff\": 15}, \"zerolinecolor\": \"white\", \"zerolinewidth\": 2}}}, \"title\": {\"text\": \"First 2 Principal Components of CRC data\"}, \"xaxis\": {\"anchor\": \"y\", \"domain\": [0.0, 1.0], \"title\": {\"text\": \"PC 1\"}}, \"yaxis\": {\"anchor\": \"x\", \"domain\": [0.0, 1.0], \"title\": {\"text\": \"PC 2\"}}},\n",
              "                        {\"responsive\": true}\n",
              "                    ).then(function(){\n",
              "                            \n",
              "var gd = document.getElementById('06a8e012-471f-4639-bcf5-92256f3477e9');\n",
              "var x = new MutationObserver(function (mutations, observer) {{\n",
              "        var display = window.getComputedStyle(gd).display;\n",
              "        if (!display || display === 'none') {{\n",
              "            console.log([gd, 'removed!']);\n",
              "            Plotly.purge(gd);\n",
              "            observer.disconnect();\n",
              "        }}\n",
              "}});\n",
              "\n",
              "// Listen for the removal of the full notebook cells\n",
              "var notebookContainer = gd.closest('#notebook-container');\n",
              "if (notebookContainer) {{\n",
              "    x.observe(notebookContainer, {childList: true});\n",
              "}}\n",
              "\n",
              "// Listen for the clearing of the current output cell\n",
              "var outputEl = gd.closest('.output');\n",
              "if (outputEl) {{\n",
              "    x.observe(outputEl, {childList: true});\n",
              "}}\n",
              "\n",
              "                        })\n",
              "                };\n",
              "                \n",
              "            </script>\n",
              "        </div>\n",
              "</body>\n",
              "</html>"
            ]
          },
          "metadata": {
            "tags": []
          }
        }
      ]
    },
    {
      "cell_type": "code",
      "metadata": {
        "colab": {
          "base_uri": "https://localhost:8080/",
          "height": 542
        },
        "id": "Yp3YRrO_jt9y",
        "outputId": "bf231a9d-0ee7-4f30-de8a-29b5d409bd2a"
      },
      "source": [
        "from sklearn.cross_decomposition import PLSRegression\n",
        "plsda = PLSRegression(n_components=2)\n",
        "plsda.fit(X,y)\n",
        "components = plsda.transform(X)\n",
        "fig = px.scatter(\n",
        "    components, x=0, y=1, color=y,\n",
        "    title=\"Projected CRC Data through PLS\",\n",
        "    labels={'0': 'PLS Component 1', '1': 'PLS Component 2' }\n",
        ")\n",
        "fig.show()"
      ],
      "execution_count": null,
      "outputs": [
        {
          "output_type": "display_data",
          "data": {
            "text/html": [
              "<html>\n",
              "<head><meta charset=\"utf-8\" /></head>\n",
              "<body>\n",
              "    <div>\n",
              "            <script src=\"https://cdnjs.cloudflare.com/ajax/libs/mathjax/2.7.5/MathJax.js?config=TeX-AMS-MML_SVG\"></script><script type=\"text/javascript\">if (window.MathJax) {MathJax.Hub.Config({SVG: {font: \"STIX-Web\"}});}</script>\n",
              "                <script type=\"text/javascript\">window.PlotlyConfig = {MathJaxConfig: 'local'};</script>\n",
              "        <script src=\"https://cdn.plot.ly/plotly-latest.min.js\"></script>    \n",
              "            <div id=\"93fb520b-437f-4f99-8eca-3a3867be2daf\" class=\"plotly-graph-div\" style=\"height:525px; width:100%;\"></div>\n",
              "            <script type=\"text/javascript\">\n",
              "                \n",
              "                    window.PLOTLYENV=window.PLOTLYENV || {};\n",
              "                    \n",
              "                if (document.getElementById(\"93fb520b-437f-4f99-8eca-3a3867be2daf\")) {\n",
              "                    Plotly.newPlot(\n",
              "                        '93fb520b-437f-4f99-8eca-3a3867be2daf',\n",
              "                        [{\"hoverlabel\": {\"namelength\": 0}, \"hovertemplate\": \"PLS Component 1=%{x}<br>PLS Component 2=%{y}<br>color=%{marker.color}\", \"legendgroup\": \"\", \"marker\": {\"color\": [0, 0, 0, 0, 0, 0, 0, 0, 0, 0, 0, 0, 0, 0, 0, 0, 0, 0, 0, 0, 0, 0, 0, 0, 0, 0, 0, 0, 0, 0, 0, 0, 0, 0, 0, 0, 0, 0, 0, 0, 0, 0, 0, 0, 0, 0, 0, 0, 0, 0, 0, 0, 0, 0, 0, 0, 0, 0, 0, 0, 0, 0, 0, 0, 0, 0, 0, 0, 0, 0, 0, 0, 0, 0, 0, 0, 0, 0, 0, 0, 0, 0, 0, 0, 0, 0, 0, 0, 0, 0, 0, 0, 0, 0, 0, 0, 0, 0, 0, 0, 0, 0, 0, 0, 0, 0, 0, 0, 0, 0, 0, 0, 0, 0, 0, 0, 0, 0, 0, 0, 0, 0, 0, 0, 0, 0, 0, 0, 0, 0, 0, 0, 0, 0, 0, 0, 0, 0, 0, 0, 0, 0, 0, 0, 0, 0, 0, 0, 0, 0, 0, 0, 0, 0, 0, 0, 0, 0, 0, 0, 0, 0, 0, 0, 0, 0, 0, 0, 0, 0, 0, 0, 0, 0, 0, 0, 0, 0, 0, 0, 0, 0, 0, 0, 0, 0, 0, 0, 0, 0, 0, 0, 0, 0, 1, 1, 1, 1, 1, 1, 1, 1, 1, 1, 1, 1, 1, 1, 1, 1, 1, 1, 1, 1, 1, 1, 1, 1, 1, 1, 1, 1, 1, 1, 1, 1, 1, 1, 1, 1, 1, 1, 1, 1, 1, 1, 1, 1, 1, 1, 1, 1, 1, 1, 1, 1, 1, 1, 1, 1, 1, 1, 1, 1, 1, 1, 1, 1, 1, 1, 1, 1, 1, 1, 1, 1, 1, 1, 1, 1, 1, 1, 1, 1, 1, 1, 1, 1, 1, 1, 1, 1, 1, 1, 1, 1, 1, 1, 1, 1, 1, 1, 1, 1, 1, 1, 1, 1, 1, 1, 1, 1, 1, 1, 1, 1, 1, 1, 1, 1, 1, 1, 1, 1, 1, 1, 1, 1, 1, 1, 1, 1, 1, 1, 1, 1, 1, 1, 1, 1, 1, 1, 1, 1, 1, 1, 1, 1, 1, 1, 1, 1, 1, 1, 1, 1, 1, 1, 1, 1, 1, 1, 1, 1, 1, 1, 1, 1, 1, 1, 1, 1, 1, 1, 1, 1, 1, 1, 1, 1, 1, 1, 0, 0, 0, 0, 0, 0, 0, 0, 0, 0, 0, 0, 0, 0, 0, 0, 0, 0, 0, 0, 0, 0, 0, 0, 0, 0, 0, 0, 0, 0, 0, 0, 0, 0], \"coloraxis\": \"coloraxis\", \"symbol\": \"circle\"}, \"mode\": \"markers\", \"name\": \"\", \"showlegend\": false, \"type\": \"scatter\", \"x\": [3.3870860465169583, 5.160545814602704, 3.177534041697128, 2.418453753335607, 3.596288498052742, 3.877063022088527, 3.3309090456281876, 3.7669453933862083, 3.8750805191677244, 4.224662045266898, 2.447168678601407, 2.557216718210075, 3.7406101166304584, 1.7135778768551615, 2.293959704562042, 4.187326491696989, 1.5915203811845973, 7.293334180717892, 6.137067396867227, 2.961144981654129, 1.981116700010027, 3.799333994326255, 4.9661632821086314, 2.4219146780474397, 2.039028036236544, 2.3675296269566806, 1.9061495342788786, 1.527924720956264, 1.3530659149364443, 3.515221305657795, 2.4489233907838424, 0.6184131746692164, 3.4803826843025583, 3.542749766201919, 4.824848804192063, 2.001581062693346, 3.3880060521946627, 2.8485913086468635, 1.738679409958811, 3.0301177668839863, 0.8970001826610088, 1.3561097617870024, -1.4695678556165923, 1.1916295236784216, 1.8051987915475531, -0.8543192121867178, 1.4901584951592293, 3.3524018519240752, -1.3487055835077935, 2.770302300722026, 2.221548353396611, 1.7281501543794375, 1.0855226701025247, 3.273982266905261, -0.8544099553646256, 1.3561203562476591, 17.31116601971887, 0.11070226969085331, 1.6383868301876903, 2.667449515264908, -1.0376479899826567, -0.12660159396850196, 3.759125468423159, 1.2497879659764266, 2.770256742454657, 1.0668935074084973, 1.3872168059835785, -0.9986551231869465, 2.153284390571385, 1.132609060814634, 2.5407567888153864, 0.318579621971284, -0.05346622263976086, -0.07193263356247295, -0.026258218552690615, 1.4968391004149484, 1.523041420016609, 0.8871170787383095, -0.36321681202948225, 2.27846182427409, -0.056083328723789794, 1.6724829538484363, 0.2954204332687782, 2.506369625347925, -2.4997751020756076, 0.9341239838967388, 2.2492033619597795, 2.3166968984736864, 0.7482040338358312, -1.1679606570019054, 0.5730747156649618, 1.8305179416119732, 1.6353544259920891, 0.6710840929001463, 1.0944458169084803, 2.2271775734021824, 2.2929931515745263, 1.5186574437167941, 2.2842800223806035, 1.043494372105621, 1.2649246515066763, 0.9472377259508004, 0.008719179253343146, 2.22306718888847, 0.12749684441171283, 1.3292068751152697, -0.2611406261730407, 1.4024755544661613, 1.7573493229658763, 2.871429593746249, 0.8992989341529587, 1.9719016946602974, 2.7978997792738642, 1.0221427699095087, 1.6720998697337688, 1.9090017868450266, 0.8909520818988935, 2.3079525905413423, 1.8077264023696786, 2.061831336782574, 1.8379977374239975, 1.7512691538421672, 3.392502198163597, 1.2222120546498083, 1.2705498565522841, 2.1443763717408997, 2.608069372612622, 2.2022057409698466, 4.069260231583582, 1.1689153282825742, 1.6440449298026159, 0.7196065917635963, 0.9698264285277417, 1.838741389492752, 1.6946548923829514, 1.3246429536658444, 0.3133707967599277, 1.70533429709179, 2.0180250986629797, 0.9976052899015406, 1.6944719165309643, 1.390906026964041, 0.9454699616803999, 2.9853024652348306, 2.0496536604526923, 0.7011099887423742, 1.7894853377967734, 2.080973304802824, 1.877551359940522, 1.015599994881356, 1.8751482265286956, 1.0383934829602706, 2.9675338142801806, 2.4085373809642574, 0.8211836871965335, 2.6012720180289097, 0.06752764191420202, 0.8534881768497294, 3.2944139914949018, 2.290314565567412, 0.5578039447433768, 2.310423531062994, 3.7968977757836746, 2.026064350529714, -0.37172119913471374, 1.6120039210634587, 0.385193400431463, 1.5008360849734592, 1.7595762182366013, 0.6677406450244937, 1.2608062795612018, -1.4482866269896426, 0.9398463719476773, 0.013845849064197058, 0.2910124765708105, -0.7775396034220878, 1.5179099049754599, 0.3063390761924715, 1.5338032611197496, 2.054180863586475, 0.7186740792757959, 2.1082668810423004, 0.2086327760829794, -0.22340970724528558, 0.8975027324480336, 0.8952305579340107, 0.0496730109971556, 0.5971888172747308, 0.2830268525661218, 4.158095420652063, -0.9291121642276453, -1.65460798532761, -0.8463149817902111, -2.794498660107897, -0.9442604632469758, -0.9043342822176434, -0.738851579417383, -5.221534068245109, -5.717235255110433, -0.578405274409233, -3.477043957007645, -0.5165754667367134, -0.7551621394447307, -1.1171993387211936, -0.9643350502957015, -6.2127909836709225, -0.7785378646181934, -1.9854542287182873, -1.9614356921719973, -1.568782903923402, -2.8812772146000802, -0.09308167523521066, -2.1697047547252764, -1.1816457246213437, -2.1239928083174227, 0.18411655049958153, -5.579054177999359, -2.449982015379127, -1.2560233577241884, -1.3500452991593348, -1.0771355785861385, -2.7011508371928223, -2.6714294310126596, -0.3320771384101917, -1.557108490857538, -2.075700102956864, -0.9767266217633359, -1.8269898020091233, -2.910236909612746, -2.758159787159994, -2.7217527298750888, -1.7423108880613214, -1.3696575422368507, -2.8434918139784306, -2.94565339930445, -1.559851423177672, -2.3021774222348714, -4.082921369699605, -2.01957093674758, -3.291650279072283, -2.5800087781761687, -0.11248200570137112, -3.3312537971663945, -5.245526336439342, -2.6641869459065046, -3.1398361534698225, -2.6804184854536492, -0.9784230153258133, 0.7564882946033077, 1.2883390375498445, -0.8217425223950381, -0.8870302922866389, -0.5528127173319752, -0.18944986855837231, -2.356029370380915, -2.4860256700777463, -1.4143123886395919, -4.747413786232443, -2.45129369904371, -0.7205640962074191, -1.6533242814969553, -1.1233024005965777, 0.43348262754927597, -3.2042540713044376, -0.6180919489559524, -1.3094106294729255, -1.265078427244966, -0.7230711449901678, -2.587591035818356, -0.9699317379866849, -0.796875876001788, -2.218461746719002, 0.8706879304438847, -0.789650119595936, -0.6936354260704864, -1.4024199133458266, -4.923292147150746, -2.31488782045028, -5.126649357546445, -4.170618594054641, -3.8310195740848454, -1.2225161617280578, -0.5529196262911432, -2.394929995278126, -3.0294586731109487, -2.4478448323079904, -5.188767292471315, -1.4820889633286165, -5.514342235602678, -3.7136095971644547, -2.963092557908624, -2.018050387958834, -3.0247340652842896, -4.046796265695189, -1.3620900687649529, -2.791434593214498, -2.821471392615276, -4.8511846632330915, -3.873323742170861, -3.1317902581373067, -2.2089347111501354, -2.0955834446177244, -1.5020040636528738, -2.871385865010565, -1.5234373828845282, -0.7239229421324236, -2.2989534937529736, -1.6723599718113469, -1.0742208787001608, -4.822723807539237, -3.2788702041824394, -2.6442816525740103, -3.3687058673744703, 0.46385722302522125, -4.303048036154658, -0.2354716102540736, -2.505959086035025, -3.3856276816806323, -3.855512245524137, -1.732576513918982, -4.1890045610794004, -4.3537588935099105, -4.608836344092923, -0.4449958464417992, -5.284310801713428, -4.198490194214015, -2.731691798109795, -0.9291270024062743, -3.837238656561479, -4.815229183284346, -2.72009532760704, -8.134971677710826, -0.015637876487681335, -0.5667434461672506, -2.5974156089230633, -3.5971260952507382, -3.05748280490527, -1.1411569251691156, -3.3780072674195365, -0.13007826280400914, -0.43985215095737684, -1.4300570598542601, -4.375319014869688, -2.8311265704880078, -0.2619375233074912, -0.06372009967475176, -1.0871286139162004, -0.31108970632158994, -1.6644887077566437, -0.08807746245360007, -1.9400743438630461, -2.2580843037254286, -2.006157572284683, -2.7957816108173135, -0.6544235573858557, -1.3164076892285472, 0.18942313062187907, -4.0215992046425155, -3.4481472716139434, -0.7603426268320967, -0.7579688222862048, 0.1480357565056431, 0.4852393697924951, -0.5951736825818136, -0.36575619941321946, -1.7743628965254081, -0.015730535637720033, 0.43717001384519716, -1.150725634670973, 1.0773501420589964, 2.082482750137419, 0.7604362488288499, -0.6638420207823492, 1.5216417997727105, 0.6091792647268345, 0.9812635763946695, -0.5404683624591446, 1.3723206361343427, -0.13408594937814933, 0.47837923443713903, 0.4091519464231401, 1.2318169586987107, 0.6642076585248409, 0.7239140252500893, -0.7514140604936079, 2.4698810886094362, 0.8449916249756563, 0.1734507205147621, 4.539247107921884, 1.233055742490766, 0.6502448613793894, 1.304950129829887, 1.3825938094051042, 3.226442489655412, 2.4247455490702636, 1.1541327715607719, 0.1808589345272913, 1.7833817152854825, 1.367518177206538, 1.2977930582611514, 0.7566464206199197, 1.058622246892026, 2.4440610299077137, -0.14612262831924078, 0.03410410288499352, 0.41183676576954414], \"xaxis\": \"x\", \"y\": [-6.930247413110072, -4.089837236204473, -2.0080277040786543, -0.3178322209780189, -1.8318123602438776, -2.144583855856256, -1.1884306952621442, -2.7516655506498076, -4.05276157864483, -3.1357221072588097, -3.2293205626909485, -1.3105493944767235, -3.481083986813415, -0.5685588388955833, -2.911469262543516, -3.8893036371970933, -2.914177998609293, 4.604318731207838, -4.585959345592248, -0.336970780111226, -1.736905840920337, -3.3749418893048184, -2.5744149965048027, -0.7554295178662283, -1.3116177422180466, -0.4596222012335245, -0.1580311016962628, -2.215674556595818, -2.6568402930582162, -0.6363892871501211, -3.2342934914511323, -7.070061395979908, -1.9285377611375338, 8.100081577879294, -1.7817367165019045, -0.3816370681559866, -1.3359252600402005, -2.902617263626002, -2.2742151429112956, -0.640743901411213, -0.5642666393547825, -2.220657181692026, 0.7793959464793856, -1.6101709431062101, -1.4730762932482906, 2.975282573961967, -3.852078771660742, -2.716023754506968, 1.626837203964597, 0.2436010182870142, -2.9333814665819644, -0.6166762500386755, -2.752286384406582, -1.8813454311033913, -0.4816425579826278, -2.2373338644889897, 73.3251801186956, 1.3352845268399416, 0.532194617227685, -0.6187616179270625, 0.5459693356677203, -6.72390260283067, -7.111332676675098, -2.2159978937518003, -0.8883187666258228, 0.6065732902584186, -1.3015611729975287, 2.0034333176634367, -3.4235399789397043, -1.8934768214386042, -1.3684343396719902, -1.4511013668125758, -2.3213503983024943, -1.2322634011752993, 1.3983746490967757, -3.0788638259668275, -1.7295546814873763, -1.7664850154616873, -4.5226844158394774, -0.552266135931862, -2.829565839576051, -2.586457982181145, -0.3550116932235942, -4.842049294703244, -5.438890210655607, 0.011921695757325323, -2.5102051841945654, -4.119629319203629, -0.5473010451850865, -1.631077765002214, -0.5755457375199285, -1.348055625008147, -2.0145548230815793, -3.0846643153669078, 0.9527555620315549, -4.397462793467675, -2.610650827790508, -2.025374346785053, -1.2391936261898229, -3.785462972055248, -3.1059840309292985, -5.746907440582132, -4.295275655655015, -3.928812593886187, -3.2001322150681135, -0.1845784543160704, -2.2889744923390865, -0.9200788630782466, -2.579841910901896, -1.323818905875134, -2.8814215486031225, -0.7906338590562827, -0.4631288763700118, -0.8758559551331946, -0.7204838334528408, 2.4120732978859896, -6.407803667165883, -2.593709116306485, -1.4677554543352147, -2.585347602514865, -0.9182836053659478, -0.512635191933102, -4.427909244041057, 0.22938769059088435, -3.7901623232631527, -3.7996504240806788, -1.644444964407578, 5.924341059072802, 0.4331098317299564, -1.0178378379834603, -0.1536957523763644, -4.627389094070521, 0.6350945767015143, -1.4108061971118158, -0.31483001945053196, -1.5317283135199895, -0.8327315028578337, 0.18559578431418666, -0.7191080985611443, -0.3030122380633249, -0.42817363990366125, -0.9633016827677205, -0.7739430276551696, -3.813492396632183, -0.548223571500474, 0.0621369497635631, -2.7998696710337954, -3.345311479196366, -2.0621426078125475, -1.4542896607483677, -2.9012095323970586, -4.297181687602509, -3.9264102419356472, -1.5764346375481164, -3.4635207433117974, -0.7048493218371119, 1.6903652408195429, -4.494928539516364, -2.3274192546622077, -2.6872114986310494, -1.754456609981792, -0.34180590993009236, -3.5967708044148776, -2.8297787178959624, -1.700953422131037, -2.032177462690886, 0.6578954556936754, -1.7386202592258049, -1.095899826097639, -1.0411031100605528, -2.0852679759421724, -2.071903773598992, -1.7592625372177324, -2.760597813607104, 0.16518626322588, 0.2552553592363171, -1.0304373063027776, -8.467283019424944, -0.5055632590809038, -3.438858096640903, -0.8655906450852753, -1.9267413902179689, -1.0643610489085078, 0.036507492221238544, -0.24415306349707339, -0.6759984115222614, -3.236431840666962, -2.029873145727269, -1.4185076022367236, -4.484629987970358, 3.516086501709875, 1.9613422237207954, -1.408889566893546, 1.2321416006598316, 0.507455549047878, 1.8801728290055002, 1.7594967514698376, -2.5641615761436, -0.8563144738184476, 1.996582066059372, 2.857823512466547, 1.8606991507533892, 0.5512471168744579, 3.951243660624451, 3.113495526904311, -9.250983590486253, 2.7839651747292664, 3.205231141010536, 2.9170148707159314, 2.4743605057001656, 3.0187148537573028, 1.249948167815374, 3.2657286301854396, 4.918227246129458, 1.616000844510797, 1.4692233766168916, -0.17400897497510553, 2.377715459850606, 2.9938713038352005, 0.5621132360609761, 1.408979017391928, 2.506732096503097, 0.38349831781498145, 2.2756632457994357, 2.1588020151884377, 0.09634220472327434, -0.38265609863777383, 2.9484495969332922, 1.8517116514139649, 1.0736666307067286, 3.278834113190283, 2.6552631608018196, 1.9948702117869432, 4.83766371224644, 5.3222489976215375, 3.449360951800254, 3.0316849306182005, 4.050929827431919, -0.022698193284436674, 4.049294083592137, 1.0364974780930598, 2.71063568335564, 3.0659524856821196, 0.9976259196182742, 0.9155702771547414, 4.727501421155039, 2.6395068103552766, 3.16983643864089, 0.997431136676618, 1.735856290922255, 1.2779369821488298, -1.3318812821436325, 1.5829427974019665, 0.7117722880696733, -1.6841048063949535, 1.5581834742184157, -0.22486513489428073, -0.9120520345446557, 1.9631910679267415, 1.2053627445342094, 3.188388129502205, 0.6909651093441266, 1.3422120029812086, 0.5599460619768277, 1.4502994546291725, -0.9946634044759486, 0.6673161624665858, 3.5577695799287907, -0.07585853189246661, 0.6644007633110445, -0.5237218128502505, 5.516974485623725, 0.2353922087329362, 0.9313478216396429, 2.715276569744719, 2.2955406746115794, -2.5549236556787034, -0.3782777598856357, -0.9510414143675545, 2.992718933263339, 3.753938890253295, 2.093780762991959, 1.0080197096156494, 3.266612911483191, 1.0010581558645646, 2.595319472253812, 0.5085280041557931, 3.4654045717678366, -0.9890649123686456, 1.0637152863946828, 2.2886374846557, 0.15324039152465663, 2.0363640604342597, 0.6470352192048211, 2.360674488071811, 2.488140807489983, 2.1752943601171975, 3.635229034455108, 3.465335194857203, 0.8823473803234472, 1.1514346905379016, 1.777117776435011, 2.581304878092387, 2.348258263304142, 1.6617861020522302, 2.516035898739192, 3.891111568885324, 1.1419467280950655, 2.0716214730222826, 3.1438154573149255, 2.159428336765105, 2.2504425659521647, 0.07953402329088163, 1.0779356022281612, 2.437025479248642, 3.1249304030243206, 2.1900625232029007, 1.9398701509365266, 4.07059379804927, 1.1755525441160612, 0.7513129784622995, 4.151912222578855, 5.249635462615652, 1.8671941335472406, 4.129729011535568, 1.3958572391971358, 1.9261262632981895, 2.8474153497662096, 1.3600598649720892, -0.09845323680781284, 0.7529232967272195, -5.20821431874127, 2.5228223744090332, 1.7034207906942944, 1.2424477462454246, 1.9840135301934394, 2.383444712378109, 0.4388600214810081, 2.1117967287521786, 0.020250147133376473, 1.504660329208179, 0.9099913792718516, -1.8011190193791355, 1.564678431706341, 2.032465820199016, 0.6359514172587573, 2.180282211571576, 0.34542988468665964, -2.032248759139047, 1.6851019578504376, 9.809666145998875, 3.079112224048665, 0.5211996316488889, 1.3056664106757079, 2.337075812987013, 1.2226998765305035, -0.8702306598888477, -2.084368183611716, 31.92224658095941, 1.4577077399757576, -0.2333355002387627, 1.4637186560780386, -0.2504095531302815, -0.6357870854571086, 0.8728405205742339, 1.1290432160514556, -0.8812423701762154, -0.6772298739327245, -2.4804403756381497, -1.2862805868010923, 0.6174570934956022, 1.1717907022416119, -0.1643077879005947, -0.10492619029918046, -2.252843641628886, -5.098955295006588, -1.1931080849134523, -5.07105266466643, -0.5809772236367593, 1.1622199478183917, -1.8466106462753646, -1.8973727403591119, -0.48466086732546326, -0.6507045413975645, 0.19318177663420436, -0.6075949564965684, -3.3949461681990094, -3.5035507193978943, -0.6390670955583007, -2.0793093649939456, -0.6130135591364392, 0.13258714761320078, -0.8674696994023534, -5.683015836252217, -1.1835825045407986, -1.4641411657307795, -0.4473054085475449, -2.3043983340853673, 0.3479978505531683, 0.37306327641492865, -1.9628247304881756, 0.1315733555723413, -0.9883454772430941, -3.4319353802595627, 0.38926678016672, -1.2095886307275796], \"yaxis\": \"y\"}],\n",
              "                        {\"coloraxis\": {\"colorbar\": {\"title\": {\"text\": \"color\"}}, \"colorscale\": [[0.0, \"#0d0887\"], [0.1111111111111111, \"#46039f\"], [0.2222222222222222, \"#7201a8\"], [0.3333333333333333, \"#9c179e\"], [0.4444444444444444, \"#bd3786\"], [0.5555555555555556, \"#d8576b\"], [0.6666666666666666, \"#ed7953\"], [0.7777777777777778, \"#fb9f3a\"], [0.8888888888888888, \"#fdca26\"], [1.0, \"#f0f921\"]]}, \"legend\": {\"tracegroupgap\": 0}, \"template\": {\"data\": {\"bar\": [{\"error_x\": {\"color\": \"#2a3f5f\"}, \"error_y\": {\"color\": \"#2a3f5f\"}, \"marker\": {\"line\": {\"color\": \"#E5ECF6\", \"width\": 0.5}}, \"type\": \"bar\"}], \"barpolar\": [{\"marker\": {\"line\": {\"color\": \"#E5ECF6\", \"width\": 0.5}}, \"type\": \"barpolar\"}], \"carpet\": [{\"aaxis\": {\"endlinecolor\": \"#2a3f5f\", \"gridcolor\": \"white\", \"linecolor\": \"white\", \"minorgridcolor\": \"white\", \"startlinecolor\": \"#2a3f5f\"}, \"baxis\": {\"endlinecolor\": \"#2a3f5f\", \"gridcolor\": \"white\", \"linecolor\": \"white\", \"minorgridcolor\": \"white\", \"startlinecolor\": \"#2a3f5f\"}, \"type\": \"carpet\"}], \"choropleth\": [{\"colorbar\": {\"outlinewidth\": 0, \"ticks\": \"\"}, \"type\": \"choropleth\"}], \"contour\": [{\"colorbar\": {\"outlinewidth\": 0, \"ticks\": \"\"}, \"colorscale\": [[0.0, \"#0d0887\"], [0.1111111111111111, \"#46039f\"], [0.2222222222222222, \"#7201a8\"], [0.3333333333333333, \"#9c179e\"], [0.4444444444444444, \"#bd3786\"], [0.5555555555555556, \"#d8576b\"], [0.6666666666666666, \"#ed7953\"], [0.7777777777777778, \"#fb9f3a\"], [0.8888888888888888, \"#fdca26\"], [1.0, \"#f0f921\"]], \"type\": \"contour\"}], \"contourcarpet\": [{\"colorbar\": {\"outlinewidth\": 0, \"ticks\": \"\"}, \"type\": \"contourcarpet\"}], \"heatmap\": [{\"colorbar\": {\"outlinewidth\": 0, \"ticks\": \"\"}, \"colorscale\": [[0.0, \"#0d0887\"], [0.1111111111111111, \"#46039f\"], [0.2222222222222222, \"#7201a8\"], [0.3333333333333333, \"#9c179e\"], [0.4444444444444444, \"#bd3786\"], [0.5555555555555556, \"#d8576b\"], [0.6666666666666666, \"#ed7953\"], [0.7777777777777778, \"#fb9f3a\"], [0.8888888888888888, \"#fdca26\"], [1.0, \"#f0f921\"]], \"type\": \"heatmap\"}], \"heatmapgl\": [{\"colorbar\": {\"outlinewidth\": 0, \"ticks\": \"\"}, \"colorscale\": [[0.0, \"#0d0887\"], [0.1111111111111111, \"#46039f\"], [0.2222222222222222, \"#7201a8\"], [0.3333333333333333, \"#9c179e\"], [0.4444444444444444, \"#bd3786\"], [0.5555555555555556, \"#d8576b\"], [0.6666666666666666, \"#ed7953\"], [0.7777777777777778, \"#fb9f3a\"], [0.8888888888888888, \"#fdca26\"], [1.0, \"#f0f921\"]], \"type\": \"heatmapgl\"}], \"histogram\": [{\"marker\": {\"colorbar\": {\"outlinewidth\": 0, \"ticks\": \"\"}}, \"type\": \"histogram\"}], \"histogram2d\": [{\"colorbar\": {\"outlinewidth\": 0, \"ticks\": \"\"}, \"colorscale\": [[0.0, \"#0d0887\"], [0.1111111111111111, \"#46039f\"], [0.2222222222222222, \"#7201a8\"], [0.3333333333333333, \"#9c179e\"], [0.4444444444444444, \"#bd3786\"], [0.5555555555555556, \"#d8576b\"], [0.6666666666666666, \"#ed7953\"], [0.7777777777777778, \"#fb9f3a\"], [0.8888888888888888, \"#fdca26\"], [1.0, \"#f0f921\"]], \"type\": \"histogram2d\"}], \"histogram2dcontour\": [{\"colorbar\": {\"outlinewidth\": 0, \"ticks\": \"\"}, \"colorscale\": [[0.0, \"#0d0887\"], [0.1111111111111111, \"#46039f\"], [0.2222222222222222, \"#7201a8\"], [0.3333333333333333, \"#9c179e\"], [0.4444444444444444, \"#bd3786\"], [0.5555555555555556, \"#d8576b\"], [0.6666666666666666, \"#ed7953\"], [0.7777777777777778, \"#fb9f3a\"], [0.8888888888888888, \"#fdca26\"], [1.0, \"#f0f921\"]], \"type\": \"histogram2dcontour\"}], \"mesh3d\": [{\"colorbar\": {\"outlinewidth\": 0, \"ticks\": \"\"}, \"type\": \"mesh3d\"}], \"parcoords\": [{\"line\": {\"colorbar\": {\"outlinewidth\": 0, \"ticks\": \"\"}}, \"type\": \"parcoords\"}], \"pie\": [{\"automargin\": true, \"type\": \"pie\"}], \"scatter\": [{\"marker\": {\"colorbar\": {\"outlinewidth\": 0, \"ticks\": \"\"}}, \"type\": \"scatter\"}], \"scatter3d\": [{\"line\": {\"colorbar\": {\"outlinewidth\": 0, \"ticks\": \"\"}}, \"marker\": {\"colorbar\": {\"outlinewidth\": 0, \"ticks\": \"\"}}, \"type\": \"scatter3d\"}], \"scattercarpet\": [{\"marker\": {\"colorbar\": {\"outlinewidth\": 0, \"ticks\": \"\"}}, \"type\": \"scattercarpet\"}], \"scattergeo\": [{\"marker\": {\"colorbar\": {\"outlinewidth\": 0, \"ticks\": \"\"}}, \"type\": \"scattergeo\"}], \"scattergl\": [{\"marker\": {\"colorbar\": {\"outlinewidth\": 0, \"ticks\": \"\"}}, \"type\": \"scattergl\"}], \"scattermapbox\": [{\"marker\": {\"colorbar\": {\"outlinewidth\": 0, \"ticks\": \"\"}}, \"type\": \"scattermapbox\"}], \"scatterpolar\": [{\"marker\": {\"colorbar\": {\"outlinewidth\": 0, \"ticks\": \"\"}}, \"type\": \"scatterpolar\"}], \"scatterpolargl\": [{\"marker\": {\"colorbar\": {\"outlinewidth\": 0, \"ticks\": \"\"}}, \"type\": \"scatterpolargl\"}], \"scatterternary\": [{\"marker\": {\"colorbar\": {\"outlinewidth\": 0, \"ticks\": \"\"}}, \"type\": \"scatterternary\"}], \"surface\": [{\"colorbar\": {\"outlinewidth\": 0, \"ticks\": \"\"}, \"colorscale\": [[0.0, \"#0d0887\"], [0.1111111111111111, \"#46039f\"], [0.2222222222222222, \"#7201a8\"], [0.3333333333333333, \"#9c179e\"], [0.4444444444444444, \"#bd3786\"], [0.5555555555555556, \"#d8576b\"], [0.6666666666666666, \"#ed7953\"], [0.7777777777777778, \"#fb9f3a\"], [0.8888888888888888, \"#fdca26\"], [1.0, \"#f0f921\"]], \"type\": \"surface\"}], \"table\": [{\"cells\": {\"fill\": {\"color\": \"#EBF0F8\"}, \"line\": {\"color\": \"white\"}}, \"header\": {\"fill\": {\"color\": \"#C8D4E3\"}, \"line\": {\"color\": \"white\"}}, \"type\": \"table\"}]}, \"layout\": {\"annotationdefaults\": {\"arrowcolor\": \"#2a3f5f\", \"arrowhead\": 0, \"arrowwidth\": 1}, \"coloraxis\": {\"colorbar\": {\"outlinewidth\": 0, \"ticks\": \"\"}}, \"colorscale\": {\"diverging\": [[0, \"#8e0152\"], [0.1, \"#c51b7d\"], [0.2, \"#de77ae\"], [0.3, \"#f1b6da\"], [0.4, \"#fde0ef\"], [0.5, \"#f7f7f7\"], [0.6, \"#e6f5d0\"], [0.7, \"#b8e186\"], [0.8, \"#7fbc41\"], [0.9, \"#4d9221\"], [1, \"#276419\"]], \"sequential\": [[0.0, \"#0d0887\"], [0.1111111111111111, \"#46039f\"], [0.2222222222222222, \"#7201a8\"], [0.3333333333333333, \"#9c179e\"], [0.4444444444444444, \"#bd3786\"], [0.5555555555555556, \"#d8576b\"], [0.6666666666666666, \"#ed7953\"], [0.7777777777777778, \"#fb9f3a\"], [0.8888888888888888, \"#fdca26\"], [1.0, \"#f0f921\"]], \"sequentialminus\": [[0.0, \"#0d0887\"], [0.1111111111111111, \"#46039f\"], [0.2222222222222222, \"#7201a8\"], [0.3333333333333333, \"#9c179e\"], [0.4444444444444444, \"#bd3786\"], [0.5555555555555556, \"#d8576b\"], [0.6666666666666666, \"#ed7953\"], [0.7777777777777778, \"#fb9f3a\"], [0.8888888888888888, \"#fdca26\"], [1.0, \"#f0f921\"]]}, \"colorway\": [\"#636efa\", \"#EF553B\", \"#00cc96\", \"#ab63fa\", \"#FFA15A\", \"#19d3f3\", \"#FF6692\", \"#B6E880\", \"#FF97FF\", \"#FECB52\"], \"font\": {\"color\": \"#2a3f5f\"}, \"geo\": {\"bgcolor\": \"white\", \"lakecolor\": \"white\", \"landcolor\": \"#E5ECF6\", \"showlakes\": true, \"showland\": true, \"subunitcolor\": \"white\"}, \"hoverlabel\": {\"align\": \"left\"}, \"hovermode\": \"closest\", \"mapbox\": {\"style\": \"light\"}, \"paper_bgcolor\": \"white\", \"plot_bgcolor\": \"#E5ECF6\", \"polar\": {\"angularaxis\": {\"gridcolor\": \"white\", \"linecolor\": \"white\", \"ticks\": \"\"}, \"bgcolor\": \"#E5ECF6\", \"radialaxis\": {\"gridcolor\": \"white\", \"linecolor\": \"white\", \"ticks\": \"\"}}, \"scene\": {\"xaxis\": {\"backgroundcolor\": \"#E5ECF6\", \"gridcolor\": \"white\", \"gridwidth\": 2, \"linecolor\": \"white\", \"showbackground\": true, \"ticks\": \"\", \"zerolinecolor\": \"white\"}, \"yaxis\": {\"backgroundcolor\": \"#E5ECF6\", \"gridcolor\": \"white\", \"gridwidth\": 2, \"linecolor\": \"white\", \"showbackground\": true, \"ticks\": \"\", \"zerolinecolor\": \"white\"}, \"zaxis\": {\"backgroundcolor\": \"#E5ECF6\", \"gridcolor\": \"white\", \"gridwidth\": 2, \"linecolor\": \"white\", \"showbackground\": true, \"ticks\": \"\", \"zerolinecolor\": \"white\"}}, \"shapedefaults\": {\"line\": {\"color\": \"#2a3f5f\"}}, \"ternary\": {\"aaxis\": {\"gridcolor\": \"white\", \"linecolor\": \"white\", \"ticks\": \"\"}, \"baxis\": {\"gridcolor\": \"white\", \"linecolor\": \"white\", \"ticks\": \"\"}, \"bgcolor\": \"#E5ECF6\", \"caxis\": {\"gridcolor\": \"white\", \"linecolor\": \"white\", \"ticks\": \"\"}}, \"title\": {\"x\": 0.05}, \"xaxis\": {\"automargin\": true, \"gridcolor\": \"white\", \"linecolor\": \"white\", \"ticks\": \"\", \"title\": {\"standoff\": 15}, \"zerolinecolor\": \"white\", \"zerolinewidth\": 2}, \"yaxis\": {\"automargin\": true, \"gridcolor\": \"white\", \"linecolor\": \"white\", \"ticks\": \"\", \"title\": {\"standoff\": 15}, \"zerolinecolor\": \"white\", \"zerolinewidth\": 2}}}, \"title\": {\"text\": \"Projected CRC Data through PLS\"}, \"xaxis\": {\"anchor\": \"y\", \"domain\": [0.0, 1.0], \"title\": {\"text\": \"PLS Component 1\"}}, \"yaxis\": {\"anchor\": \"x\", \"domain\": [0.0, 1.0], \"title\": {\"text\": \"PLS Component 2\"}}},\n",
              "                        {\"responsive\": true}\n",
              "                    ).then(function(){\n",
              "                            \n",
              "var gd = document.getElementById('93fb520b-437f-4f99-8eca-3a3867be2daf');\n",
              "var x = new MutationObserver(function (mutations, observer) {{\n",
              "        var display = window.getComputedStyle(gd).display;\n",
              "        if (!display || display === 'none') {{\n",
              "            console.log([gd, 'removed!']);\n",
              "            Plotly.purge(gd);\n",
              "            observer.disconnect();\n",
              "        }}\n",
              "}});\n",
              "\n",
              "// Listen for the removal of the full notebook cells\n",
              "var notebookContainer = gd.closest('#notebook-container');\n",
              "if (notebookContainer) {{\n",
              "    x.observe(notebookContainer, {childList: true});\n",
              "}}\n",
              "\n",
              "// Listen for the clearing of the current output cell\n",
              "var outputEl = gd.closest('.output');\n",
              "if (outputEl) {{\n",
              "    x.observe(outputEl, {childList: true});\n",
              "}}\n",
              "\n",
              "                        })\n",
              "                };\n",
              "                \n",
              "            </script>\n",
              "        </div>\n",
              "</body>\n",
              "</html>"
            ]
          },
          "metadata": {
            "tags": []
          }
        }
      ]
    },
    {
      "cell_type": "code",
      "metadata": {
        "colab": {
          "base_uri": "https://localhost:8080/"
        },
        "id": "ReAvpdJvsQN9",
        "outputId": "9bb87f8c-1507-4ff1-bc93-12bcbb2f5a44"
      },
      "source": [
        "plsda.fit(X_train,y_train)\n",
        "y_score = plsda.predict(X_test)\n",
        "fpr, tpr, thresholds = m.roc_curve(y_test, y_score)\n",
        "roc_auc = m.auc(fpr, tpr)\n",
        "#display = m.RocCurveDisplay(fpr=fpr, tpr=tpr, roc_auc=roc_auc, estimator_name=None)\n",
        "#display.plot()\n",
        "#plt.title('ROC Curve')\n",
        "y_pred = []\n",
        "for i in range(len(y_score)):\n",
        "  if y_score[i] > .5:\n",
        "    y_pred.append(1)\n",
        "  else:\n",
        "    y_pred.append(0)\n",
        "print(\"Recall: \", m.recall_score(y_test,y_pred))\n",
        "tn, fp, fn, tp = m.confusion_matrix(y_test, y_pred).ravel()\n",
        "print(\"Specificity\", tn/(tn+fp))\n",
        "print(\"Precision: \", m.precision_score(y_test,y_pred))\n",
        "print(\"Accuracy: \", m.accuracy_score(y_test,y_pred))\n",
        "print(\"F1 Score: \", m.f1_score(y_test,y_pred))\n",
        "print(\"AUC: \", m.roc_auc_score(y_test,y_score))"
      ],
      "execution_count": null,
      "outputs": [
        {
          "output_type": "stream",
          "text": [
            "Recall:  0.8392857142857143\n",
            "Specificity 0.8636363636363636\n",
            "Precision:  0.8392857142857143\n",
            "Accuracy:  0.8524590163934426\n",
            "F1 Score:  0.8392857142857143\n",
            "AUC:  0.9234307359307359\n"
          ],
          "name": "stdout"
        }
      ]
    },
    {
      "cell_type": "code",
      "metadata": {
        "colab": {
          "base_uri": "https://localhost:8080/"
        },
        "id": "JMnyosR-hajM",
        "outputId": "0bdff019-1450-4669-ac17-b9db5bf8a1d1"
      },
      "source": [
        "from sklearn.ensemble import AdaBoostClassifier\n",
        "clf = AdaBoostClassifier(n_estimators=100, random_state=0)\n",
        "clf.fit(X_train, y_train)\n",
        "clf.score(X_test, y_test)\n",
        "y_score = clf.predict_proba(X_test)[:,1]\n",
        "y_pred = clf.predict(X_test)\n",
        "print(\"Recall: \", m.recall_score(y_test,y_pred))\n",
        "tn, fp, fn, tp = m.confusion_matrix(y_test, y_pred).ravel()\n",
        "print(\"Specificity\", tn/(tn+fp))\n",
        "print(\"Precision: \", m.precision_score(y_test,y_pred))\n",
        "print(\"Accuracy: \", m.accuracy_score(y_test,y_pred))\n",
        "print(\"F1 Score: \", m.f1_score(y_test,y_pred))\n",
        "print(\"AUC: \", m.roc_auc_score(y_test,y_score))"
      ],
      "execution_count": null,
      "outputs": [
        {
          "output_type": "stream",
          "text": [
            "Recall:  0.9285714285714286\n",
            "Specificity 0.9696969696969697\n",
            "Precision:  0.9629629629629629\n",
            "Accuracy:  0.9508196721311475\n",
            "F1 Score:  0.9454545454545454\n",
            "AUC:  0.9875541125541125\n"
          ],
          "name": "stdout"
        }
      ]
    },
    {
      "cell_type": "code",
      "metadata": {
        "colab": {
          "base_uri": "https://localhost:8080/",
          "height": 295
        },
        "id": "y4TWoYZ-sydC",
        "outputId": "10f1270b-d319-4a01-d6dd-97bce973b68c"
      },
      "source": [
        "precision, recall, thresholds = m.precision_recall_curve(y_test, y_score)\n",
        "pre_rec = m.average_precision_score(y_test, y_score)\n",
        "display = m.PrecisionRecallDisplay(precision=precision, recall=recall, average_precision=pre_rec, estimator_name=None)\n",
        "display.plot()\n",
        "plt.title('Precision Recall Curve')\n",
        "plt.show()"
      ],
      "execution_count": null,
      "outputs": [
        {
          "output_type": "display_data",
          "data": {
            "image/png": "[encoded data removed]",
            "text/plain": [
              "<Figure size 432x288 with 1 Axes>"
            ]
          },
          "metadata": {
            "tags": [],
            "needs_background": "light"
          }
        }
      ]
    },
    {
      "cell_type": "code",
      "metadata": {
        "colab": {
          "base_uri": "https://localhost:8080/",
          "height": 279
        },
        "id": "wmGmaOOlxdKn",
        "outputId": "8791c5c9-0b9a-444d-fe78-e1d1f28e3ada"
      },
      "source": [
        "ax = plt.gca()\n",
        "rfc_disp = m.plot_roc_curve(clf, X_test, y_test, ax=ax, alpha=0.8)\n",
        "plt.show()"
      ],
      "execution_count": null,
      "outputs": [
        {
          "output_type": "display_data",
          "data": {
            "image/png": "[encoded data removed]",
            "text/plain": [
              "<Figure size 432x288 with 1 Axes>"
            ]
          },
          "metadata": {
            "tags": [],
            "needs_background": "light"
          }
        }
      ]
    },
    {
      "cell_type": "code",
      "metadata": {
        "id": "SU-fzlXtnK7p"
      },
      "source": [
        "y_pls = y_train.astype('int')"
      ],
      "execution_count": null,
      "outputs": []
    },
    {
      "cell_type": "code",
      "metadata": {
        "id": "fV8VSmp3m2Dw"
      },
      "source": [
        "b = np.zeros((y_pls.size, y_pls.max()+1))\n",
        "b[np.arange(y_pls.size),y_pls] = 1"
      ],
      "execution_count": null,
      "outputs": []
    },
    {
      "cell_type": "code",
      "metadata": {
        "colab": {
          "base_uri": "https://localhost:8080/"
        },
        "id": "i9mPJVyniQqD",
        "outputId": "e75b4eaa-2a97-418e-9de3-5c598a9e33ad"
      },
      "source": [
        "from sklearn.neural_network import MLPClassifier\n",
        "acc = 0\n",
        "#for i in range(10):\n",
        "mlp = MLPClassifier(hidden_layer_sizes=[150,50,10],learning_rate='adaptive',max_iter=500,n_iter_no_change=20,alpha=.1)\n",
        "mlp.fit(X_train,y_train)\n",
        "acc = mlp.score(X_test,y_test)\n",
        "acc\n",
        "#  if (acc > .8):\n",
        "#    break"
      ],
      "execution_count": null,
      "outputs": [
        {
          "output_type": "execute_result",
          "data": {
            "text/plain": [
              "0.8360655737704918"
            ]
          },
          "metadata": {
            "tags": []
          },
          "execution_count": 42
        }
      ]
    },
    {
      "cell_type": "code",
      "metadata": {
        "colab": {
          "base_uri": "https://localhost:8080/"
        },
        "id": "3Zo9vAU2q-Ak",
        "outputId": "4aac42be-76c2-464a-9c9f-66c26dd33c15"
      },
      "source": [
        "import sklearn.metrics as m\n",
        "y_score = mlp.predict_proba(X_test)[:,1]\n",
        "y_pred = mlp.predict(X_test)\n",
        "print(\"Recall: \", m.recall_score(y_test,y_pred))\n",
        "tn, fp, fn, tp = m.confusion_matrix(y_test, y_pred).ravel()\n",
        "print(\"Specificity\", tn/(tn+fp))\n",
        "print(\"Precision: \", m.precision_score(y_test,y_pred))\n",
        "print(\"Accuracy: \", m.accuracy_score(y_test,y_pred))\n",
        "print(\"F1 Score: \", m.f1_score(y_test,y_pred))\n",
        "print(\"AUC: \", m.roc_auc_score(y_test,y_score))"
      ],
      "execution_count": null,
      "outputs": [
        {
          "output_type": "stream",
          "text": [
            "Recall:  0.8333333333333334\n",
            "Specificity 0.8648648648648649\n",
            "Precision:  0.8\n",
            "Accuracy:  0.8524590163934426\n",
            "F1 Score:  0.816326530612245\n",
            "AUC:  0.90990990990991\n"
          ],
          "name": "stdout"
        }
      ]
    },
    {
      "cell_type": "code",
      "metadata": {
        "colab": {
          "base_uri": "https://localhost:8080/",
          "height": 279
        },
        "id": "xueYf2gbWstB",
        "outputId": "962e4ecb-2fb2-48b6-f496-1a41cd5c8377"
      },
      "source": [
        "ax = plt.gca()\n",
        "rfc_disp = m.plot_roc_curve(clf, X_test, y_test, ax=ax, alpha=1)\n",
        "plt.show()"
      ],
      "execution_count": null,
      "outputs": [
        {
          "output_type": "display_data",
          "data": {
            "image/png": "[encoded data removed]",
            "text/plain": [
              "<Figure size 432x288 with 1 Axes>"
            ]
          },
          "metadata": {
            "tags": [],
            "needs_background": "light"
          }
        }
      ]
    },
    {
      "cell_type": "code",
      "metadata": {
        "colab": {
          "base_uri": "https://localhost:8080/",
          "height": 279
        },
        "id": "Jv6o77-Mu8bN",
        "outputId": "3bc54f60-1c3d-417d-99e0-80506d2143c3"
      },
      "source": [
        "ax = plt.gca()\n",
        "rfc_disp = m.plot_precision_recall_curve(clf, X_test,y_test,ax=ax, alpha=1)\n",
        "plt.show()"
      ],
      "execution_count": null,
      "outputs": [
        {
          "output_type": "display_data",
          "data": {
            "image/png": "[encoded data removed]",
            "text/plain": [
              "<Figure size 432x288 with 1 Axes>"
            ]
          },
          "metadata": {
            "tags": [],
            "needs_background": "light"
          }
        }
      ]
    },
    {
      "cell_type": "code",
      "metadata": {
        "colab": {
          "base_uri": "https://localhost:8080/"
        },
        "id": "UPPwyedKjLrm",
        "outputId": "79610be8-f863-4c89-9e81-97eff1842a57"
      },
      "source": [
        "from sklearn.svm import SVC\n",
        "svc = SVC(kernel='linear')\n",
        "svc.fit(X_train,y_train)\n",
        "svc.score(X_test,y_test)"
      ],
      "execution_count": null,
      "outputs": [
        {
          "output_type": "execute_result",
          "data": {
            "text/plain": [
              "0.8524590163934426"
            ]
          },
          "metadata": {
            "tags": []
          },
          "execution_count": 175
        }
      ]
    },
    {
      "cell_type": "code",
      "metadata": {
        "colab": {
          "base_uri": "https://localhost:8080/"
        },
        "id": "xqeOdJtJrVmi",
        "outputId": "166fb4b9-18dc-443c-a1a9-69f55e644577"
      },
      "source": [
        "y_score = svc.decision_function(X_test)\n",
        "y_pred = svc.predict(X_test)\n",
        "print(\"Recall: \", m.recall_score(y_test,y_pred))\n",
        "tn, fp, fn, tp = m.confusion_matrix(y_test, y_pred).ravel()\n",
        "print(\"Specificity\", tn/(tn+fp))\n",
        "print(\"Precision: \", m.precision_score(y_test,y_pred))\n",
        "print(\"Accuracy: \", m.accuracy_score(y_test,y_pred))\n",
        "print(\"F1 Score: \", m.f1_score(y_test,y_pred))\n",
        "print(\"AUC: \", m.roc_auc_score(y_test,y_score))"
      ],
      "execution_count": null,
      "outputs": [
        {
          "output_type": "stream",
          "text": [
            "Recall:  0.875\n",
            "Specificity 0.8333333333333334\n",
            "Precision:  0.8166666666666667\n",
            "Accuracy:  0.8524590163934426\n",
            "F1 Score:  0.8448275862068966\n",
            "AUC:  0.9155844155844156\n"
          ],
          "name": "stdout"
        }
      ]
    },
    {
      "cell_type": "code",
      "metadata": {
        "colab": {
          "base_uri": "https://localhost:8080/",
          "height": 279
        },
        "id": "qA5vb2evUFs1",
        "outputId": "7be2792a-22e6-4397-fd51-115a842e6ef5"
      },
      "source": [
        "ax = plt.gca()\n",
        "rfc_disp = m.plot_roc_curve(svc, X_test, y_test, ax=ax, alpha=1)\n",
        "plt.show()"
      ],
      "execution_count": null,
      "outputs": [
        {
          "output_type": "display_data",
          "data": {
            "image/png": "[encoded data removed]",
            "text/plain": [
              "<Figure size 432x288 with 1 Axes>"
            ]
          },
          "metadata": {
            "tags": [],
            "needs_background": "light"
          }
        }
      ]
    },
    {
      "cell_type": "code",
      "metadata": {
        "colab": {
          "base_uri": "https://localhost:8080/",
          "height": 279
        },
        "id": "DTYb7hbrvP_3",
        "outputId": "f9efa3af-361b-46db-ec55-0b183284cf3d"
      },
      "source": [
        "ax = plt.gca()\n",
        "rfc_disp = m.plot_precision_recall_curve(svc, X_test, y_test, ax=ax, alpha=1)\n",
        "plt.show()"
      ],
      "execution_count": null,
      "outputs": [
        {
          "output_type": "display_data",
          "data": {
            "image/png": "[encoded data removed]",
            "text/plain": [
              "<Figure size 432x288 with 1 Axes>"
            ]
          },
          "metadata": {
            "tags": [],
            "needs_background": "light"
          }
        }
      ]
    },
    {
      "cell_type": "code",
      "metadata": {
        "colab": {
          "base_uri": "https://localhost:8080/"
        },
        "id": "Nq5_X3_AmRc-",
        "outputId": "8609f430-eb98-49aa-c32e-59bf7b3608f5"
      },
      "source": [
        "svc_r = SVC(kernel='rbf',C=3)\n",
        "svc_r.fit(X_train,y_train)\n",
        "svc_r.score(X_test,y_test)\n",
        "y_score = svc_r.decision_function(X_test)\n",
        "y_pred = svc_r.predict(X_test)\n",
        "print(\"Recall: \", m.recall_score(y_test,y_pred))\n",
        "tn, fp, fn, tp = m.confusion_matrix(y_test, y_pred).ravel()\n",
        "print(\"Specificity\", tn/(tn+fp))\n",
        "print(\"Precision: \", m.precision_score(y_test,y_pred))\n",
        "print(\"Accuracy: \", m.accuracy_score(y_test,y_pred))\n",
        "print(\"F1 Score: \", m.f1_score(y_test,y_pred))\n",
        "print(\"AUC: \", m.roc_auc_score(y_test,y_score))"
      ],
      "execution_count": null,
      "outputs": [
        {
          "output_type": "stream",
          "text": [
            "Recall:  0.7321428571428571\n",
            "Specificity 0.8787878787878788\n",
            "Precision:  0.8367346938775511\n",
            "Accuracy:  0.8114754098360656\n",
            "F1 Score:  0.7809523809523811\n",
            "AUC:  0.9283008658008658\n"
          ],
          "name": "stdout"
        }
      ]
    },
    {
      "cell_type": "code",
      "metadata": {
        "colab": {
          "base_uri": "https://localhost:8080/",
          "height": 279
        },
        "id": "NWi1Y42DUKQV",
        "outputId": "ff1b16c3-f9bd-48bc-a99e-8ff04dcad4a2"
      },
      "source": [
        "ax = plt.gca()\n",
        "rfc_disp = m.plot_roc_curve(svc_r, X_test, y_test, ax=ax)\n",
        "plt.show()"
      ],
      "execution_count": null,
      "outputs": [
        {
          "output_type": "display_data",
          "data": {
            "image/png": "[encoded data removed]",
            "text/plain": [
              "<Figure size 432x288 with 1 Axes>"
            ]
          },
          "metadata": {
            "tags": [],
            "needs_background": "light"
          }
        }
      ]
    },
    {
      "cell_type": "code",
      "metadata": {
        "colab": {
          "base_uri": "https://localhost:8080/",
          "height": 279
        },
        "id": "JutM2SAUvWhh",
        "outputId": "a9a3e102-5383-4673-9f2d-c83c5d0ba27e"
      },
      "source": [
        "ax = plt.gca()\n",
        "rfc_disp = m.plot_precision_recall_curve(svc, X_test, y_test, ax=ax)\n",
        "plt.show()"
      ],
      "execution_count": null,
      "outputs": [
        {
          "output_type": "display_data",
          "data": {
            "image/png": "[encoded data removed]",
            "text/plain": [
              "<Figure size 432x288 with 1 Axes>"
            ]
          },
          "metadata": {
            "tags": [],
            "needs_background": "light"
          }
        }
      ]
    },
    {
      "cell_type": "code",
      "metadata": {
        "colab": {
          "base_uri": "https://localhost:8080/"
        },
        "id": "w8M-zBZgj7yR",
        "outputId": "809a42b2-57e3-46f7-edcc-566eb1480162"
      },
      "source": [
        "from sklearn.ensemble import RandomForestClassifier\n",
        "rfc = RandomForestClassifier(n_estimators=100, criterion='gini',max_depth=10)\n",
        "rfc.fit(X_train,y_train)\n",
        "rfc.score(X_test,y_test)"
      ],
      "execution_count": null,
      "outputs": [
        {
          "output_type": "execute_result",
          "data": {
            "text/plain": [
              "0.9344262295081968"
            ]
          },
          "metadata": {
            "tags": []
          },
          "execution_count": 210
        }
      ]
    },
    {
      "cell_type": "code",
      "metadata": {
        "colab": {
          "base_uri": "https://localhost:8080/"
        },
        "id": "W6QZsy5FsiO0",
        "outputId": "be492753-11f2-4c1b-c6b8-30d5bf6c4557"
      },
      "source": [
        "y_score = rfc.predict_proba(X_test)[:,1]\n",
        "y_pred = rfc.predict(X_test)\n",
        "print(\"Recall: \", m.recall_score(y_test,y_pred))\n",
        "tn, fp, fn, tp = m.confusion_matrix(y_test, y_pred).ravel()\n",
        "print(\"Specificity\", tn/(tn+fp))\n",
        "print(\"Precision: \", m.precision_score(y_test,y_pred))\n",
        "print(\"Accuracy: \", m.accuracy_score(y_test,y_pred))\n",
        "print(\"F1 Score: \", m.f1_score(y_test,y_pred))\n",
        "print(\"AUC: \", m.roc_auc_score(y_test,y_score))"
      ],
      "execution_count": null,
      "outputs": [
        {
          "output_type": "stream",
          "text": [
            "Recall:  0.9107142857142857\n",
            "Specificity 0.9545454545454546\n",
            "Precision:  0.9444444444444444\n",
            "Accuracy:  0.9344262295081968\n",
            "F1 Score:  0.9272727272727271\n",
            "AUC:  0.9672619047619048\n"
          ],
          "name": "stdout"
        }
      ]
    },
    {
      "cell_type": "code",
      "metadata": {
        "colab": {
          "base_uri": "https://localhost:8080/",
          "height": 279
        },
        "id": "9UmvzRy3U6I8",
        "outputId": "1e349c3d-ef68-4b58-8ec4-727b9391581d"
      },
      "source": [
        "ax = plt.gca()\n",
        "rfc_disp = m.plot_roc_curve(rfc, X_test, y_test, ax=ax)\n",
        "plt.show()"
      ],
      "execution_count": null,
      "outputs": [
        {
          "output_type": "display_data",
          "data": {
            "image/png": "[encoded data removed]",
            "text/plain": [
              "<Figure size 432x288 with 1 Axes>"
            ]
          },
          "metadata": {
            "tags": [],
            "needs_background": "light"
          }
        }
      ]
    },
    {
      "cell_type": "code",
      "metadata": {
        "colab": {
          "base_uri": "https://localhost:8080/",
          "height": 279
        },
        "id": "busDK1Zhvbch",
        "outputId": "7eba3d83-93c2-4176-ad4f-99b03b3de1f6"
      },
      "source": [
        "ax = plt.gca()\n",
        "rfc_disp = m.plot_precision_recall_curve(rfc, X_test, y_test, ax=ax)\n",
        "plt.show()"
      ],
      "execution_count": null,
      "outputs": [
        {
          "output_type": "display_data",
          "data": {
            "image/png": "[encoded data removed]",
            "text/plain": [
              "<Figure size 432x288 with 1 Axes>"
            ]
          },
          "metadata": {
            "tags": [],
            "needs_background": "light"
          }
        }
      ]
    },
    {
      "cell_type": "code",
      "metadata": {
        "colab": {
          "base_uri": "https://localhost:8080/"
        },
        "id": "Y3ixm1Qst1PM",
        "outputId": "acac6d77-f8c1-4f54-fef0-383e254b17c1"
      },
      "source": [
        "y_score = model.predict(X_test_c)\n",
        "y_pred = []\n",
        "for i in range(len(y_score)):\n",
        "  if y_score[i] > .5:\n",
        "    y_pred.append(1)\n",
        "  else:\n",
        "    y_pred.append(0)"
      ],
      "execution_count": null,
      "outputs": [
        {
          "output_type": "stream",
          "text": [
            "INFO:tensorflow:Restoring parameters from /content/metabolite-GCNN/../checkpoints/PPI/Run1/model-500\n"
          ],
          "name": "stdout"
        }
      ]
    },
    {
      "cell_type": "code",
      "metadata": {
        "colab": {
          "base_uri": "https://localhost:8080/"
        },
        "id": "TeGCezKrtwDy",
        "outputId": "d1573605-3a76-4bcd-e08d-9d58cbb3be96"
      },
      "source": [
        "print(\"Recall: \", m.recall_score(y_test,y_pred))\n",
        "tn, fp, fn, tp = m.confusion_matrix(y_test, y_pred).ravel()\n",
        "print(\"Specificity\", tn/(tn+fp))\n",
        "print(\"Precision: \", m.precision_score(y_test,y_pred))\n",
        "print(\"Accuracy: \", m.accuracy_score(y_test,y_pred))\n",
        "print(\"F1 Score: \", m.f1_score(y_test,y_pred))\n",
        "print(\"AUC: \", m.roc_auc_score(y_test,y_score))"
      ],
      "execution_count": null,
      "outputs": [
        {
          "output_type": "stream",
          "text": [
            "Recall:  0.9107142857142857\n",
            "Specificity 0.9696969696969697\n",
            "Precision:  0.9622641509433962\n",
            "Accuracy:  0.9426229508196722\n",
            "F1 Score:  0.9357798165137615\n",
            "AUC:  0.9916125541125541\n"
          ],
          "name": "stdout"
        }
      ]
    },
    {
      "cell_type": "code",
      "metadata": {
        "colab": {
          "base_uri": "https://localhost:8080/"
        },
        "id": "bi3VOQYCw_-4",
        "outputId": "54314cb9-0e12-4c52-af30-7aed4f75c5e8"
      },
      "source": [
        "Y_score = np.zeros(shape=[122,7])\n",
        "#Y_score[:,0] = clf.decision_function(X_test)\n",
        "Y_score[:,0] = mlp.predict_proba(X_test)[:,1]\n",
        "Y_score[:,1] = svc.decision_function(X_test)\n",
        "Y_score[:,2] = svc_r.decision_function(X_test)\n",
        "Y_score[:,3] = rfc.predict_proba(X_test)[:,1]\n",
        "Y_score[:,4] = plsda.predict(X_test)[:,0]\n",
        "Y_score[:,5] = model.predict(X_test_c)\n"
      ],
      "execution_count": null,
      "outputs": [
        {
          "output_type": "stream",
          "text": [
            "INFO:tensorflow:Restoring parameters from /content/metabolite-GCNN/../checkpoints/PPI/Run1/model-500\n"
          ],
          "name": "stdout"
        }
      ]
    },
    {
      "cell_type": "code",
      "metadata": {
        "colab": {
          "base_uri": "https://localhost:8080/",
          "height": 602
        },
        "id": "unSti2HGv7R_",
        "outputId": "558fc250-1433-40eb-8da7-4324e5b46d04"
      },
      "source": [
        "from itertools import cycle\n",
        "# setup plot details\n",
        "colors = cycle(['navy', 'turquoise', 'darkorange', 'teal', 'green', 'red'])\n",
        "plt.figure(figsize=(8, 8))\n",
        "f_scores = np.linspace(0.2, 0.8, num=4)\n",
        "lines = []\n",
        "labels = []\n",
        "\n",
        "\n",
        "precision = dict()\n",
        "recall = dict()\n",
        "average_precision = dict()\n",
        "list_of_classifiers = [clf, mlp, svc, svc_r, rfc]\n",
        "for i in range(7):\n",
        "    precision[i], recall[i], _ = m.precision_recall_curve(y_test,\n",
        "                                                        Y_score[:, i])\n",
        "    average_precision[i] = m.average_precision_score(y_test, Y_score[:, i])\n",
        "\n",
        "list_of_classifiers = [\"MLP\",\"Linear SVM\",\"RBF SVM\", \"RFC\", \"PLSDA\",\"GCN\"]\n",
        "for i, color in zip(range(6), colors):\n",
        "    l, = plt.plot(recall[i], precision[i], color=color, lw=2)\n",
        "    lines.append(l)\n",
        "    labels.append('Precision-recall for class {0} (area = {1:0.4f})'\n",
        "                  ''.format(list_of_classifiers[i], average_precision[i]))\n",
        "\n",
        "fig = plt.gcf()\n",
        "fig.subplots_adjust(bottom=0.25)\n",
        "plt.xlim([0.0, 1.0])\n",
        "plt.ylim([0.0, 1.05])\n",
        "plt.xlabel('Recall')\n",
        "plt.ylabel('Precision')\n",
        "plt.title('Comparison of Precision-Recall curves of Classifiers')\n",
        "plt.legend(lines, labels, loc=(0, -.53), prop=dict(size=14))\n",
        "\n",
        "\n",
        "plt.show()"
      ],
      "execution_count": null,
      "outputs": [
        {
          "output_type": "display_data",
          "data": {
            "image/png": "[encoded data removed]",
            "text/plain": [
              "<Figure size 576x576 with 1 Axes>"
            ]
          },
          "metadata": {
            "tags": [],
            "needs_background": "light"
          }
        }
      ]
    },
    {
      "cell_type": "code",
      "metadata": {
        "colab": {
          "base_uri": "https://localhost:8080/",
          "height": 602
        },
        "id": "InpqO3UmQd-e",
        "outputId": "bfa5757e-7b80-4446-b7d0-7a5f244ca8ad"
      },
      "source": [
        "colors = cycle(['navy', 'turquoise', 'darkorange', 'teal', 'green', 'red'])\n",
        "plt.figure(figsize=(8, 8))\n",
        "lines = []\n",
        "labels = []\n",
        "\n",
        "\n",
        "fpr = dict()\n",
        "tpr = dict()\n",
        "auc = dict()\n",
        "list_of_classifiers = [clf, mlp, svc, svc_r, rfc]\n",
        "for i in range(6):\n",
        "    fpr[i], tpr[i], _ = m.roc_curve(y_test, Y_score[:, i])\n",
        "    auc[i] = m.roc_auc_score(y_test, Y_score[:, i])\n",
        "\n",
        "list_of_classifiers = [\"MLP\",\"Linear SVM\",\"RBF SVM\", \"RFC\", \"PLSDA\",\"GCN\"]\n",
        "for i, color in zip(range(6), colors):\n",
        "    l, = plt.plot(fpr[i], tpr[i], color=color, lw=2)\n",
        "    lines.append(l)\n",
        "    labels.append('AUC for class {0} (area = {1:0.4f})'\n",
        "                  ''.format(list_of_classifiers[i], auc[i]))\n",
        "\n",
        "fig = plt.gcf()\n",
        "fig.subplots_adjust(bottom=0.25)\n",
        "plt.xlim([0.0, 1.0])\n",
        "plt.ylim([0.0, 1.05])\n",
        "plt.xlabel('False Positive Rate')\n",
        "plt.ylabel('True Positive Rate')\n",
        "plt.title('AUROC comparison of Classifiers')\n",
        "plt.legend(lines, labels, loc=(0, -.53), prop=dict(size=14))\n",
        "\n",
        "\n",
        "plt.show()"
      ],
      "execution_count": null,
      "outputs": [
        {
          "output_type": "display_data",
          "data": {
            "image/png": "[encoded data removed]",
            "text/plain": [
              "<Figure size 576x576 with 1 Axes>"
            ]
          },
          "metadata": {
            "tags": [],
            "needs_background": "light"
          }
        }
      ]
    }
  ]
}